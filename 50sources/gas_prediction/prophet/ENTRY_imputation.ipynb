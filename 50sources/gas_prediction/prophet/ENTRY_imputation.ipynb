{
 "cells": [
  {
   "cell_type": "code",
   "execution_count": 5,
   "metadata": {
    "collapsed": true
   },
   "outputs": [],
   "source": [
    "import pandas as pd\n",
    "import prophet as pr\n",
    "import matplotlib.pyplot as plt\n",
    "from prophet.plot import add_changepoints_to_plot"
   ]
  },
  {
   "cell_type": "code",
   "execution_count": 6,
   "outputs": [],
   "source": [
    "import warnings\n",
    "warnings.filterwarnings('ignore')"
   ],
   "metadata": {
    "collapsed": false,
    "pycharm": {
     "name": "#%%\n"
    }
   }
  },
  {
   "cell_type": "code",
   "execution_count": 7,
   "outputs": [],
   "source": [
    "%cd -q ../..\n",
    "from utils import util\n",
    "from utils import executor\n",
    "from utils import metrics\n",
    "%cd -q -"
   ],
   "metadata": {
    "collapsed": false,
    "pycharm": {
     "name": "#%%\n"
    }
   }
  },
  {
   "cell_type": "code",
   "execution_count": 8,
   "outputs": [],
   "source": [
    "manager=executor.GasModelManager()\n",
    "slots=manager.get_slots()\n",
    "df_gesamt=manager.df_gesamt[0:365*2]"
   ],
   "metadata": {
    "collapsed": false,
    "pycharm": {
     "name": "#%%\n"
    }
   }
  },
  {
   "cell_type": "code",
   "execution_count": 9,
   "outputs": [],
   "source": [
    "fold=0\n",
    "target='ENTRY'\n",
    "#start='2012-05-01'"
   ],
   "metadata": {
    "collapsed": false,
    "pycharm": {
     "name": "#%%\n"
    }
   }
  },
  {
   "cell_type": "code",
   "execution_count": 10,
   "outputs": [],
   "source": [
    "def format_df(df,target):\n",
    "    df['ds']=df.index\n",
    "    df['y']=df[target]\n",
    "    return df"
   ],
   "metadata": {
    "collapsed": false,
    "pycharm": {
     "name": "#%%\n"
    }
   }
  },
  {
   "cell_type": "code",
   "execution_count": 11,
   "outputs": [],
   "source": [
    "df_mod=format_df(df_gesamt,target)"
   ],
   "metadata": {
    "collapsed": false,
    "pycharm": {
     "name": "#%%\n"
    }
   }
  },
  {
   "cell_type": "code",
   "execution_count": 12,
   "outputs": [],
   "source": [
    "def is_winter(ds):\n",
    "    date = pd.to_datetime(ds)\n",
    "    return (date.month > 11 or date.month < 2)\n",
    "\n",
    "df_mod['winter_season'] = df_mod['ds'].apply(is_winter)\n",
    "df_mod['summer_season'] = ~df_mod['ds'].apply(is_winter)"
   ],
   "metadata": {
    "collapsed": false,
    "pycharm": {
     "name": "#%%\n"
    }
   }
  },
  {
   "cell_type": "code",
   "execution_count": 13,
   "outputs": [],
   "source": [
    "def init_prophet():\n",
    "\n",
    "    changepoint_prior_scale = 0.01 # Decreasing it will make the trend less flexible, DEFAULT=0.05\n",
    "    seasonality_prior_scale=10 #large value allows the seasonality to fit large fluctuations [0.01, 10], DEFAULT=10\n",
    "    holidays_prior_scale=10 #[0.01, 10] DEFAULT=10\n",
    "    monthly_prior_scale=20\n",
    "    seasonality_mode='additive' # DEFAULT='additive'\n",
    "\n",
    "    yearly_seasonality_s=10 #increased when the seasonality needs to fit higher-frequency changes, DEFAULT=10\n",
    "    weekly_seasonality=10\n",
    "    monthly_seasonality=10\n",
    "    mcmc_samples=0 # uncertainty in seasonality, you must do full Bayesian sampling, DEFAULT=0\n",
    "    growth='linear' # DEFAULT='linear'\n",
    "\n",
    "    extra_prior=10\n",
    "    extra_seasonality=60\n",
    "\n",
    "    #m=pr.Prophet(yearly_seasonality=True,growth='linear')\n",
    "    m=pr.Prophet(yearly_seasonality=yearly_seasonality_s,weekly_seasonality=weekly_seasonality,growth=growth, changepoint_prior_scale=changepoint_prior_scale,holidays_prior_scale=holidays_prior_scale,seasonality_prior_scale=seasonality_prior_scale,seasonality_mode=seasonality_mode, mcmc_samples=mcmc_samples)\n",
    "\n",
    "    m.add_seasonality(name='monthly', period=30.5, fourier_order=monthly_seasonality,mode=seasonality_mode, prior_scale=monthly_prior_scale)\n",
    "\n",
    "    m.add_regressor('SLP',prior_scale=5,mode='additive')\n",
    "\n",
    "    for i in ['tavg_mean', 'tavg_std', 'tmin_mean','tmin_std', 'tmax_mean', 'tmax_std', 'prcp_mean', 'prcp_std','snow_mean', 'snow_std', 'wdir_mean', 'wdir_std', 'wspd_mean','wspd_std', 'wpgt_mean', 'wpgt_std', 'pres_mean', 'pres_std','tsun_mean', 'tsun_std']:\n",
    "        m.add_regressor(i,prior_scale=1,mode='multiplicative')\n",
    "\n",
    "    #m.add_seasonality(name='winter_season', period=7, fourier_order=extra_seasonality,mode=seasonality_mode, prior_scale=extra_prior, condition_name='winter_season')\n",
    "    #m.add_seasonality(name='summer_season', period=30.5, fourier_order=extra_seasonality,mode=seasonality_mode, prior_scale=extra_prior, condition_name='summer_season')\n",
    "\n",
    "    m.add_country_holidays(country_name='DE')\n",
    "    return m"
   ],
   "metadata": {
    "collapsed": false,
    "pycharm": {
     "name": "#%%\n"
    }
   }
  },
  {
   "cell_type": "code",
   "execution_count": 14,
   "outputs": [
    {
     "name": "stdout",
     "output_type": "stream",
     "text": [
      "Train dates are from \"2011-10-01 00:00:00\" to \"2012-10-24 00:00:00\", 390 elements\n"
     ]
    },
    {
     "name": "stderr",
     "output_type": "stream",
     "text": [
      "INFO:prophet:Disabling daily seasonality. Run prophet with daily_seasonality=True to override this.\n",
      "INFO:prophet:Disabling daily seasonality. Run prophet with daily_seasonality=True to override this.\n"
     ]
    },
    {
     "name": "stdout",
     "output_type": "stream",
     "text": [
      "Train dates are from \"2011-10-01 00:00:00\" to \"2012-11-23 00:00:00\", 420 elements\n"
     ]
    }
   ],
   "source": [
    "make_imputation=True\n",
    "\n",
    "imputed=[]\n",
    "past=[]\n",
    "\n",
    "#k=2\n",
    "k=len(slots)\n",
    "\n",
    "if make_imputation is True:\n",
    "    for i in range(k):\n",
    "        train_df=format_df(manager.get_train(i),target)\n",
    "        m=init_prophet()\n",
    "        m.fit(train_df)\n",
    "\n",
    "        past.append(m.predict())\n",
    "\n",
    "        future=format_df(manager.get_forecast(i, 0),target)\n",
    "\n",
    "        imputed.append(m.predict(future[['ds','SLP','tavg_mean', 'tavg_std', 'tmin_mean','tmin_std', 'tmax_mean', 'tmax_std', 'prcp_mean', 'prcp_std','snow_mean', 'snow_std', 'wdir_mean', 'wdir_std', 'wspd_mean','wspd_std', 'wpgt_mean', 'wpgt_std', 'pres_mean', 'pres_std','tsun_mean', 'tsun_std']]))"
   ],
   "metadata": {
    "collapsed": false,
    "pycharm": {
     "name": "#%%\n"
    }
   }
  },
  {
   "cell_type": "code",
   "execution_count": 15,
   "outputs": [],
   "source": [
    "rlm_imputed=None\n",
    "for i in imputed:\n",
    "    if rlm_imputed is None:\n",
    "        rlm_imputed=i\n",
    "    else:\n",
    "        rlm_imputed=pd.concat([rlm_imputed,i])"
   ],
   "metadata": {
    "collapsed": false,
    "pycharm": {
     "name": "#%%\n"
    }
   }
  },
  {
   "cell_type": "code",
   "execution_count": 16,
   "outputs": [],
   "source": [
    "rlm_imputed2=None\n",
    "\n",
    "for i in range(len(past)):\n",
    "    if rlm_imputed2 is None:\n",
    "        rlm_imputed2=past[i]\n",
    "    else:\n",
    "        tmp=past[i]\n",
    "        rlm_imputed2=pd.concat([rlm_imputed2,tmp[tmp['ds']>rlm_imputed2.iloc[-1]['ds']]])\n"
   ],
   "metadata": {
    "collapsed": false,
    "pycharm": {
     "name": "#%%\n"
    }
   }
  },
  {
   "cell_type": "code",
   "execution_count": 17,
   "outputs": [
    {
     "name": "stdout",
     "output_type": "stream",
     "text": [
      "0.025998084260811145\n"
     ]
    },
    {
     "data": {
      "text/plain": "<Figure size 432x288 with 1 Axes>",
      "image/png": "[encoded data removed]"
     },
     "metadata": {
      "needs_background": "light"
     },
     "output_type": "display_data"
    }
   ],
   "source": [
    "if make_imputation is True:\n",
    "    rlm_complete=pd.concat([rlm_imputed,rlm_imputed2]).reset_index(drop=True).sort_values('ds')\n",
    "    rlm_complete.index=rlm_complete['ds']\n",
    "    rlm_complete.drop('ds',axis=1,inplace=True)\n",
    "\n",
    "    rlm_complete2=rlm_complete.copy()\n",
    "    rlm_complete2['real_val']=manager.df_gesamt[manager.df_gesamt.index<=rlm_complete.index[-1:][0]][target]\n",
    "    rlm_complete2=rlm_complete2.dropna()\n",
    "\n",
    "    print(metrics.METRICS_REGRESSION['mape'](rlm_complete2['real_val'],rlm_complete2['yhat']))\n",
    "    rlm_complete2.plot(use_index=True,y=['yhat','real_val'])"
   ],
   "metadata": {
    "collapsed": false,
    "pycharm": {
     "name": "#%%\n"
    }
   }
  },
  {
   "cell_type": "markdown",
   "source": [
    "# Write out imputation"
   ],
   "metadata": {
    "collapsed": false,
    "pycharm": {
     "name": "#%% md\n"
    }
   }
  },
  {
   "cell_type": "code",
   "execution_count": 18,
   "outputs": [],
   "source": [
    "#rlm_imputed.to_csv('./'+target+'_imputation.csv',sep=';')\n",
    "#rlm_complete.to_csv('./'+target+'_imputation.csv',sep=';')"
   ],
   "metadata": {
    "collapsed": false,
    "pycharm": {
     "name": "#%%\n"
    }
   }
  },
  {
   "cell_type": "code",
   "execution_count": 19,
   "outputs": [],
   "source": [
    "#rlm_imputed.head()"
   ],
   "metadata": {
    "collapsed": false,
    "pycharm": {
     "name": "#%%\n"
    }
   }
  },
  {
   "cell_type": "code",
   "execution_count": 19,
   "outputs": [],
   "source": [],
   "metadata": {
    "collapsed": false,
    "pycharm": {
     "name": "#%%\n"
    }
   }
  }
 ],
 "metadata": {
  "kernelspec": {
   "display_name": "Python 3",
   "language": "python",
   "name": "python3"
  },
  "language_info": {
   "codemirror_mode": {
    "name": "ipython",
    "version": 2
   },
   "file_extension": ".py",
   "mimetype": "text/x-python",
   "name": "python",
   "nbconvert_exporter": "python",
   "pygments_lexer": "ipython2",
   "version": "2.7.6"
  }
 },
 "nbformat": 4,
 "nbformat_minor": 0
}