{
 "cells": [
  {
   "cell_type": "code",
   "execution_count": 1,
   "outputs": [],
   "source": [
    "import numpy as np\n",
    "import pandas as pd\n",
    "from pathlib import Path\n",
    "from geopy import distance"
   ],
   "metadata": {
    "collapsed": false,
    "pycharm": {
     "name": "#%%\n"
    }
   }
  },
  {
   "cell_type": "code",
   "execution_count": 36,
   "outputs": [],
   "source": [
    "base_path='../../../30data/db_regio_bus/data'\n",
    "\n",
    "ond_df=pd.read_csv(base_path+'/modified/on_demand_travel_mod_wdw_feat.csv',sep=',',index_col=[0])\n",
    "\n",
    "bus_stops_df=pd.read_csv(base_path+'/bus_stops.csv',sep=',',index_col=[0])\n",
    "\n",
    "reg_rout_df=pd.read_csv(base_path+'/regular_route_definitions.csv',sep=',',index_col=[0])"
   ],
   "metadata": {
    "collapsed": false,
    "pycharm": {
     "name": "#%%\n"
    }
   }
  },
  {
   "cell_type": "markdown",
   "source": [
    "# Holidays"
   ],
   "metadata": {
    "collapsed": false,
    "pycharm": {
     "name": "#%% md\n"
    }
   }
  },
  {
   "cell_type": "code",
   "execution_count": 37,
   "outputs": [],
   "source": [
    "from datetime import date\n",
    "import holidays\n",
    "\n",
    "by_holidays = holidays.country_holidays('DE', subdiv='BY')"
   ],
   "metadata": {
    "collapsed": false,
    "pycharm": {
     "name": "#%%\n"
    }
   }
  },
  {
   "cell_type": "code",
   "execution_count": 38,
   "outputs": [],
   "source": [
    "def add_holidays(row):\n",
    "    if row['date'] in by_holidays:\n",
    "        row['holiday']=1\n",
    "    return row"
   ],
   "metadata": {
    "collapsed": false,
    "pycharm": {
     "name": "#%%\n"
    }
   }
  },
  {
   "cell_type": "code",
   "execution_count": 39,
   "outputs": [],
   "source": [
    "ond_df['holiday']=0\n",
    "ond_df=ond_df.apply(add_holidays,axis=1)"
   ],
   "metadata": {
    "collapsed": false,
    "pycharm": {
     "name": "#%%\n"
    }
   }
  },
  {
   "cell_type": "code",
   "execution_count": 40,
   "outputs": [
    {
     "data": {
      "text/plain": "                  date       EZone  hour  Passengers  class  Brand, Ort  \\\n0  2019-01-01 00:00:00  Brand, Ort     0         0.0      0           1   \n1  2019-01-01 01:00:00  Brand, Ort     1         0.0      0           1   \n2  2019-01-01 02:00:00  Brand, Ort     2         0.0      0           1   \n3  2019-01-01 03:00:00  Brand, Ort     3         0.0      0           1   \n4  2019-01-01 04:00:00  Brand, Ort     4         0.0      0           1   \n\n   Bärnau, Marktplatz  Deggendorf, Busbahnhof  Deggendorf, Hauptbahnhof  \\\n0                   0                       0                         0   \n1                   0                       0                         0   \n2                   0                       0                         0   \n3                   0                       0                         0   \n4                   0                       0                         0   \n\n   Deggendorf, Stadtplatz  ...  Viechtach, Bahnhof/ZOB  \\\n0                       0  ...                       0   \n1                       0  ...                       0   \n2                       0  ...                       0   \n3                       0  ...                       0   \n4                       0  ...                       0   \n\n   Viechtach, Schmidstraße/Edeka  Viechtach, Stadtplatz  Vilshofen, Bahnhof  \\\n0                              0                      0                   0   \n1                              0                      0                   0   \n2                              0                      0                   0   \n3                              0                      0                   0   \n4                              0                      0                   0   \n\n   Vilshofen, Stadtplatz  Waldsassen, J.-Wiesneth-Str.  \\\n0                      0                             0   \n1                      0                             0   \n2                      0                             0   \n3                      0                             0   \n4                      0                             0   \n\n   Waldsassen, Schützenstraße  Wiesau, Bf ANKUNFT  wdw_feature  holiday  \n0                           0                   0            0        1  \n1                           0                   0            0        1  \n2                           0                   0            0        1  \n3                           0                   0            0        1  \n4                           0                   0            0        1  \n\n[5 rows x 57 columns]",
      "text/html": "<div>\n<style scoped>\n    .dataframe tbody tr th:only-of-type {\n        vertical-align: middle;\n    }\n\n    .dataframe tbody tr th {\n        vertical-align: top;\n    }\n\n    .dataframe thead th {\n        text-align: right;\n    }\n</style>\n<table border=\"1\" class=\"dataframe\">\n  <thead>\n    <tr style=\"text-align: right;\">\n      <th></th>\n      <th>date</th>\n      <th>EZone</th>\n      <th>hour</th>\n      <th>Passengers</th>\n      <th>class</th>\n      <th>Brand, Ort</th>\n      <th>Bärnau, Marktplatz</th>\n      <th>Deggendorf, Busbahnhof</th>\n      <th>Deggendorf, Hauptbahnhof</th>\n      <th>Deggendorf, Stadtplatz</th>\n      <th>...</th>\n      <th>Viechtach, Bahnhof/ZOB</th>\n      <th>Viechtach, Schmidstraße/Edeka</th>\n      <th>Viechtach, Stadtplatz</th>\n      <th>Vilshofen, Bahnhof</th>\n      <th>Vilshofen, Stadtplatz</th>\n      <th>Waldsassen, J.-Wiesneth-Str.</th>\n      <th>Waldsassen, Schützenstraße</th>\n      <th>Wiesau, Bf ANKUNFT</th>\n      <th>wdw_feature</th>\n      <th>holiday</th>\n    </tr>\n  </thead>\n  <tbody>\n    <tr>\n      <th>0</th>\n      <td>2019-01-01 00:00:00</td>\n      <td>Brand, Ort</td>\n      <td>0</td>\n      <td>0.0</td>\n      <td>0</td>\n      <td>1</td>\n      <td>0</td>\n      <td>0</td>\n      <td>0</td>\n      <td>0</td>\n      <td>...</td>\n      <td>0</td>\n      <td>0</td>\n      <td>0</td>\n      <td>0</td>\n      <td>0</td>\n      <td>0</td>\n      <td>0</td>\n      <td>0</td>\n      <td>0</td>\n      <td>1</td>\n    </tr>\n    <tr>\n      <th>1</th>\n      <td>2019-01-01 01:00:00</td>\n      <td>Brand, Ort</td>\n      <td>1</td>\n      <td>0.0</td>\n      <td>0</td>\n      <td>1</td>\n      <td>0</td>\n      <td>0</td>\n      <td>0</td>\n      <td>0</td>\n      <td>...</td>\n      <td>0</td>\n      <td>0</td>\n      <td>0</td>\n      <td>0</td>\n      <td>0</td>\n      <td>0</td>\n      <td>0</td>\n      <td>0</td>\n      <td>0</td>\n      <td>1</td>\n    </tr>\n    <tr>\n      <th>2</th>\n      <td>2019-01-01 02:00:00</td>\n      <td>Brand, Ort</td>\n      <td>2</td>\n      <td>0.0</td>\n      <td>0</td>\n      <td>1</td>\n      <td>0</td>\n      <td>0</td>\n      <td>0</td>\n      <td>0</td>\n      <td>...</td>\n      <td>0</td>\n      <td>0</td>\n      <td>0</td>\n      <td>0</td>\n      <td>0</td>\n      <td>0</td>\n      <td>0</td>\n      <td>0</td>\n      <td>0</td>\n      <td>1</td>\n    </tr>\n    <tr>\n      <th>3</th>\n      <td>2019-01-01 03:00:00</td>\n      <td>Brand, Ort</td>\n      <td>3</td>\n      <td>0.0</td>\n      <td>0</td>\n      <td>1</td>\n      <td>0</td>\n      <td>0</td>\n      <td>0</td>\n      <td>0</td>\n      <td>...</td>\n      <td>0</td>\n      <td>0</td>\n      <td>0</td>\n      <td>0</td>\n      <td>0</td>\n      <td>0</td>\n      <td>0</td>\n      <td>0</td>\n      <td>0</td>\n      <td>1</td>\n    </tr>\n    <tr>\n      <th>4</th>\n      <td>2019-01-01 04:00:00</td>\n      <td>Brand, Ort</td>\n      <td>4</td>\n      <td>0.0</td>\n      <td>0</td>\n      <td>1</td>\n      <td>0</td>\n      <td>0</td>\n      <td>0</td>\n      <td>0</td>\n      <td>...</td>\n      <td>0</td>\n      <td>0</td>\n      <td>0</td>\n      <td>0</td>\n      <td>0</td>\n      <td>0</td>\n      <td>0</td>\n      <td>0</td>\n      <td>0</td>\n      <td>1</td>\n    </tr>\n  </tbody>\n</table>\n<p>5 rows × 57 columns</p>\n</div>"
     },
     "execution_count": 40,
     "metadata": {},
     "output_type": "execute_result"
    }
   ],
   "source": [
    "ond_df.head()"
   ],
   "metadata": {
    "collapsed": false,
    "pycharm": {
     "name": "#%%\n"
    }
   }
  },
  {
   "cell_type": "markdown",
   "source": [
    "# Bus Stops"
   ],
   "metadata": {
    "collapsed": false,
    "pycharm": {
     "name": "#%% md\n"
    }
   }
  },
  {
   "cell_type": "code",
   "execution_count": 6,
   "outputs": [],
   "source": [
    "def cutout_busstop_no(row):\n",
    "    row['Nummer']=int(row['EZone'].split('-')[0])\n",
    "    return row"
   ],
   "metadata": {
    "collapsed": false,
    "pycharm": {
     "name": "#%%\n"
    }
   }
  },
  {
   "cell_type": "code",
   "execution_count": 7,
   "outputs": [],
   "source": [
    "ond_df['Nummer']=0\n",
    "ond_df=ond_df.apply(cutout_busstop_no,axis=1)"
   ],
   "metadata": {
    "collapsed": false,
    "pycharm": {
     "name": "#%%\n"
    }
   }
  },
  {
   "cell_type": "code",
   "execution_count": 8,
   "outputs": [
    {
     "data": {
      "text/plain": "                         name_sanitized       long        lat  \\\nNummer                                                          \n4972                Fürsteneck, Abzw Bf  13.470781  48.717882   \n4792    Fürsteneck, Metzgerei Stegbauer  13.461119  48.720970   \n4320                    Voglöd bei Prag  13.472936  48.714230   \n4887                  Guttenhofen, Abzw  13.527810  48.714984   \n4429         Künzing, Römerbad Quintana  13.095707  48.667151   \n\n                                   Name Kürzel  \nNummer                                          \n4972                Fürsteneck, Abzw Bf   PFAB  \n4792    Fürsteneck, Metzgerei Stegbauer   4792  \n4320                    Voglöd bei Prag   PVOG  \n4887                  Guttenhofen, Abzw   PAGH  \n4429         Künzing, Römerbad Quintana   4429  ",
      "text/html": "<div>\n<style scoped>\n    .dataframe tbody tr th:only-of-type {\n        vertical-align: middle;\n    }\n\n    .dataframe tbody tr th {\n        vertical-align: top;\n    }\n\n    .dataframe thead th {\n        text-align: right;\n    }\n</style>\n<table border=\"1\" class=\"dataframe\">\n  <thead>\n    <tr style=\"text-align: right;\">\n      <th></th>\n      <th>name_sanitized</th>\n      <th>long</th>\n      <th>lat</th>\n      <th>Name</th>\n      <th>Kürzel</th>\n    </tr>\n    <tr>\n      <th>Nummer</th>\n      <th></th>\n      <th></th>\n      <th></th>\n      <th></th>\n      <th></th>\n    </tr>\n  </thead>\n  <tbody>\n    <tr>\n      <th>4972</th>\n      <td>Fürsteneck, Abzw Bf</td>\n      <td>13.470781</td>\n      <td>48.717882</td>\n      <td>Fürsteneck, Abzw Bf</td>\n      <td>PFAB</td>\n    </tr>\n    <tr>\n      <th>4792</th>\n      <td>Fürsteneck, Metzgerei Stegbauer</td>\n      <td>13.461119</td>\n      <td>48.720970</td>\n      <td>Fürsteneck, Metzgerei Stegbauer</td>\n      <td>4792</td>\n    </tr>\n    <tr>\n      <th>4320</th>\n      <td>Voglöd bei Prag</td>\n      <td>13.472936</td>\n      <td>48.714230</td>\n      <td>Voglöd bei Prag</td>\n      <td>PVOG</td>\n    </tr>\n    <tr>\n      <th>4887</th>\n      <td>Guttenhofen, Abzw</td>\n      <td>13.527810</td>\n      <td>48.714984</td>\n      <td>Guttenhofen, Abzw</td>\n      <td>PAGH</td>\n    </tr>\n    <tr>\n      <th>4429</th>\n      <td>Künzing, Römerbad Quintana</td>\n      <td>13.095707</td>\n      <td>48.667151</td>\n      <td>Künzing, Römerbad Quintana</td>\n      <td>4429</td>\n    </tr>\n  </tbody>\n</table>\n</div>"
     },
     "execution_count": 8,
     "metadata": {},
     "output_type": "execute_result"
    }
   ],
   "source": [
    "bus_stops_df.head()"
   ],
   "metadata": {
    "collapsed": false,
    "pycharm": {
     "name": "#%%\n"
    }
   }
  },
  {
   "cell_type": "code",
   "execution_count": 9,
   "outputs": [
    {
     "data": {
      "text/plain": "                  name_sanitized       long        lat  \\\nNummer                                                   \n15964   Salzweg, Außenstelle LRA  13.483832  48.604788   \n\n                            Name Kürzel  \nNummer                                   \n15964   Salzweg, Außenstelle LRA  15964  ",
      "text/html": "<div>\n<style scoped>\n    .dataframe tbody tr th:only-of-type {\n        vertical-align: middle;\n    }\n\n    .dataframe tbody tr th {\n        vertical-align: top;\n    }\n\n    .dataframe thead th {\n        text-align: right;\n    }\n</style>\n<table border=\"1\" class=\"dataframe\">\n  <thead>\n    <tr style=\"text-align: right;\">\n      <th></th>\n      <th>name_sanitized</th>\n      <th>long</th>\n      <th>lat</th>\n      <th>Name</th>\n      <th>Kürzel</th>\n    </tr>\n    <tr>\n      <th>Nummer</th>\n      <th></th>\n      <th></th>\n      <th></th>\n      <th></th>\n      <th></th>\n    </tr>\n  </thead>\n  <tbody>\n    <tr>\n      <th>15964</th>\n      <td>Salzweg, Außenstelle LRA</td>\n      <td>13.483832</td>\n      <td>48.604788</td>\n      <td>Salzweg, Außenstelle LRA</td>\n      <td>15964</td>\n    </tr>\n  </tbody>\n</table>\n</div>"
     },
     "execution_count": 9,
     "metadata": {},
     "output_type": "execute_result"
    }
   ],
   "source": [
    "bus_stops_df[bus_stops_df.index==15964]"
   ],
   "metadata": {
    "collapsed": false,
    "pycharm": {
     "name": "#%%\n"
    }
   }
  },
  {
   "cell_type": "code",
   "execution_count": 10,
   "outputs": [],
   "source": [
    "ond_df_bus_stops=pd.unique(ond_df['Nummer']).tolist()\n",
    "bus_stops=pd.unique(bus_stops_df.index).tolist()"
   ],
   "metadata": {
    "collapsed": false,
    "pycharm": {
     "name": "#%%\n"
    }
   }
  },
  {
   "cell_type": "code",
   "execution_count": 11,
   "outputs": [
    {
     "data": {
      "text/plain": "50"
     },
     "execution_count": 11,
     "metadata": {},
     "output_type": "execute_result"
    }
   ],
   "source": [
    "len(ond_df_bus_stops)"
   ],
   "metadata": {
    "collapsed": false,
    "pycharm": {
     "name": "#%%\n"
    }
   }
  },
  {
   "cell_type": "code",
   "execution_count": 12,
   "outputs": [
    {
     "data": {
      "text/plain": "1309"
     },
     "execution_count": 12,
     "metadata": {},
     "output_type": "execute_result"
    }
   ],
   "source": [
    "len(bus_stops)"
   ],
   "metadata": {
    "collapsed": false,
    "pycharm": {
     "name": "#%%\n"
    }
   }
  },
  {
   "cell_type": "code",
   "execution_count": 13,
   "outputs": [],
   "source": [
    "bus_stops_reduced_df=bus_stops_df.copy()\n",
    "\n",
    "for i in bus_stops:\n",
    "    if i not in ond_df_bus_stops:\n",
    "        bus_stops_reduced_df.drop(i,inplace=True)\n",
    "\n",
    "bus_stops_reduced_df.reset_index(inplace=True)"
   ],
   "metadata": {
    "collapsed": false,
    "pycharm": {
     "name": "#%%\n"
    }
   }
  },
  {
   "cell_type": "code",
   "execution_count": 14,
   "outputs": [
    {
     "data": {
      "text/plain": "50"
     },
     "execution_count": 14,
     "metadata": {},
     "output_type": "execute_result"
    }
   ],
   "source": [
    "len(bus_stops_reduced_df)"
   ],
   "metadata": {
    "collapsed": false,
    "pycharm": {
     "name": "#%%\n"
    }
   }
  },
  {
   "cell_type": "code",
   "execution_count": 15,
   "outputs": [
    {
     "data": {
      "text/plain": "   Nummer              name_sanitized       long        lat  \\\n0    4563        Tittling, Marktplatz  13.380432  48.728014   \n1    4614    Neukirchen v.W., Rathaus  13.382881  48.686785   \n2    5425  Breitenberg, Passauer-Str.  13.793847  48.703004   \n3    4883   Hutthurm, Bayerwaldstraße  13.474553  48.673251   \n4    4809      Kreuzstraße Tankstelle  13.483620  48.669139   \n\n                         Name Kürzel  \n0        Tittling, Marktplatz   PATM  \n1    Neukirchen v.W., Rathaus   PNEU  \n2  Breitenberg, Passauer-Str.   PABR  \n3   Hutthurm, Bayerwaldstraße   PDHU  \n4      Kreuzstraße Tankstelle   PKTS  ",
      "text/html": "<div>\n<style scoped>\n    .dataframe tbody tr th:only-of-type {\n        vertical-align: middle;\n    }\n\n    .dataframe tbody tr th {\n        vertical-align: top;\n    }\n\n    .dataframe thead th {\n        text-align: right;\n    }\n</style>\n<table border=\"1\" class=\"dataframe\">\n  <thead>\n    <tr style=\"text-align: right;\">\n      <th></th>\n      <th>Nummer</th>\n      <th>name_sanitized</th>\n      <th>long</th>\n      <th>lat</th>\n      <th>Name</th>\n      <th>Kürzel</th>\n    </tr>\n  </thead>\n  <tbody>\n    <tr>\n      <th>0</th>\n      <td>4563</td>\n      <td>Tittling, Marktplatz</td>\n      <td>13.380432</td>\n      <td>48.728014</td>\n      <td>Tittling, Marktplatz</td>\n      <td>PATM</td>\n    </tr>\n    <tr>\n      <th>1</th>\n      <td>4614</td>\n      <td>Neukirchen v.W., Rathaus</td>\n      <td>13.382881</td>\n      <td>48.686785</td>\n      <td>Neukirchen v.W., Rathaus</td>\n      <td>PNEU</td>\n    </tr>\n    <tr>\n      <th>2</th>\n      <td>5425</td>\n      <td>Breitenberg, Passauer-Str.</td>\n      <td>13.793847</td>\n      <td>48.703004</td>\n      <td>Breitenberg, Passauer-Str.</td>\n      <td>PABR</td>\n    </tr>\n    <tr>\n      <th>3</th>\n      <td>4883</td>\n      <td>Hutthurm, Bayerwaldstraße</td>\n      <td>13.474553</td>\n      <td>48.673251</td>\n      <td>Hutthurm, Bayerwaldstraße</td>\n      <td>PDHU</td>\n    </tr>\n    <tr>\n      <th>4</th>\n      <td>4809</td>\n      <td>Kreuzstraße Tankstelle</td>\n      <td>13.483620</td>\n      <td>48.669139</td>\n      <td>Kreuzstraße Tankstelle</td>\n      <td>PKTS</td>\n    </tr>\n  </tbody>\n</table>\n</div>"
     },
     "execution_count": 15,
     "metadata": {},
     "output_type": "execute_result"
    }
   ],
   "source": [
    "bus_stops_reduced_df.head()"
   ],
   "metadata": {
    "collapsed": false,
    "pycharm": {
     "name": "#%%\n"
    }
   }
  },
  {
   "cell_type": "markdown",
   "source": [
    "# Add long and lat as diff from geograpic center"
   ],
   "metadata": {
    "collapsed": false,
    "pycharm": {
     "name": "#%% md\n"
    }
   }
  },
  {
   "cell_type": "code",
   "execution_count": 16,
   "outputs": [],
   "source": [
    "geo_distances={\n",
    "    'name_sanitized':[],\n",
    "    'geo_distance':[]\n",
    "}\n",
    "\n",
    "for i in range(len(bus_stops_reduced_df)):\n",
    "    row=bus_stops_reduced_df.iloc[i]\n",
    "    geo_distances['name_sanitized'].append(row['name_sanitized'])\n",
    "\n",
    "    current_loc=(row['lat'],row['long'])\n",
    "    summed_dist=0\n",
    "    for i2 in range(len(bus_stops_reduced_df)):\n",
    "        other_row=bus_stops_reduced_df.iloc[i2]\n",
    "\n",
    "        summed_dist+=distance.distance(current_loc,(other_row['lat'],other_row['long'])).km\n",
    "\n",
    "    geo_distances['geo_distance'].append(summed_dist/len(bus_stops_reduced_df))\n",
    "\n",
    "\n",
    "geo_distances=pd.DataFrame(data=geo_distances)"
   ],
   "metadata": {
    "collapsed": false,
    "pycharm": {
     "name": "#%%\n"
    }
   }
  },
  {
   "cell_type": "code",
   "execution_count": 17,
   "outputs": [],
   "source": [
    "geo_distances['geo_distance']=geo_distances['geo_distance']-geo_distances.sort_values('geo_distance').iloc[0]['geo_distance']"
   ],
   "metadata": {
    "collapsed": false,
    "pycharm": {
     "name": "#%%\n"
    }
   }
  },
  {
   "cell_type": "code",
   "execution_count": 18,
   "outputs": [],
   "source": [
    "bus_stops_reduced_df=pd.merge(bus_stops_reduced_df,geo_distances,on=['name_sanitized'])"
   ],
   "metadata": {
    "collapsed": false,
    "pycharm": {
     "name": "#%%\n"
    }
   }
  },
  {
   "cell_type": "code",
   "execution_count": 19,
   "outputs": [
    {
     "data": {
      "text/plain": "   Nummer              name_sanitized       long        lat  \\\n0    4563        Tittling, Marktplatz  13.380432  48.728014   \n1    4614    Neukirchen v.W., Rathaus  13.382881  48.686785   \n2    5425  Breitenberg, Passauer-Str.  13.793847  48.703004   \n3    4883   Hutthurm, Bayerwaldstraße  13.474553  48.673251   \n4    4809      Kreuzstraße Tankstelle  13.483620  48.669139   \n\n                         Name Kürzel  geo_distance  \n0        Tittling, Marktplatz   PATM      8.652935  \n1    Neukirchen v.W., Rathaus   PNEU      5.366303  \n2  Breitenberg, Passauer-Str.   PABR     18.811163  \n3   Hutthurm, Bayerwaldstraße   PDHU      3.410099  \n4      Kreuzstraße Tankstelle   PKTS      3.170867  ",
      "text/html": "<div>\n<style scoped>\n    .dataframe tbody tr th:only-of-type {\n        vertical-align: middle;\n    }\n\n    .dataframe tbody tr th {\n        vertical-align: top;\n    }\n\n    .dataframe thead th {\n        text-align: right;\n    }\n</style>\n<table border=\"1\" class=\"dataframe\">\n  <thead>\n    <tr style=\"text-align: right;\">\n      <th></th>\n      <th>Nummer</th>\n      <th>name_sanitized</th>\n      <th>long</th>\n      <th>lat</th>\n      <th>Name</th>\n      <th>Kürzel</th>\n      <th>geo_distance</th>\n    </tr>\n  </thead>\n  <tbody>\n    <tr>\n      <th>0</th>\n      <td>4563</td>\n      <td>Tittling, Marktplatz</td>\n      <td>13.380432</td>\n      <td>48.728014</td>\n      <td>Tittling, Marktplatz</td>\n      <td>PATM</td>\n      <td>8.652935</td>\n    </tr>\n    <tr>\n      <th>1</th>\n      <td>4614</td>\n      <td>Neukirchen v.W., Rathaus</td>\n      <td>13.382881</td>\n      <td>48.686785</td>\n      <td>Neukirchen v.W., Rathaus</td>\n      <td>PNEU</td>\n      <td>5.366303</td>\n    </tr>\n    <tr>\n      <th>2</th>\n      <td>5425</td>\n      <td>Breitenberg, Passauer-Str.</td>\n      <td>13.793847</td>\n      <td>48.703004</td>\n      <td>Breitenberg, Passauer-Str.</td>\n      <td>PABR</td>\n      <td>18.811163</td>\n    </tr>\n    <tr>\n      <th>3</th>\n      <td>4883</td>\n      <td>Hutthurm, Bayerwaldstraße</td>\n      <td>13.474553</td>\n      <td>48.673251</td>\n      <td>Hutthurm, Bayerwaldstraße</td>\n      <td>PDHU</td>\n      <td>3.410099</td>\n    </tr>\n    <tr>\n      <th>4</th>\n      <td>4809</td>\n      <td>Kreuzstraße Tankstelle</td>\n      <td>13.483620</td>\n      <td>48.669139</td>\n      <td>Kreuzstraße Tankstelle</td>\n      <td>PKTS</td>\n      <td>3.170867</td>\n    </tr>\n  </tbody>\n</table>\n</div>"
     },
     "execution_count": 19,
     "metadata": {},
     "output_type": "execute_result"
    }
   ],
   "source": [
    "bus_stops_reduced_df.head()"
   ],
   "metadata": {
    "collapsed": false,
    "pycharm": {
     "name": "#%%\n"
    }
   }
  },
  {
   "cell_type": "markdown",
   "source": [
    "# Ad long and alt as diff from passangers center"
   ],
   "metadata": {
    "collapsed": false
   }
  },
  {
   "cell_type": "code",
   "execution_count": 20,
   "outputs": [],
   "source": [
    "ond_df_pass=ond_df.groupby(['Nummer'])[['Passengers']].sum()"
   ],
   "metadata": {
    "collapsed": false,
    "pycharm": {
     "name": "#%%\n"
    }
   }
  },
  {
   "cell_type": "code",
   "execution_count": 21,
   "outputs": [],
   "source": [
    "pass_center=bus_stops_reduced_df[bus_stops_reduced_df['Nummer']==ond_df_pass.sort_values('Passengers', ascending=False).head(1).index[0]]\n",
    "pass_center_coor=(pass_center['lat'].values[0],pass_center['long'].values[0])"
   ],
   "metadata": {
    "collapsed": false,
    "pycharm": {
     "name": "#%%\n"
    }
   }
  },
  {
   "cell_type": "code",
   "execution_count": 22,
   "outputs": [],
   "source": [
    "def set_distance(row):\n",
    "    row['pass_distance']=distance.distance(pass_center_coor,(row['lat'],row['long'])).km\n",
    "    return row"
   ],
   "metadata": {
    "collapsed": false,
    "pycharm": {
     "name": "#%%\n"
    }
   }
  },
  {
   "cell_type": "code",
   "execution_count": 23,
   "outputs": [],
   "source": [
    "bus_stops_reduced_df['pass_distance']=0\n",
    "bus_stops_reduced_df=bus_stops_reduced_df.apply(set_distance,axis=1)"
   ],
   "metadata": {
    "collapsed": false,
    "pycharm": {
     "name": "#%%\n"
    }
   }
  },
  {
   "cell_type": "code",
   "execution_count": 24,
   "outputs": [
    {
     "data": {
      "text/plain": "   Nummer              name_sanitized       long        lat  \\\n0    4563        Tittling, Marktplatz  13.380432  48.728014   \n1    4614    Neukirchen v.W., Rathaus  13.382881  48.686785   \n2    5425  Breitenberg, Passauer-Str.  13.793847  48.703004   \n3    4883   Hutthurm, Bayerwaldstraße  13.474553  48.673251   \n4    4809      Kreuzstraße Tankstelle  13.483620  48.669139   \n\n                         Name Kürzel  geo_distance  pass_distance  \n0        Tittling, Marktplatz   PATM      8.652935      17.880484  \n1    Neukirchen v.W., Rathaus   PNEU      5.366303      13.496562  \n2  Breitenberg, Passauer-Str.   PABR     18.811163      28.995543  \n3   Hutthurm, Bayerwaldstraße   PDHU      3.410099      11.131113  \n4      Kreuzstraße Tankstelle   PKTS      3.170867      10.805053  ",
      "text/html": "<div>\n<style scoped>\n    .dataframe tbody tr th:only-of-type {\n        vertical-align: middle;\n    }\n\n    .dataframe tbody tr th {\n        vertical-align: top;\n    }\n\n    .dataframe thead th {\n        text-align: right;\n    }\n</style>\n<table border=\"1\" class=\"dataframe\">\n  <thead>\n    <tr style=\"text-align: right;\">\n      <th></th>\n      <th>Nummer</th>\n      <th>name_sanitized</th>\n      <th>long</th>\n      <th>lat</th>\n      <th>Name</th>\n      <th>Kürzel</th>\n      <th>geo_distance</th>\n      <th>pass_distance</th>\n    </tr>\n  </thead>\n  <tbody>\n    <tr>\n      <th>0</th>\n      <td>4563</td>\n      <td>Tittling, Marktplatz</td>\n      <td>13.380432</td>\n      <td>48.728014</td>\n      <td>Tittling, Marktplatz</td>\n      <td>PATM</td>\n      <td>8.652935</td>\n      <td>17.880484</td>\n    </tr>\n    <tr>\n      <th>1</th>\n      <td>4614</td>\n      <td>Neukirchen v.W., Rathaus</td>\n      <td>13.382881</td>\n      <td>48.686785</td>\n      <td>Neukirchen v.W., Rathaus</td>\n      <td>PNEU</td>\n      <td>5.366303</td>\n      <td>13.496562</td>\n    </tr>\n    <tr>\n      <th>2</th>\n      <td>5425</td>\n      <td>Breitenberg, Passauer-Str.</td>\n      <td>13.793847</td>\n      <td>48.703004</td>\n      <td>Breitenberg, Passauer-Str.</td>\n      <td>PABR</td>\n      <td>18.811163</td>\n      <td>28.995543</td>\n    </tr>\n    <tr>\n      <th>3</th>\n      <td>4883</td>\n      <td>Hutthurm, Bayerwaldstraße</td>\n      <td>13.474553</td>\n      <td>48.673251</td>\n      <td>Hutthurm, Bayerwaldstraße</td>\n      <td>PDHU</td>\n      <td>3.410099</td>\n      <td>11.131113</td>\n    </tr>\n    <tr>\n      <th>4</th>\n      <td>4809</td>\n      <td>Kreuzstraße Tankstelle</td>\n      <td>13.483620</td>\n      <td>48.669139</td>\n      <td>Kreuzstraße Tankstelle</td>\n      <td>PKTS</td>\n      <td>3.170867</td>\n      <td>10.805053</td>\n    </tr>\n  </tbody>\n</table>\n</div>"
     },
     "execution_count": 24,
     "metadata": {},
     "output_type": "execute_result"
    }
   ],
   "source": [
    "bus_stops_reduced_df.head()"
   ],
   "metadata": {
    "collapsed": false,
    "pycharm": {
     "name": "#%%\n"
    }
   }
  },
  {
   "cell_type": "code",
   "execution_count": 25,
   "outputs": [
    {
     "data": {
      "text/plain": "    Nummer                 name_sanitized       long        lat  \\\n25    4028      Passau, Nagelschmiedgasse  13.461146  48.576102   \n23    4030         Passau, Am Schanzlturm  13.455990  48.575090   \n22    4010   Passau, Am Schanzl(Busbucht)  13.456125  48.574415   \n24    4000                    Passau, Hbf  13.451679  48.574309   \n26    4029                Passau, Rathaus  13.468362  48.575478   \n29    4001                    Passau, ZOB  13.455872  48.572521   \n27    9750  Passau, Reisebüro Niedermayer  13.450428  48.574233   \n28    4016             Passau, Römerplatz  13.470745  48.574908   \n18   15964       Salzweg, Außenstelle LRA  13.483832  48.604788   \n17    4807            Angl, Bäckerei Vogl  13.482593  48.609015   \n\n                             Name Kürzel  geo_distance  pass_distance  \n25      Passau, Nagelschmiedgasse   4028      0.000000       0.726527  \n23         Passau, Am Schanzlturm   PAST      0.007678       0.329789  \n22   Passau, Am Schanzl(Busbucht)   PAZB      0.017493       0.328313  \n24                    Passau, Hbf   PASB      0.048324       0.000000  \n26                Passau, Rathaus   PPRH      0.056710       1.237980  \n29                    Passau, ZOB   PKEP      0.061279       0.367815  \n27  Passau, Reisebüro Niedermayer   PPRN      0.063497       0.092683  \n28             Passau, Römerplatz   PARP      0.093521       1.408568  \n18       Salzweg, Außenstelle LRA  15964      0.229193       4.136960  \n17            Angl, Bäckerei Vogl   4807      0.272325       4.482753  ",
      "text/html": "<div>\n<style scoped>\n    .dataframe tbody tr th:only-of-type {\n        vertical-align: middle;\n    }\n\n    .dataframe tbody tr th {\n        vertical-align: top;\n    }\n\n    .dataframe thead th {\n        text-align: right;\n    }\n</style>\n<table border=\"1\" class=\"dataframe\">\n  <thead>\n    <tr style=\"text-align: right;\">\n      <th></th>\n      <th>Nummer</th>\n      <th>name_sanitized</th>\n      <th>long</th>\n      <th>lat</th>\n      <th>Name</th>\n      <th>Kürzel</th>\n      <th>geo_distance</th>\n      <th>pass_distance</th>\n    </tr>\n  </thead>\n  <tbody>\n    <tr>\n      <th>25</th>\n      <td>4028</td>\n      <td>Passau, Nagelschmiedgasse</td>\n      <td>13.461146</td>\n      <td>48.576102</td>\n      <td>Passau, Nagelschmiedgasse</td>\n      <td>4028</td>\n      <td>0.000000</td>\n      <td>0.726527</td>\n    </tr>\n    <tr>\n      <th>23</th>\n      <td>4030</td>\n      <td>Passau, Am Schanzlturm</td>\n      <td>13.455990</td>\n      <td>48.575090</td>\n      <td>Passau, Am Schanzlturm</td>\n      <td>PAST</td>\n      <td>0.007678</td>\n      <td>0.329789</td>\n    </tr>\n    <tr>\n      <th>22</th>\n      <td>4010</td>\n      <td>Passau, Am Schanzl(Busbucht)</td>\n      <td>13.456125</td>\n      <td>48.574415</td>\n      <td>Passau, Am Schanzl(Busbucht)</td>\n      <td>PAZB</td>\n      <td>0.017493</td>\n      <td>0.328313</td>\n    </tr>\n    <tr>\n      <th>24</th>\n      <td>4000</td>\n      <td>Passau, Hbf</td>\n      <td>13.451679</td>\n      <td>48.574309</td>\n      <td>Passau, Hbf</td>\n      <td>PASB</td>\n      <td>0.048324</td>\n      <td>0.000000</td>\n    </tr>\n    <tr>\n      <th>26</th>\n      <td>4029</td>\n      <td>Passau, Rathaus</td>\n      <td>13.468362</td>\n      <td>48.575478</td>\n      <td>Passau, Rathaus</td>\n      <td>PPRH</td>\n      <td>0.056710</td>\n      <td>1.237980</td>\n    </tr>\n    <tr>\n      <th>29</th>\n      <td>4001</td>\n      <td>Passau, ZOB</td>\n      <td>13.455872</td>\n      <td>48.572521</td>\n      <td>Passau, ZOB</td>\n      <td>PKEP</td>\n      <td>0.061279</td>\n      <td>0.367815</td>\n    </tr>\n    <tr>\n      <th>27</th>\n      <td>9750</td>\n      <td>Passau, Reisebüro Niedermayer</td>\n      <td>13.450428</td>\n      <td>48.574233</td>\n      <td>Passau, Reisebüro Niedermayer</td>\n      <td>PPRN</td>\n      <td>0.063497</td>\n      <td>0.092683</td>\n    </tr>\n    <tr>\n      <th>28</th>\n      <td>4016</td>\n      <td>Passau, Römerplatz</td>\n      <td>13.470745</td>\n      <td>48.574908</td>\n      <td>Passau, Römerplatz</td>\n      <td>PARP</td>\n      <td>0.093521</td>\n      <td>1.408568</td>\n    </tr>\n    <tr>\n      <th>18</th>\n      <td>15964</td>\n      <td>Salzweg, Außenstelle LRA</td>\n      <td>13.483832</td>\n      <td>48.604788</td>\n      <td>Salzweg, Außenstelle LRA</td>\n      <td>15964</td>\n      <td>0.229193</td>\n      <td>4.136960</td>\n    </tr>\n    <tr>\n      <th>17</th>\n      <td>4807</td>\n      <td>Angl, Bäckerei Vogl</td>\n      <td>13.482593</td>\n      <td>48.609015</td>\n      <td>Angl, Bäckerei Vogl</td>\n      <td>4807</td>\n      <td>0.272325</td>\n      <td>4.482753</td>\n    </tr>\n  </tbody>\n</table>\n</div>"
     },
     "execution_count": 25,
     "metadata": {},
     "output_type": "execute_result"
    }
   ],
   "source": [
    "bus_stops_reduced_df.sort_values('geo_distance').head(10)"
   ],
   "metadata": {
    "collapsed": false,
    "pycharm": {
     "name": "#%%\n"
    }
   }
  },
  {
   "cell_type": "code",
   "execution_count": 26,
   "outputs": [
    {
     "data": {
      "text/plain": "    Nummer                 name_sanitized       long        lat  \\\n24    4000                    Passau, Hbf  13.451679  48.574309   \n27    9750  Passau, Reisebüro Niedermayer  13.450428  48.574233   \n22    4010   Passau, Am Schanzl(Busbucht)  13.456125  48.574415   \n23    4030         Passau, Am Schanzlturm  13.455990  48.575090   \n29    4001                    Passau, ZOB  13.455872  48.572521   \n25    4028      Passau, Nagelschmiedgasse  13.461146  48.576102   \n26    4029                Passau, Rathaus  13.468362  48.575478   \n28    4016             Passau, Römerplatz  13.470745  48.574908   \n33    5381                 Passau, Lindau  13.501416  48.585161   \n18   15964       Salzweg, Außenstelle LRA  13.483832  48.604788   \n\n                             Name Kürzel  geo_distance  pass_distance  \n24                    Passau, Hbf   PASB      0.048324       0.000000  \n27  Passau, Reisebüro Niedermayer   PPRN      0.063497       0.092683  \n22   Passau, Am Schanzl(Busbucht)   PAZB      0.017493       0.328313  \n23         Passau, Am Schanzlturm   PAST      0.007678       0.329789  \n29                    Passau, ZOB   PKEP      0.061279       0.367815  \n25      Passau, Nagelschmiedgasse   4028      0.000000       0.726527  \n26                Passau, Rathaus   PPRH      0.056710       1.237980  \n28             Passau, Römerplatz   PARP      0.093521       1.408568  \n33                 Passau, Lindau   5381      0.533987       3.863264  \n18       Salzweg, Außenstelle LRA  15964      0.229193       4.136960  ",
      "text/html": "<div>\n<style scoped>\n    .dataframe tbody tr th:only-of-type {\n        vertical-align: middle;\n    }\n\n    .dataframe tbody tr th {\n        vertical-align: top;\n    }\n\n    .dataframe thead th {\n        text-align: right;\n    }\n</style>\n<table border=\"1\" class=\"dataframe\">\n  <thead>\n    <tr style=\"text-align: right;\">\n      <th></th>\n      <th>Nummer</th>\n      <th>name_sanitized</th>\n      <th>long</th>\n      <th>lat</th>\n      <th>Name</th>\n      <th>Kürzel</th>\n      <th>geo_distance</th>\n      <th>pass_distance</th>\n    </tr>\n  </thead>\n  <tbody>\n    <tr>\n      <th>24</th>\n      <td>4000</td>\n      <td>Passau, Hbf</td>\n      <td>13.451679</td>\n      <td>48.574309</td>\n      <td>Passau, Hbf</td>\n      <td>PASB</td>\n      <td>0.048324</td>\n      <td>0.000000</td>\n    </tr>\n    <tr>\n      <th>27</th>\n      <td>9750</td>\n      <td>Passau, Reisebüro Niedermayer</td>\n      <td>13.450428</td>\n      <td>48.574233</td>\n      <td>Passau, Reisebüro Niedermayer</td>\n      <td>PPRN</td>\n      <td>0.063497</td>\n      <td>0.092683</td>\n    </tr>\n    <tr>\n      <th>22</th>\n      <td>4010</td>\n      <td>Passau, Am Schanzl(Busbucht)</td>\n      <td>13.456125</td>\n      <td>48.574415</td>\n      <td>Passau, Am Schanzl(Busbucht)</td>\n      <td>PAZB</td>\n      <td>0.017493</td>\n      <td>0.328313</td>\n    </tr>\n    <tr>\n      <th>23</th>\n      <td>4030</td>\n      <td>Passau, Am Schanzlturm</td>\n      <td>13.455990</td>\n      <td>48.575090</td>\n      <td>Passau, Am Schanzlturm</td>\n      <td>PAST</td>\n      <td>0.007678</td>\n      <td>0.329789</td>\n    </tr>\n    <tr>\n      <th>29</th>\n      <td>4001</td>\n      <td>Passau, ZOB</td>\n      <td>13.455872</td>\n      <td>48.572521</td>\n      <td>Passau, ZOB</td>\n      <td>PKEP</td>\n      <td>0.061279</td>\n      <td>0.367815</td>\n    </tr>\n    <tr>\n      <th>25</th>\n      <td>4028</td>\n      <td>Passau, Nagelschmiedgasse</td>\n      <td>13.461146</td>\n      <td>48.576102</td>\n      <td>Passau, Nagelschmiedgasse</td>\n      <td>4028</td>\n      <td>0.000000</td>\n      <td>0.726527</td>\n    </tr>\n    <tr>\n      <th>26</th>\n      <td>4029</td>\n      <td>Passau, Rathaus</td>\n      <td>13.468362</td>\n      <td>48.575478</td>\n      <td>Passau, Rathaus</td>\n      <td>PPRH</td>\n      <td>0.056710</td>\n      <td>1.237980</td>\n    </tr>\n    <tr>\n      <th>28</th>\n      <td>4016</td>\n      <td>Passau, Römerplatz</td>\n      <td>13.470745</td>\n      <td>48.574908</td>\n      <td>Passau, Römerplatz</td>\n      <td>PARP</td>\n      <td>0.093521</td>\n      <td>1.408568</td>\n    </tr>\n    <tr>\n      <th>33</th>\n      <td>5381</td>\n      <td>Passau, Lindau</td>\n      <td>13.501416</td>\n      <td>48.585161</td>\n      <td>Passau, Lindau</td>\n      <td>5381</td>\n      <td>0.533987</td>\n      <td>3.863264</td>\n    </tr>\n    <tr>\n      <th>18</th>\n      <td>15964</td>\n      <td>Salzweg, Außenstelle LRA</td>\n      <td>13.483832</td>\n      <td>48.604788</td>\n      <td>Salzweg, Außenstelle LRA</td>\n      <td>15964</td>\n      <td>0.229193</td>\n      <td>4.136960</td>\n    </tr>\n  </tbody>\n</table>\n</div>"
     },
     "execution_count": 26,
     "metadata": {},
     "output_type": "execute_result"
    }
   ],
   "source": [
    "bus_stops_reduced_df.sort_values('pass_distance').head(10)"
   ],
   "metadata": {
    "collapsed": false,
    "pycharm": {
     "name": "#%%\n"
    }
   }
  },
  {
   "cell_type": "code",
   "execution_count": 27,
   "outputs": [],
   "source": [
    "ond_df_final=pd.merge(ond_df,bus_stops_reduced_df[['long','lat','geo_distance','pass_distance','Nummer']],on='Nummer')"
   ],
   "metadata": {
    "collapsed": false,
    "pycharm": {
     "name": "#%%\n"
    }
   }
  },
  {
   "cell_type": "code",
   "execution_count": 42,
   "outputs": [],
   "source": [
    "ond_df.to_csv('./on_demand_travel_mod_wdw_busstops_feat.csv')"
   ],
   "metadata": {
    "collapsed": false,
    "pycharm": {
     "name": "#%%\n"
    }
   }
  },
  {
   "cell_type": "code",
   "execution_count": 28,
   "outputs": [],
   "source": [],
   "metadata": {
    "collapsed": false,
    "pycharm": {
     "name": "#%%\n"
    }
   }
  }
 ],
 "metadata": {
  "kernelspec": {
   "display_name": "Python 3",
   "language": "python",
   "name": "python3"
  },
  "language_info": {
   "codemirror_mode": {
    "name": "ipython",
    "version": 2
   },
   "file_extension": ".py",
   "mimetype": "text/x-python",
   "name": "python",
   "nbconvert_exporter": "python",
   "pygments_lexer": "ipython2",
   "version": "2.7.6"
  }
 },
 "nbformat": 4,
 "nbformat_minor": 0
}