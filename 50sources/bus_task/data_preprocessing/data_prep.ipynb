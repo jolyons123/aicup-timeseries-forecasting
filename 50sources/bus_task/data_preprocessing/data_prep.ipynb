{
 "cells": [
  {
   "cell_type": "code",
   "execution_count": 2,
   "metadata": {
    "collapsed": true
   },
   "outputs": [],
   "source": [
    "import numpy as np\n",
    "import pandas as pd\n",
    "from pathlib import Path"
   ]
  },
  {
   "cell_type": "code",
   "execution_count": 3,
   "outputs": [],
   "source": [
    "base_path='../../30data/db_regio_bus/data'"
   ],
   "metadata": {
    "collapsed": false,
    "pycharm": {
     "name": "#%%\n"
    }
   }
  },
  {
   "cell_type": "code",
   "execution_count": 3,
   "outputs": [],
   "source": [
    "ond_df=pd.read_csv(base_path+'/on_demand_travel.csv',sep=',')\n",
    "reg_df=pd.read_csv(base_path+'./regular_travel.csv',sep=',')"
   ],
   "metadata": {
    "collapsed": false,
    "pycharm": {
     "name": "#%%\n"
    }
   }
  },
  {
   "cell_type": "markdown",
   "source": [
    "# Hours into Date"
   ],
   "metadata": {
    "collapsed": false,
    "pycharm": {
     "name": "#%% md\n"
    }
   }
  },
  {
   "cell_type": "code",
   "execution_count": 4,
   "outputs": [],
   "source": [
    "reg_df['date']=pd.to_datetime(reg_df['date'])\n",
    "ond_df['date']=pd.to_datetime(ond_df['date'])"
   ],
   "metadata": {
    "collapsed": false,
    "pycharm": {
     "name": "#%%\n"
    }
   }
  },
  {
   "cell_type": "code",
   "execution_count": 5,
   "outputs": [
    {
     "data": {
      "text/plain": "             date                                 EZone  hour  Passengers\n25200  2019-01-22      15964 - Salzweg, Außenstelle LRA     0         NaN\n25201  2019-01-22      15964 - Salzweg, Außenstelle LRA     1         NaN\n25202  2019-01-22      15964 - Salzweg, Außenstelle LRA     2         NaN\n25203  2019-01-22      15964 - Salzweg, Außenstelle LRA     3         NaN\n25204  2019-01-22      15964 - Salzweg, Außenstelle LRA     4         NaN\n...           ...                                   ...   ...         ...\n419995 2019-12-16  9750 - Passau, Reisebüro Niedermayer    19         NaN\n419996 2019-12-16  9750 - Passau, Reisebüro Niedermayer    20         NaN\n419997 2019-12-16  9750 - Passau, Reisebüro Niedermayer    21         NaN\n419998 2019-12-16  9750 - Passau, Reisebüro Niedermayer    22         NaN\n419999 2019-12-16  9750 - Passau, Reisebüro Niedermayer    23         NaN\n\n[109200 rows x 4 columns]",
      "text/html": "<div>\n<style scoped>\n    .dataframe tbody tr th:only-of-type {\n        vertical-align: middle;\n    }\n\n    .dataframe tbody tr th {\n        vertical-align: top;\n    }\n\n    .dataframe thead th {\n        text-align: right;\n    }\n</style>\n<table border=\"1\" class=\"dataframe\">\n  <thead>\n    <tr style=\"text-align: right;\">\n      <th></th>\n      <th>date</th>\n      <th>EZone</th>\n      <th>hour</th>\n      <th>Passengers</th>\n    </tr>\n  </thead>\n  <tbody>\n    <tr>\n      <th>25200</th>\n      <td>2019-01-22</td>\n      <td>15964 - Salzweg, Außenstelle LRA</td>\n      <td>0</td>\n      <td>NaN</td>\n    </tr>\n    <tr>\n      <th>25201</th>\n      <td>2019-01-22</td>\n      <td>15964 - Salzweg, Außenstelle LRA</td>\n      <td>1</td>\n      <td>NaN</td>\n    </tr>\n    <tr>\n      <th>25202</th>\n      <td>2019-01-22</td>\n      <td>15964 - Salzweg, Außenstelle LRA</td>\n      <td>2</td>\n      <td>NaN</td>\n    </tr>\n    <tr>\n      <th>25203</th>\n      <td>2019-01-22</td>\n      <td>15964 - Salzweg, Außenstelle LRA</td>\n      <td>3</td>\n      <td>NaN</td>\n    </tr>\n    <tr>\n      <th>25204</th>\n      <td>2019-01-22</td>\n      <td>15964 - Salzweg, Außenstelle LRA</td>\n      <td>4</td>\n      <td>NaN</td>\n    </tr>\n    <tr>\n      <th>...</th>\n      <td>...</td>\n      <td>...</td>\n      <td>...</td>\n      <td>...</td>\n    </tr>\n    <tr>\n      <th>419995</th>\n      <td>2019-12-16</td>\n      <td>9750 - Passau, Reisebüro Niedermayer</td>\n      <td>19</td>\n      <td>NaN</td>\n    </tr>\n    <tr>\n      <th>419996</th>\n      <td>2019-12-16</td>\n      <td>9750 - Passau, Reisebüro Niedermayer</td>\n      <td>20</td>\n      <td>NaN</td>\n    </tr>\n    <tr>\n      <th>419997</th>\n      <td>2019-12-16</td>\n      <td>9750 - Passau, Reisebüro Niedermayer</td>\n      <td>21</td>\n      <td>NaN</td>\n    </tr>\n    <tr>\n      <th>419998</th>\n      <td>2019-12-16</td>\n      <td>9750 - Passau, Reisebüro Niedermayer</td>\n      <td>22</td>\n      <td>NaN</td>\n    </tr>\n    <tr>\n      <th>419999</th>\n      <td>2019-12-16</td>\n      <td>9750 - Passau, Reisebüro Niedermayer</td>\n      <td>23</td>\n      <td>NaN</td>\n    </tr>\n  </tbody>\n</table>\n<p>109200 rows × 4 columns</p>\n</div>"
     },
     "execution_count": 5,
     "metadata": {},
     "output_type": "execute_result"
    }
   ],
   "source": [
    "reg_df[reg_df.isna().any(axis=1)]"
   ],
   "metadata": {
    "collapsed": false,
    "pycharm": {
     "name": "#%%\n"
    }
   }
  },
  {
   "cell_type": "code",
   "execution_count": 6,
   "outputs": [],
   "source": [
    "def hour_into_date(row):\n",
    "    return row['date'] + pd.DateOffset(hours=row['hour'])"
   ],
   "metadata": {
    "collapsed": false,
    "pycharm": {
     "name": "#%%\n"
    }
   }
  },
  {
   "cell_type": "code",
   "execution_count": 7,
   "outputs": [],
   "source": [
    "reg_df['date']=reg_df.apply(hour_into_date,axis=1)\n",
    "ond_df['date']=ond_df.apply(hour_into_date,axis=1)"
   ],
   "metadata": {
    "collapsed": false,
    "pycharm": {
     "name": "#%%\n"
    }
   }
  },
  {
   "cell_type": "markdown",
   "source": [
    "# Passengers to Class"
   ],
   "metadata": {
    "collapsed": false,
    "pycharm": {
     "name": "#%% md\n"
    }
   }
  },
  {
   "cell_type": "code",
   "execution_count": 8,
   "outputs": [],
   "source": [
    "def pass_to_class(row):\n",
    "    p=row['Passengers']\n",
    "    if p<=0:\n",
    "        return 0\n",
    "    if p<=1:\n",
    "        return 1\n",
    "    if p<=2:\n",
    "        return 2\n",
    "    else:\n",
    "        return 3"
   ],
   "metadata": {
    "collapsed": false,
    "pycharm": {
     "name": "#%%\n"
    }
   }
  },
  {
   "cell_type": "code",
   "execution_count": 9,
   "outputs": [],
   "source": [
    "reg_df['class']=reg_df.apply(pass_to_class,axis=1)\n",
    "ond_df['class']=ond_df.apply(pass_to_class,axis=1)"
   ],
   "metadata": {
    "collapsed": false,
    "pycharm": {
     "name": "#%%\n"
    }
   }
  },
  {
   "cell_type": "markdown",
   "source": [
    "# Long to Wide"
   ],
   "metadata": {
    "collapsed": false,
    "pycharm": {
     "name": "#%% md\n"
    }
   }
  },
  {
   "cell_type": "code",
   "execution_count": 10,
   "outputs": [],
   "source": [
    "def create_ezone_cols(df):\n",
    "    uniq_ezone=df['EZone'].unique()\n",
    "    for i in uniq_ezone:\n",
    "        df[i]=0\n",
    "\n",
    "    return df\n",
    "\n",
    "\n",
    "def set_ezone_val(row):\n",
    "    row[row['EZone']]=1\n",
    "    return row"
   ],
   "metadata": {
    "collapsed": false,
    "pycharm": {
     "name": "#%%\n"
    }
   }
  },
  {
   "cell_type": "code",
   "execution_count": 11,
   "outputs": [],
   "source": [
    "reg_df=create_ezone_cols(reg_df)\n",
    "reg_df=reg_df.apply(set_ezone_val,axis=1)"
   ],
   "metadata": {
    "collapsed": false,
    "pycharm": {
     "name": "#%%\n"
    }
   }
  },
  {
   "cell_type": "code",
   "execution_count": 12,
   "outputs": [],
   "source": [
    "ond_df=create_ezone_cols(ond_df)\n",
    "ond_df=ond_df.apply(set_ezone_val,axis=1)"
   ],
   "metadata": {
    "collapsed": false,
    "pycharm": {
     "name": "#%%\n"
    }
   }
  },
  {
   "cell_type": "markdown",
   "source": [
    "# Result (Modify Orignal Datasets)\n",
    "\n",
    "## Regular Travel:"
   ],
   "metadata": {
    "collapsed": false,
    "pycharm": {
     "name": "#%% md\n"
    }
   }
  },
  {
   "cell_type": "code",
   "execution_count": 13,
   "outputs": [
    {
     "data": {
      "text/plain": "                  date                             EZone  hour  Passengers  \\\n0  2019-01-01 00:00:00  15964 - Salzweg, Außenstelle LRA     0         0.0   \n1  2019-01-01 01:00:00  15964 - Salzweg, Außenstelle LRA     1         0.0   \n2  2019-01-01 02:00:00  15964 - Salzweg, Außenstelle LRA     2         0.0   \n3  2019-01-01 03:00:00  15964 - Salzweg, Außenstelle LRA     3         0.0   \n4  2019-01-01 04:00:00  15964 - Salzweg, Außenstelle LRA     4         0.0   \n5  2019-01-01 05:00:00  15964 - Salzweg, Außenstelle LRA     5         0.0   \n6  2019-01-01 06:00:00  15964 - Salzweg, Außenstelle LRA     6         0.0   \n7  2019-01-01 07:00:00  15964 - Salzweg, Außenstelle LRA     7         0.0   \n8  2019-01-01 08:00:00  15964 - Salzweg, Außenstelle LRA     8         0.0   \n9  2019-01-01 09:00:00  15964 - Salzweg, Außenstelle LRA     9         0.0   \n10 2019-01-01 10:00:00  15964 - Salzweg, Außenstelle LRA    10         0.0   \n11 2019-01-01 11:00:00  15964 - Salzweg, Außenstelle LRA    11         0.0   \n12 2019-01-01 12:00:00  15964 - Salzweg, Außenstelle LRA    12         1.0   \n13 2019-01-01 13:00:00  15964 - Salzweg, Außenstelle LRA    13         0.0   \n14 2019-01-01 14:00:00  15964 - Salzweg, Außenstelle LRA    14         0.0   \n15 2019-01-01 15:00:00  15964 - Salzweg, Außenstelle LRA    15         1.0   \n16 2019-01-01 16:00:00  15964 - Salzweg, Außenstelle LRA    16         0.0   \n17 2019-01-01 17:00:00  15964 - Salzweg, Außenstelle LRA    17         0.0   \n18 2019-01-01 18:00:00  15964 - Salzweg, Außenstelle LRA    18         0.0   \n19 2019-01-01 19:00:00  15964 - Salzweg, Außenstelle LRA    19         0.0   \n20 2019-01-01 20:00:00  15964 - Salzweg, Außenstelle LRA    20         0.0   \n21 2019-01-01 21:00:00  15964 - Salzweg, Außenstelle LRA    21         0.0   \n22 2019-01-01 22:00:00  15964 - Salzweg, Außenstelle LRA    22         0.0   \n23 2019-01-01 23:00:00  15964 - Salzweg, Außenstelle LRA    23         0.0   \n24 2019-01-01 00:00:00                4000 - Passau, Hbf     0         0.0   \n25 2019-01-01 01:00:00                4000 - Passau, Hbf     1         0.0   \n26 2019-01-01 02:00:00                4000 - Passau, Hbf     2         0.0   \n27 2019-01-01 03:00:00                4000 - Passau, Hbf     3         0.0   \n28 2019-01-01 04:00:00                4000 - Passau, Hbf     4         0.0   \n29 2019-01-01 05:00:00                4000 - Passau, Hbf     5         0.0   \n30 2019-01-01 06:00:00                4000 - Passau, Hbf     6         0.0   \n31 2019-01-01 07:00:00                4000 - Passau, Hbf     7         0.0   \n32 2019-01-01 08:00:00                4000 - Passau, Hbf     8         0.0   \n33 2019-01-01 09:00:00                4000 - Passau, Hbf     9         1.0   \n34 2019-01-01 10:00:00                4000 - Passau, Hbf    10         0.0   \n35 2019-01-01 11:00:00                4000 - Passau, Hbf    11         1.0   \n36 2019-01-01 12:00:00                4000 - Passau, Hbf    12         1.0   \n37 2019-01-01 13:00:00                4000 - Passau, Hbf    13         2.0   \n38 2019-01-01 14:00:00                4000 - Passau, Hbf    14         1.0   \n39 2019-01-01 15:00:00                4000 - Passau, Hbf    15         3.0   \n40 2019-01-01 16:00:00                4000 - Passau, Hbf    16         0.0   \n41 2019-01-01 17:00:00                4000 - Passau, Hbf    17         4.0   \n42 2019-01-01 18:00:00                4000 - Passau, Hbf    18         1.0   \n43 2019-01-01 19:00:00                4000 - Passau, Hbf    19         2.0   \n44 2019-01-01 20:00:00                4000 - Passau, Hbf    20         0.0   \n45 2019-01-01 21:00:00                4000 - Passau, Hbf    21         0.0   \n46 2019-01-01 22:00:00                4000 - Passau, Hbf    22         0.0   \n47 2019-01-01 23:00:00                4000 - Passau, Hbf    23         0.0   \n\n    class  15964 - Salzweg, Außenstelle LRA  4000 - Passau, Hbf  \\\n0       0                                 1                   0   \n1       0                                 1                   0   \n2       0                                 1                   0   \n3       0                                 1                   0   \n4       0                                 1                   0   \n5       0                                 1                   0   \n6       0                                 1                   0   \n7       0                                 1                   0   \n8       0                                 1                   0   \n9       0                                 1                   0   \n10      0                                 1                   0   \n11      0                                 1                   0   \n12      1                                 1                   0   \n13      0                                 1                   0   \n14      0                                 1                   0   \n15      1                                 1                   0   \n16      0                                 1                   0   \n17      0                                 1                   0   \n18      0                                 1                   0   \n19      0                                 1                   0   \n20      0                                 1                   0   \n21      0                                 1                   0   \n22      0                                 1                   0   \n23      0                                 1                   0   \n24      0                                 0                   1   \n25      0                                 0                   1   \n26      0                                 0                   1   \n27      0                                 0                   1   \n28      0                                 0                   1   \n29      0                                 0                   1   \n30      0                                 0                   1   \n31      0                                 0                   1   \n32      0                                 0                   1   \n33      1                                 0                   1   \n34      0                                 0                   1   \n35      1                                 0                   1   \n36      1                                 0                   1   \n37      2                                 0                   1   \n38      1                                 0                   1   \n39      3                                 0                   1   \n40      0                                 0                   1   \n41      3                                 0                   1   \n42      1                                 0                   1   \n43      2                                 0                   1   \n44      0                                 0                   1   \n45      0                                 0                   1   \n46      0                                 0                   1   \n47      0                                 0                   1   \n\n    4001 - Passau, Kl. Exerzierplatz  4010 - Passau, Am Schanzl(Busbucht)  \\\n0                                  0                                    0   \n1                                  0                                    0   \n2                                  0                                    0   \n3                                  0                                    0   \n4                                  0                                    0   \n5                                  0                                    0   \n6                                  0                                    0   \n7                                  0                                    0   \n8                                  0                                    0   \n9                                  0                                    0   \n10                                 0                                    0   \n11                                 0                                    0   \n12                                 0                                    0   \n13                                 0                                    0   \n14                                 0                                    0   \n15                                 0                                    0   \n16                                 0                                    0   \n17                                 0                                    0   \n18                                 0                                    0   \n19                                 0                                    0   \n20                                 0                                    0   \n21                                 0                                    0   \n22                                 0                                    0   \n23                                 0                                    0   \n24                                 0                                    0   \n25                                 0                                    0   \n26                                 0                                    0   \n27                                 0                                    0   \n28                                 0                                    0   \n29                                 0                                    0   \n30                                 0                                    0   \n31                                 0                                    0   \n32                                 0                                    0   \n33                                 0                                    0   \n34                                 0                                    0   \n35                                 0                                    0   \n36                                 0                                    0   \n37                                 0                                    0   \n38                                 0                                    0   \n39                                 0                                    0   \n40                                 0                                    0   \n41                                 0                                    0   \n42                                 0                                    0   \n43                                 0                                    0   \n44                                 0                                    0   \n45                                 0                                    0   \n46                                 0                                    0   \n47                                 0                                    0   \n\n    4016 - Passau, Römerplatz  ...  5388 - Obernzell, Marktplatz  \\\n0                           0  ...                             0   \n1                           0  ...                             0   \n2                           0  ...                             0   \n3                           0  ...                             0   \n4                           0  ...                             0   \n5                           0  ...                             0   \n6                           0  ...                             0   \n7                           0  ...                             0   \n8                           0  ...                             0   \n9                           0  ...                             0   \n10                          0  ...                             0   \n11                          0  ...                             0   \n12                          0  ...                             0   \n13                          0  ...                             0   \n14                          0  ...                             0   \n15                          0  ...                             0   \n16                          0  ...                             0   \n17                          0  ...                             0   \n18                          0  ...                             0   \n19                          0  ...                             0   \n20                          0  ...                             0   \n21                          0  ...                             0   \n22                          0  ...                             0   \n23                          0  ...                             0   \n24                          0  ...                             0   \n25                          0  ...                             0   \n26                          0  ...                             0   \n27                          0  ...                             0   \n28                          0  ...                             0   \n29                          0  ...                             0   \n30                          0  ...                             0   \n31                          0  ...                             0   \n32                          0  ...                             0   \n33                          0  ...                             0   \n34                          0  ...                             0   \n35                          0  ...                             0   \n36                          0  ...                             0   \n37                          0  ...                             0   \n38                          0  ...                             0   \n39                          0  ...                             0   \n40                          0  ...                             0   \n41                          0  ...                             0   \n42                          0  ...                             0   \n43                          0  ...                             0   \n44                          0  ...                             0   \n45                          0  ...                             0   \n46                          0  ...                             0   \n47                          0  ...                             0   \n\n    5396 - Untergriesbach, Marktplatz  5425 - Breitenberg, Passauer-Str.  \\\n0                                   0                                  0   \n1                                   0                                  0   \n2                                   0                                  0   \n3                                   0                                  0   \n4                                   0                                  0   \n5                                   0                                  0   \n6                                   0                                  0   \n7                                   0                                  0   \n8                                   0                                  0   \n9                                   0                                  0   \n10                                  0                                  0   \n11                                  0                                  0   \n12                                  0                                  0   \n13                                  0                                  0   \n14                                  0                                  0   \n15                                  0                                  0   \n16                                  0                                  0   \n17                                  0                                  0   \n18                                  0                                  0   \n19                                  0                                  0   \n20                                  0                                  0   \n21                                  0                                  0   \n22                                  0                                  0   \n23                                  0                                  0   \n24                                  0                                  0   \n25                                  0                                  0   \n26                                  0                                  0   \n27                                  0                                  0   \n28                                  0                                  0   \n29                                  0                                  0   \n30                                  0                                  0   \n31                                  0                                  0   \n32                                  0                                  0   \n33                                  0                                  0   \n34                                  0                                  0   \n35                                  0                                  0   \n36                                  0                                  0   \n37                                  0                                  0   \n38                                  0                                  0   \n39                                  0                                  0   \n40                                  0                                  0   \n41                                  0                                  0   \n42                                  0                                  0   \n43                                  0                                  0   \n44                                  0                                  0   \n45                                  0                                  0   \n46                                  0                                  0   \n47                                  0                                  0   \n\n    5444 - Wegscheid, Rathaus  5455 - Hauzenberg, Post  \\\n0                           0                        0   \n1                           0                        0   \n2                           0                        0   \n3                           0                        0   \n4                           0                        0   \n5                           0                        0   \n6                           0                        0   \n7                           0                        0   \n8                           0                        0   \n9                           0                        0   \n10                          0                        0   \n11                          0                        0   \n12                          0                        0   \n13                          0                        0   \n14                          0                        0   \n15                          0                        0   \n16                          0                        0   \n17                          0                        0   \n18                          0                        0   \n19                          0                        0   \n20                          0                        0   \n21                          0                        0   \n22                          0                        0   \n23                          0                        0   \n24                          0                        0   \n25                          0                        0   \n26                          0                        0   \n27                          0                        0   \n28                          0                        0   \n29                          0                        0   \n30                          0                        0   \n31                          0                        0   \n32                          0                        0   \n33                          0                        0   \n34                          0                        0   \n35                          0                        0   \n36                          0                        0   \n37                          0                        0   \n38                          0                        0   \n39                          0                        0   \n40                          0                        0   \n41                          0                        0   \n42                          0                        0   \n43                          0                        0   \n44                          0                        0   \n45                          0                        0   \n46                          0                        0   \n47                          0                        0   \n\n    5459 - Hauzenberg, Abzw Schulstr.  6462 - Aidenbach, Marktplatz  \\\n0                                   0                             0   \n1                                   0                             0   \n2                                   0                             0   \n3                                   0                             0   \n4                                   0                             0   \n5                                   0                             0   \n6                                   0                             0   \n7                                   0                             0   \n8                                   0                             0   \n9                                   0                             0   \n10                                  0                             0   \n11                                  0                             0   \n12                                  0                             0   \n13                                  0                             0   \n14                                  0                             0   \n15                                  0                             0   \n16                                  0                             0   \n17                                  0                             0   \n18                                  0                             0   \n19                                  0                             0   \n20                                  0                             0   \n21                                  0                             0   \n22                                  0                             0   \n23                                  0                             0   \n24                                  0                             0   \n25                                  0                             0   \n26                                  0                             0   \n27                                  0                             0   \n28                                  0                             0   \n29                                  0                             0   \n30                                  0                             0   \n31                                  0                             0   \n32                                  0                             0   \n33                                  0                             0   \n34                                  0                             0   \n35                                  0                             0   \n36                                  0                             0   \n37                                  0                             0   \n38                                  0                             0   \n39                                  0                             0   \n40                                  0                             0   \n41                                  0                             0   \n42                                  0                             0   \n43                                  0                             0   \n44                                  0                             0   \n45                                  0                             0   \n46                                  0                             0   \n47                                  0                             0   \n\n    7601 - Pocking, Obi  8766 - Thyrnau, Edlfurtner  \\\n0                     0                           0   \n1                     0                           0   \n2                     0                           0   \n3                     0                           0   \n4                     0                           0   \n5                     0                           0   \n6                     0                           0   \n7                     0                           0   \n8                     0                           0   \n9                     0                           0   \n10                    0                           0   \n11                    0                           0   \n12                    0                           0   \n13                    0                           0   \n14                    0                           0   \n15                    0                           0   \n16                    0                           0   \n17                    0                           0   \n18                    0                           0   \n19                    0                           0   \n20                    0                           0   \n21                    0                           0   \n22                    0                           0   \n23                    0                           0   \n24                    0                           0   \n25                    0                           0   \n26                    0                           0   \n27                    0                           0   \n28                    0                           0   \n29                    0                           0   \n30                    0                           0   \n31                    0                           0   \n32                    0                           0   \n33                    0                           0   \n34                    0                           0   \n35                    0                           0   \n36                    0                           0   \n37                    0                           0   \n38                    0                           0   \n39                    0                           0   \n40                    0                           0   \n41                    0                           0   \n42                    0                           0   \n43                    0                           0   \n44                    0                           0   \n45                    0                           0   \n46                    0                           0   \n47                    0                           0   \n\n    9750 - Passau, Reisebüro Niedermayer  \n0                                      0  \n1                                      0  \n2                                      0  \n3                                      0  \n4                                      0  \n5                                      0  \n6                                      0  \n7                                      0  \n8                                      0  \n9                                      0  \n10                                     0  \n11                                     0  \n12                                     0  \n13                                     0  \n14                                     0  \n15                                     0  \n16                                     0  \n17                                     0  \n18                                     0  \n19                                     0  \n20                                     0  \n21                                     0  \n22                                     0  \n23                                     0  \n24                                     0  \n25                                     0  \n26                                     0  \n27                                     0  \n28                                     0  \n29                                     0  \n30                                     0  \n31                                     0  \n32                                     0  \n33                                     0  \n34                                     0  \n35                                     0  \n36                                     0  \n37                                     0  \n38                                     0  \n39                                     0  \n40                                     0  \n41                                     0  \n42                                     0  \n43                                     0  \n44                                     0  \n45                                     0  \n46                                     0  \n47                                     0  \n\n[48 rows x 55 columns]",
      "text/html": "<div>\n<style scoped>\n    .dataframe tbody tr th:only-of-type {\n        vertical-align: middle;\n    }\n\n    .dataframe tbody tr th {\n        vertical-align: top;\n    }\n\n    .dataframe thead th {\n        text-align: right;\n    }\n</style>\n<table border=\"1\" class=\"dataframe\">\n  <thead>\n    <tr style=\"text-align: right;\">\n      <th></th>\n      <th>date</th>\n      <th>EZone</th>\n      <th>hour</th>\n      <th>Passengers</th>\n      <th>class</th>\n      <th>15964 - Salzweg, Außenstelle LRA</th>\n      <th>4000 - Passau, Hbf</th>\n      <th>4001 - Passau, Kl. Exerzierplatz</th>\n      <th>4010 - Passau, Am Schanzl(Busbucht)</th>\n      <th>4016 - Passau, Römerplatz</th>\n      <th>...</th>\n      <th>5388 - Obernzell, Marktplatz</th>\n      <th>5396 - Untergriesbach, Marktplatz</th>\n      <th>5425 - Breitenberg, Passauer-Str.</th>\n      <th>5444 - Wegscheid, Rathaus</th>\n      <th>5455 - Hauzenberg, Post</th>\n      <th>5459 - Hauzenberg, Abzw Schulstr.</th>\n      <th>6462 - Aidenbach, Marktplatz</th>\n      <th>7601 - Pocking, Obi</th>\n      <th>8766 - Thyrnau, Edlfurtner</th>\n      <th>9750 - Passau, Reisebüro Niedermayer</th>\n    </tr>\n  </thead>\n  <tbody>\n    <tr>\n      <th>0</th>\n      <td>2019-01-01 00:00:00</td>\n      <td>15964 - Salzweg, Außenstelle LRA</td>\n      <td>0</td>\n      <td>0.0</td>\n      <td>0</td>\n      <td>1</td>\n      <td>0</td>\n      <td>0</td>\n      <td>0</td>\n      <td>0</td>\n      <td>...</td>\n      <td>0</td>\n      <td>0</td>\n      <td>0</td>\n      <td>0</td>\n      <td>0</td>\n      <td>0</td>\n      <td>0</td>\n      <td>0</td>\n      <td>0</td>\n      <td>0</td>\n    </tr>\n    <tr>\n      <th>1</th>\n      <td>2019-01-01 01:00:00</td>\n      <td>15964 - Salzweg, Außenstelle LRA</td>\n      <td>1</td>\n      <td>0.0</td>\n      <td>0</td>\n      <td>1</td>\n      <td>0</td>\n      <td>0</td>\n      <td>0</td>\n      <td>0</td>\n      <td>...</td>\n      <td>0</td>\n      <td>0</td>\n      <td>0</td>\n      <td>0</td>\n      <td>0</td>\n      <td>0</td>\n      <td>0</td>\n      <td>0</td>\n      <td>0</td>\n      <td>0</td>\n    </tr>\n    <tr>\n      <th>2</th>\n      <td>2019-01-01 02:00:00</td>\n      <td>15964 - Salzweg, Außenstelle LRA</td>\n      <td>2</td>\n      <td>0.0</td>\n      <td>0</td>\n      <td>1</td>\n      <td>0</td>\n      <td>0</td>\n      <td>0</td>\n      <td>0</td>\n      <td>...</td>\n      <td>0</td>\n      <td>0</td>\n      <td>0</td>\n      <td>0</td>\n      <td>0</td>\n      <td>0</td>\n      <td>0</td>\n      <td>0</td>\n      <td>0</td>\n      <td>0</td>\n    </tr>\n    <tr>\n      <th>3</th>\n      <td>2019-01-01 03:00:00</td>\n      <td>15964 - Salzweg, Außenstelle LRA</td>\n      <td>3</td>\n      <td>0.0</td>\n      <td>0</td>\n      <td>1</td>\n      <td>0</td>\n      <td>0</td>\n      <td>0</td>\n      <td>0</td>\n      <td>...</td>\n      <td>0</td>\n      <td>0</td>\n      <td>0</td>\n      <td>0</td>\n      <td>0</td>\n      <td>0</td>\n      <td>0</td>\n      <td>0</td>\n      <td>0</td>\n      <td>0</td>\n    </tr>\n    <tr>\n      <th>4</th>\n      <td>2019-01-01 04:00:00</td>\n      <td>15964 - Salzweg, Außenstelle LRA</td>\n      <td>4</td>\n      <td>0.0</td>\n      <td>0</td>\n      <td>1</td>\n      <td>0</td>\n      <td>0</td>\n      <td>0</td>\n      <td>0</td>\n      <td>...</td>\n      <td>0</td>\n      <td>0</td>\n      <td>0</td>\n      <td>0</td>\n      <td>0</td>\n      <td>0</td>\n      <td>0</td>\n      <td>0</td>\n      <td>0</td>\n      <td>0</td>\n    </tr>\n    <tr>\n      <th>5</th>\n      <td>2019-01-01 05:00:00</td>\n      <td>15964 - Salzweg, Außenstelle LRA</td>\n      <td>5</td>\n      <td>0.0</td>\n      <td>0</td>\n      <td>1</td>\n      <td>0</td>\n      <td>0</td>\n      <td>0</td>\n      <td>0</td>\n      <td>...</td>\n      <td>0</td>\n      <td>0</td>\n      <td>0</td>\n      <td>0</td>\n      <td>0</td>\n      <td>0</td>\n      <td>0</td>\n      <td>0</td>\n      <td>0</td>\n      <td>0</td>\n    </tr>\n    <tr>\n      <th>6</th>\n      <td>2019-01-01 06:00:00</td>\n      <td>15964 - Salzweg, Außenstelle LRA</td>\n      <td>6</td>\n      <td>0.0</td>\n      <td>0</td>\n      <td>1</td>\n      <td>0</td>\n      <td>0</td>\n      <td>0</td>\n      <td>0</td>\n      <td>...</td>\n      <td>0</td>\n      <td>0</td>\n      <td>0</td>\n      <td>0</td>\n      <td>0</td>\n      <td>0</td>\n      <td>0</td>\n      <td>0</td>\n      <td>0</td>\n      <td>0</td>\n    </tr>\n    <tr>\n      <th>7</th>\n      <td>2019-01-01 07:00:00</td>\n      <td>15964 - Salzweg, Außenstelle LRA</td>\n      <td>7</td>\n      <td>0.0</td>\n      <td>0</td>\n      <td>1</td>\n      <td>0</td>\n      <td>0</td>\n      <td>0</td>\n      <td>0</td>\n      <td>...</td>\n      <td>0</td>\n      <td>0</td>\n      <td>0</td>\n      <td>0</td>\n      <td>0</td>\n      <td>0</td>\n      <td>0</td>\n      <td>0</td>\n      <td>0</td>\n      <td>0</td>\n    </tr>\n    <tr>\n      <th>8</th>\n      <td>2019-01-01 08:00:00</td>\n      <td>15964 - Salzweg, Außenstelle LRA</td>\n      <td>8</td>\n      <td>0.0</td>\n      <td>0</td>\n      <td>1</td>\n      <td>0</td>\n      <td>0</td>\n      <td>0</td>\n      <td>0</td>\n      <td>...</td>\n      <td>0</td>\n      <td>0</td>\n      <td>0</td>\n      <td>0</td>\n      <td>0</td>\n      <td>0</td>\n      <td>0</td>\n      <td>0</td>\n      <td>0</td>\n      <td>0</td>\n    </tr>\n    <tr>\n      <th>9</th>\n      <td>2019-01-01 09:00:00</td>\n      <td>15964 - Salzweg, Außenstelle LRA</td>\n      <td>9</td>\n      <td>0.0</td>\n      <td>0</td>\n      <td>1</td>\n      <td>0</td>\n      <td>0</td>\n      <td>0</td>\n      <td>0</td>\n      <td>...</td>\n      <td>0</td>\n      <td>0</td>\n      <td>0</td>\n      <td>0</td>\n      <td>0</td>\n      <td>0</td>\n      <td>0</td>\n      <td>0</td>\n      <td>0</td>\n      <td>0</td>\n    </tr>\n    <tr>\n      <th>10</th>\n      <td>2019-01-01 10:00:00</td>\n      <td>15964 - Salzweg, Außenstelle LRA</td>\n      <td>10</td>\n      <td>0.0</td>\n      <td>0</td>\n      <td>1</td>\n      <td>0</td>\n      <td>0</td>\n      <td>0</td>\n      <td>0</td>\n      <td>...</td>\n      <td>0</td>\n      <td>0</td>\n      <td>0</td>\n      <td>0</td>\n      <td>0</td>\n      <td>0</td>\n      <td>0</td>\n      <td>0</td>\n      <td>0</td>\n      <td>0</td>\n    </tr>\n    <tr>\n      <th>11</th>\n      <td>2019-01-01 11:00:00</td>\n      <td>15964 - Salzweg, Außenstelle LRA</td>\n      <td>11</td>\n      <td>0.0</td>\n      <td>0</td>\n      <td>1</td>\n      <td>0</td>\n      <td>0</td>\n      <td>0</td>\n      <td>0</td>\n      <td>...</td>\n      <td>0</td>\n      <td>0</td>\n      <td>0</td>\n      <td>0</td>\n      <td>0</td>\n      <td>0</td>\n      <td>0</td>\n      <td>0</td>\n      <td>0</td>\n      <td>0</td>\n    </tr>\n    <tr>\n      <th>12</th>\n      <td>2019-01-01 12:00:00</td>\n      <td>15964 - Salzweg, Außenstelle LRA</td>\n      <td>12</td>\n      <td>1.0</td>\n      <td>1</td>\n      <td>1</td>\n      <td>0</td>\n      <td>0</td>\n      <td>0</td>\n      <td>0</td>\n      <td>...</td>\n      <td>0</td>\n      <td>0</td>\n      <td>0</td>\n      <td>0</td>\n      <td>0</td>\n      <td>0</td>\n      <td>0</td>\n      <td>0</td>\n      <td>0</td>\n      <td>0</td>\n    </tr>\n    <tr>\n      <th>13</th>\n      <td>2019-01-01 13:00:00</td>\n      <td>15964 - Salzweg, Außenstelle LRA</td>\n      <td>13</td>\n      <td>0.0</td>\n      <td>0</td>\n      <td>1</td>\n      <td>0</td>\n      <td>0</td>\n      <td>0</td>\n      <td>0</td>\n      <td>...</td>\n      <td>0</td>\n      <td>0</td>\n      <td>0</td>\n      <td>0</td>\n      <td>0</td>\n      <td>0</td>\n      <td>0</td>\n      <td>0</td>\n      <td>0</td>\n      <td>0</td>\n    </tr>\n    <tr>\n      <th>14</th>\n      <td>2019-01-01 14:00:00</td>\n      <td>15964 - Salzweg, Außenstelle LRA</td>\n      <td>14</td>\n      <td>0.0</td>\n      <td>0</td>\n      <td>1</td>\n      <td>0</td>\n      <td>0</td>\n      <td>0</td>\n      <td>0</td>\n      <td>...</td>\n      <td>0</td>\n      <td>0</td>\n      <td>0</td>\n      <td>0</td>\n      <td>0</td>\n      <td>0</td>\n      <td>0</td>\n      <td>0</td>\n      <td>0</td>\n      <td>0</td>\n    </tr>\n    <tr>\n      <th>15</th>\n      <td>2019-01-01 15:00:00</td>\n      <td>15964 - Salzweg, Außenstelle LRA</td>\n      <td>15</td>\n      <td>1.0</td>\n      <td>1</td>\n      <td>1</td>\n      <td>0</td>\n      <td>0</td>\n      <td>0</td>\n      <td>0</td>\n      <td>...</td>\n      <td>0</td>\n      <td>0</td>\n      <td>0</td>\n      <td>0</td>\n      <td>0</td>\n      <td>0</td>\n      <td>0</td>\n      <td>0</td>\n      <td>0</td>\n      <td>0</td>\n    </tr>\n    <tr>\n      <th>16</th>\n      <td>2019-01-01 16:00:00</td>\n      <td>15964 - Salzweg, Außenstelle LRA</td>\n      <td>16</td>\n      <td>0.0</td>\n      <td>0</td>\n      <td>1</td>\n      <td>0</td>\n      <td>0</td>\n      <td>0</td>\n      <td>0</td>\n      <td>...</td>\n      <td>0</td>\n      <td>0</td>\n      <td>0</td>\n      <td>0</td>\n      <td>0</td>\n      <td>0</td>\n      <td>0</td>\n      <td>0</td>\n      <td>0</td>\n      <td>0</td>\n    </tr>\n    <tr>\n      <th>17</th>\n      <td>2019-01-01 17:00:00</td>\n      <td>15964 - Salzweg, Außenstelle LRA</td>\n      <td>17</td>\n      <td>0.0</td>\n      <td>0</td>\n      <td>1</td>\n      <td>0</td>\n      <td>0</td>\n      <td>0</td>\n      <td>0</td>\n      <td>...</td>\n      <td>0</td>\n      <td>0</td>\n      <td>0</td>\n      <td>0</td>\n      <td>0</td>\n      <td>0</td>\n      <td>0</td>\n      <td>0</td>\n      <td>0</td>\n      <td>0</td>\n    </tr>\n    <tr>\n      <th>18</th>\n      <td>2019-01-01 18:00:00</td>\n      <td>15964 - Salzweg, Außenstelle LRA</td>\n      <td>18</td>\n      <td>0.0</td>\n      <td>0</td>\n      <td>1</td>\n      <td>0</td>\n      <td>0</td>\n      <td>0</td>\n      <td>0</td>\n      <td>...</td>\n      <td>0</td>\n      <td>0</td>\n      <td>0</td>\n      <td>0</td>\n      <td>0</td>\n      <td>0</td>\n      <td>0</td>\n      <td>0</td>\n      <td>0</td>\n      <td>0</td>\n    </tr>\n    <tr>\n      <th>19</th>\n      <td>2019-01-01 19:00:00</td>\n      <td>15964 - Salzweg, Außenstelle LRA</td>\n      <td>19</td>\n      <td>0.0</td>\n      <td>0</td>\n      <td>1</td>\n      <td>0</td>\n      <td>0</td>\n      <td>0</td>\n      <td>0</td>\n      <td>...</td>\n      <td>0</td>\n      <td>0</td>\n      <td>0</td>\n      <td>0</td>\n      <td>0</td>\n      <td>0</td>\n      <td>0</td>\n      <td>0</td>\n      <td>0</td>\n      <td>0</td>\n    </tr>\n    <tr>\n      <th>20</th>\n      <td>2019-01-01 20:00:00</td>\n      <td>15964 - Salzweg, Außenstelle LRA</td>\n      <td>20</td>\n      <td>0.0</td>\n      <td>0</td>\n      <td>1</td>\n      <td>0</td>\n      <td>0</td>\n      <td>0</td>\n      <td>0</td>\n      <td>...</td>\n      <td>0</td>\n      <td>0</td>\n      <td>0</td>\n      <td>0</td>\n      <td>0</td>\n      <td>0</td>\n      <td>0</td>\n      <td>0</td>\n      <td>0</td>\n      <td>0</td>\n    </tr>\n    <tr>\n      <th>21</th>\n      <td>2019-01-01 21:00:00</td>\n      <td>15964 - Salzweg, Außenstelle LRA</td>\n      <td>21</td>\n      <td>0.0</td>\n      <td>0</td>\n      <td>1</td>\n      <td>0</td>\n      <td>0</td>\n      <td>0</td>\n      <td>0</td>\n      <td>...</td>\n      <td>0</td>\n      <td>0</td>\n      <td>0</td>\n      <td>0</td>\n      <td>0</td>\n      <td>0</td>\n      <td>0</td>\n      <td>0</td>\n      <td>0</td>\n      <td>0</td>\n    </tr>\n    <tr>\n      <th>22</th>\n      <td>2019-01-01 22:00:00</td>\n      <td>15964 - Salzweg, Außenstelle LRA</td>\n      <td>22</td>\n      <td>0.0</td>\n      <td>0</td>\n      <td>1</td>\n      <td>0</td>\n      <td>0</td>\n      <td>0</td>\n      <td>0</td>\n      <td>...</td>\n      <td>0</td>\n      <td>0</td>\n      <td>0</td>\n      <td>0</td>\n      <td>0</td>\n      <td>0</td>\n      <td>0</td>\n      <td>0</td>\n      <td>0</td>\n      <td>0</td>\n    </tr>\n    <tr>\n      <th>23</th>\n      <td>2019-01-01 23:00:00</td>\n      <td>15964 - Salzweg, Außenstelle LRA</td>\n      <td>23</td>\n      <td>0.0</td>\n      <td>0</td>\n      <td>1</td>\n      <td>0</td>\n      <td>0</td>\n      <td>0</td>\n      <td>0</td>\n      <td>...</td>\n      <td>0</td>\n      <td>0</td>\n      <td>0</td>\n      <td>0</td>\n      <td>0</td>\n      <td>0</td>\n      <td>0</td>\n      <td>0</td>\n      <td>0</td>\n      <td>0</td>\n    </tr>\n    <tr>\n      <th>24</th>\n      <td>2019-01-01 00:00:00</td>\n      <td>4000 - Passau, Hbf</td>\n      <td>0</td>\n      <td>0.0</td>\n      <td>0</td>\n      <td>0</td>\n      <td>1</td>\n      <td>0</td>\n      <td>0</td>\n      <td>0</td>\n      <td>...</td>\n      <td>0</td>\n      <td>0</td>\n      <td>0</td>\n      <td>0</td>\n      <td>0</td>\n      <td>0</td>\n      <td>0</td>\n      <td>0</td>\n      <td>0</td>\n      <td>0</td>\n    </tr>\n    <tr>\n      <th>25</th>\n      <td>2019-01-01 01:00:00</td>\n      <td>4000 - Passau, Hbf</td>\n      <td>1</td>\n      <td>0.0</td>\n      <td>0</td>\n      <td>0</td>\n      <td>1</td>\n      <td>0</td>\n      <td>0</td>\n      <td>0</td>\n      <td>...</td>\n      <td>0</td>\n      <td>0</td>\n      <td>0</td>\n      <td>0</td>\n      <td>0</td>\n      <td>0</td>\n      <td>0</td>\n      <td>0</td>\n      <td>0</td>\n      <td>0</td>\n    </tr>\n    <tr>\n      <th>26</th>\n      <td>2019-01-01 02:00:00</td>\n      <td>4000 - Passau, Hbf</td>\n      <td>2</td>\n      <td>0.0</td>\n      <td>0</td>\n      <td>0</td>\n      <td>1</td>\n      <td>0</td>\n      <td>0</td>\n      <td>0</td>\n      <td>...</td>\n      <td>0</td>\n      <td>0</td>\n      <td>0</td>\n      <td>0</td>\n      <td>0</td>\n      <td>0</td>\n      <td>0</td>\n      <td>0</td>\n      <td>0</td>\n      <td>0</td>\n    </tr>\n    <tr>\n      <th>27</th>\n      <td>2019-01-01 03:00:00</td>\n      <td>4000 - Passau, Hbf</td>\n      <td>3</td>\n      <td>0.0</td>\n      <td>0</td>\n      <td>0</td>\n      <td>1</td>\n      <td>0</td>\n      <td>0</td>\n      <td>0</td>\n      <td>...</td>\n      <td>0</td>\n      <td>0</td>\n      <td>0</td>\n      <td>0</td>\n      <td>0</td>\n      <td>0</td>\n      <td>0</td>\n      <td>0</td>\n      <td>0</td>\n      <td>0</td>\n    </tr>\n    <tr>\n      <th>28</th>\n      <td>2019-01-01 04:00:00</td>\n      <td>4000 - Passau, Hbf</td>\n      <td>4</td>\n      <td>0.0</td>\n      <td>0</td>\n      <td>0</td>\n      <td>1</td>\n      <td>0</td>\n      <td>0</td>\n      <td>0</td>\n      <td>...</td>\n      <td>0</td>\n      <td>0</td>\n      <td>0</td>\n      <td>0</td>\n      <td>0</td>\n      <td>0</td>\n      <td>0</td>\n      <td>0</td>\n      <td>0</td>\n      <td>0</td>\n    </tr>\n    <tr>\n      <th>29</th>\n      <td>2019-01-01 05:00:00</td>\n      <td>4000 - Passau, Hbf</td>\n      <td>5</td>\n      <td>0.0</td>\n      <td>0</td>\n      <td>0</td>\n      <td>1</td>\n      <td>0</td>\n      <td>0</td>\n      <td>0</td>\n      <td>...</td>\n      <td>0</td>\n      <td>0</td>\n      <td>0</td>\n      <td>0</td>\n      <td>0</td>\n      <td>0</td>\n      <td>0</td>\n      <td>0</td>\n      <td>0</td>\n      <td>0</td>\n    </tr>\n    <tr>\n      <th>30</th>\n      <td>2019-01-01 06:00:00</td>\n      <td>4000 - Passau, Hbf</td>\n      <td>6</td>\n      <td>0.0</td>\n      <td>0</td>\n      <td>0</td>\n      <td>1</td>\n      <td>0</td>\n      <td>0</td>\n      <td>0</td>\n      <td>...</td>\n      <td>0</td>\n      <td>0</td>\n      <td>0</td>\n      <td>0</td>\n      <td>0</td>\n      <td>0</td>\n      <td>0</td>\n      <td>0</td>\n      <td>0</td>\n      <td>0</td>\n    </tr>\n    <tr>\n      <th>31</th>\n      <td>2019-01-01 07:00:00</td>\n      <td>4000 - Passau, Hbf</td>\n      <td>7</td>\n      <td>0.0</td>\n      <td>0</td>\n      <td>0</td>\n      <td>1</td>\n      <td>0</td>\n      <td>0</td>\n      <td>0</td>\n      <td>...</td>\n      <td>0</td>\n      <td>0</td>\n      <td>0</td>\n      <td>0</td>\n      <td>0</td>\n      <td>0</td>\n      <td>0</td>\n      <td>0</td>\n      <td>0</td>\n      <td>0</td>\n    </tr>\n    <tr>\n      <th>32</th>\n      <td>2019-01-01 08:00:00</td>\n      <td>4000 - Passau, Hbf</td>\n      <td>8</td>\n      <td>0.0</td>\n      <td>0</td>\n      <td>0</td>\n      <td>1</td>\n      <td>0</td>\n      <td>0</td>\n      <td>0</td>\n      <td>...</td>\n      <td>0</td>\n      <td>0</td>\n      <td>0</td>\n      <td>0</td>\n      <td>0</td>\n      <td>0</td>\n      <td>0</td>\n      <td>0</td>\n      <td>0</td>\n      <td>0</td>\n    </tr>\n    <tr>\n      <th>33</th>\n      <td>2019-01-01 09:00:00</td>\n      <td>4000 - Passau, Hbf</td>\n      <td>9</td>\n      <td>1.0</td>\n      <td>1</td>\n      <td>0</td>\n      <td>1</td>\n      <td>0</td>\n      <td>0</td>\n      <td>0</td>\n      <td>...</td>\n      <td>0</td>\n      <td>0</td>\n      <td>0</td>\n      <td>0</td>\n      <td>0</td>\n      <td>0</td>\n      <td>0</td>\n      <td>0</td>\n      <td>0</td>\n      <td>0</td>\n    </tr>\n    <tr>\n      <th>34</th>\n      <td>2019-01-01 10:00:00</td>\n      <td>4000 - Passau, Hbf</td>\n      <td>10</td>\n      <td>0.0</td>\n      <td>0</td>\n      <td>0</td>\n      <td>1</td>\n      <td>0</td>\n      <td>0</td>\n      <td>0</td>\n      <td>...</td>\n      <td>0</td>\n      <td>0</td>\n      <td>0</td>\n      <td>0</td>\n      <td>0</td>\n      <td>0</td>\n      <td>0</td>\n      <td>0</td>\n      <td>0</td>\n      <td>0</td>\n    </tr>\n    <tr>\n      <th>35</th>\n      <td>2019-01-01 11:00:00</td>\n      <td>4000 - Passau, Hbf</td>\n      <td>11</td>\n      <td>1.0</td>\n      <td>1</td>\n      <td>0</td>\n      <td>1</td>\n      <td>0</td>\n      <td>0</td>\n      <td>0</td>\n      <td>...</td>\n      <td>0</td>\n      <td>0</td>\n      <td>0</td>\n      <td>0</td>\n      <td>0</td>\n      <td>0</td>\n      <td>0</td>\n      <td>0</td>\n      <td>0</td>\n      <td>0</td>\n    </tr>\n    <tr>\n      <th>36</th>\n      <td>2019-01-01 12:00:00</td>\n      <td>4000 - Passau, Hbf</td>\n      <td>12</td>\n      <td>1.0</td>\n      <td>1</td>\n      <td>0</td>\n      <td>1</td>\n      <td>0</td>\n      <td>0</td>\n      <td>0</td>\n      <td>...</td>\n      <td>0</td>\n      <td>0</td>\n      <td>0</td>\n      <td>0</td>\n      <td>0</td>\n      <td>0</td>\n      <td>0</td>\n      <td>0</td>\n      <td>0</td>\n      <td>0</td>\n    </tr>\n    <tr>\n      <th>37</th>\n      <td>2019-01-01 13:00:00</td>\n      <td>4000 - Passau, Hbf</td>\n      <td>13</td>\n      <td>2.0</td>\n      <td>2</td>\n      <td>0</td>\n      <td>1</td>\n      <td>0</td>\n      <td>0</td>\n      <td>0</td>\n      <td>...</td>\n      <td>0</td>\n      <td>0</td>\n      <td>0</td>\n      <td>0</td>\n      <td>0</td>\n      <td>0</td>\n      <td>0</td>\n      <td>0</td>\n      <td>0</td>\n      <td>0</td>\n    </tr>\n    <tr>\n      <th>38</th>\n      <td>2019-01-01 14:00:00</td>\n      <td>4000 - Passau, Hbf</td>\n      <td>14</td>\n      <td>1.0</td>\n      <td>1</td>\n      <td>0</td>\n      <td>1</td>\n      <td>0</td>\n      <td>0</td>\n      <td>0</td>\n      <td>...</td>\n      <td>0</td>\n      <td>0</td>\n      <td>0</td>\n      <td>0</td>\n      <td>0</td>\n      <td>0</td>\n      <td>0</td>\n      <td>0</td>\n      <td>0</td>\n      <td>0</td>\n    </tr>\n    <tr>\n      <th>39</th>\n      <td>2019-01-01 15:00:00</td>\n      <td>4000 - Passau, Hbf</td>\n      <td>15</td>\n      <td>3.0</td>\n      <td>3</td>\n      <td>0</td>\n      <td>1</td>\n      <td>0</td>\n      <td>0</td>\n      <td>0</td>\n      <td>...</td>\n      <td>0</td>\n      <td>0</td>\n      <td>0</td>\n      <td>0</td>\n      <td>0</td>\n      <td>0</td>\n      <td>0</td>\n      <td>0</td>\n      <td>0</td>\n      <td>0</td>\n    </tr>\n    <tr>\n      <th>40</th>\n      <td>2019-01-01 16:00:00</td>\n      <td>4000 - Passau, Hbf</td>\n      <td>16</td>\n      <td>0.0</td>\n      <td>0</td>\n      <td>0</td>\n      <td>1</td>\n      <td>0</td>\n      <td>0</td>\n      <td>0</td>\n      <td>...</td>\n      <td>0</td>\n      <td>0</td>\n      <td>0</td>\n      <td>0</td>\n      <td>0</td>\n      <td>0</td>\n      <td>0</td>\n      <td>0</td>\n      <td>0</td>\n      <td>0</td>\n    </tr>\n    <tr>\n      <th>41</th>\n      <td>2019-01-01 17:00:00</td>\n      <td>4000 - Passau, Hbf</td>\n      <td>17</td>\n      <td>4.0</td>\n      <td>3</td>\n      <td>0</td>\n      <td>1</td>\n      <td>0</td>\n      <td>0</td>\n      <td>0</td>\n      <td>...</td>\n      <td>0</td>\n      <td>0</td>\n      <td>0</td>\n      <td>0</td>\n      <td>0</td>\n      <td>0</td>\n      <td>0</td>\n      <td>0</td>\n      <td>0</td>\n      <td>0</td>\n    </tr>\n    <tr>\n      <th>42</th>\n      <td>2019-01-01 18:00:00</td>\n      <td>4000 - Passau, Hbf</td>\n      <td>18</td>\n      <td>1.0</td>\n      <td>1</td>\n      <td>0</td>\n      <td>1</td>\n      <td>0</td>\n      <td>0</td>\n      <td>0</td>\n      <td>...</td>\n      <td>0</td>\n      <td>0</td>\n      <td>0</td>\n      <td>0</td>\n      <td>0</td>\n      <td>0</td>\n      <td>0</td>\n      <td>0</td>\n      <td>0</td>\n      <td>0</td>\n    </tr>\n    <tr>\n      <th>43</th>\n      <td>2019-01-01 19:00:00</td>\n      <td>4000 - Passau, Hbf</td>\n      <td>19</td>\n      <td>2.0</td>\n      <td>2</td>\n      <td>0</td>\n      <td>1</td>\n      <td>0</td>\n      <td>0</td>\n      <td>0</td>\n      <td>...</td>\n      <td>0</td>\n      <td>0</td>\n      <td>0</td>\n      <td>0</td>\n      <td>0</td>\n      <td>0</td>\n      <td>0</td>\n      <td>0</td>\n      <td>0</td>\n      <td>0</td>\n    </tr>\n    <tr>\n      <th>44</th>\n      <td>2019-01-01 20:00:00</td>\n      <td>4000 - Passau, Hbf</td>\n      <td>20</td>\n      <td>0.0</td>\n      <td>0</td>\n      <td>0</td>\n      <td>1</td>\n      <td>0</td>\n      <td>0</td>\n      <td>0</td>\n      <td>...</td>\n      <td>0</td>\n      <td>0</td>\n      <td>0</td>\n      <td>0</td>\n      <td>0</td>\n      <td>0</td>\n      <td>0</td>\n      <td>0</td>\n      <td>0</td>\n      <td>0</td>\n    </tr>\n    <tr>\n      <th>45</th>\n      <td>2019-01-01 21:00:00</td>\n      <td>4000 - Passau, Hbf</td>\n      <td>21</td>\n      <td>0.0</td>\n      <td>0</td>\n      <td>0</td>\n      <td>1</td>\n      <td>0</td>\n      <td>0</td>\n      <td>0</td>\n      <td>...</td>\n      <td>0</td>\n      <td>0</td>\n      <td>0</td>\n      <td>0</td>\n      <td>0</td>\n      <td>0</td>\n      <td>0</td>\n      <td>0</td>\n      <td>0</td>\n      <td>0</td>\n    </tr>\n    <tr>\n      <th>46</th>\n      <td>2019-01-01 22:00:00</td>\n      <td>4000 - Passau, Hbf</td>\n      <td>22</td>\n      <td>0.0</td>\n      <td>0</td>\n      <td>0</td>\n      <td>1</td>\n      <td>0</td>\n      <td>0</td>\n      <td>0</td>\n      <td>...</td>\n      <td>0</td>\n      <td>0</td>\n      <td>0</td>\n      <td>0</td>\n      <td>0</td>\n      <td>0</td>\n      <td>0</td>\n      <td>0</td>\n      <td>0</td>\n      <td>0</td>\n    </tr>\n    <tr>\n      <th>47</th>\n      <td>2019-01-01 23:00:00</td>\n      <td>4000 - Passau, Hbf</td>\n      <td>23</td>\n      <td>0.0</td>\n      <td>0</td>\n      <td>0</td>\n      <td>1</td>\n      <td>0</td>\n      <td>0</td>\n      <td>0</td>\n      <td>...</td>\n      <td>0</td>\n      <td>0</td>\n      <td>0</td>\n      <td>0</td>\n      <td>0</td>\n      <td>0</td>\n      <td>0</td>\n      <td>0</td>\n      <td>0</td>\n      <td>0</td>\n    </tr>\n  </tbody>\n</table>\n<p>48 rows × 55 columns</p>\n</div>"
     },
     "execution_count": 13,
     "metadata": {},
     "output_type": "execute_result"
    }
   ],
   "source": [
    "reg_df.head(48)"
   ],
   "metadata": {
    "collapsed": false,
    "pycharm": {
     "name": "#%%\n"
    }
   }
  },
  {
   "cell_type": "code",
   "execution_count": 14,
   "outputs": [
    {
     "data": {
      "text/plain": "                      date                                 EZone  hour  \\\n419952 2019-12-16 00:00:00            8766 - Thyrnau, Edlfurtner     0   \n419953 2019-12-16 01:00:00            8766 - Thyrnau, Edlfurtner     1   \n419954 2019-12-16 02:00:00            8766 - Thyrnau, Edlfurtner     2   \n419955 2019-12-16 03:00:00            8766 - Thyrnau, Edlfurtner     3   \n419956 2019-12-16 04:00:00            8766 - Thyrnau, Edlfurtner     4   \n419957 2019-12-16 05:00:00            8766 - Thyrnau, Edlfurtner     5   \n419958 2019-12-16 06:00:00            8766 - Thyrnau, Edlfurtner     6   \n419959 2019-12-16 07:00:00            8766 - Thyrnau, Edlfurtner     7   \n419960 2019-12-16 08:00:00            8766 - Thyrnau, Edlfurtner     8   \n419961 2019-12-16 09:00:00            8766 - Thyrnau, Edlfurtner     9   \n419962 2019-12-16 10:00:00            8766 - Thyrnau, Edlfurtner    10   \n419963 2019-12-16 11:00:00            8766 - Thyrnau, Edlfurtner    11   \n419964 2019-12-16 12:00:00            8766 - Thyrnau, Edlfurtner    12   \n419965 2019-12-16 13:00:00            8766 - Thyrnau, Edlfurtner    13   \n419966 2019-12-16 14:00:00            8766 - Thyrnau, Edlfurtner    14   \n419967 2019-12-16 15:00:00            8766 - Thyrnau, Edlfurtner    15   \n419968 2019-12-16 16:00:00            8766 - Thyrnau, Edlfurtner    16   \n419969 2019-12-16 17:00:00            8766 - Thyrnau, Edlfurtner    17   \n419970 2019-12-16 18:00:00            8766 - Thyrnau, Edlfurtner    18   \n419971 2019-12-16 19:00:00            8766 - Thyrnau, Edlfurtner    19   \n419972 2019-12-16 20:00:00            8766 - Thyrnau, Edlfurtner    20   \n419973 2019-12-16 21:00:00            8766 - Thyrnau, Edlfurtner    21   \n419974 2019-12-16 22:00:00            8766 - Thyrnau, Edlfurtner    22   \n419975 2019-12-16 23:00:00            8766 - Thyrnau, Edlfurtner    23   \n419976 2019-12-16 00:00:00  9750 - Passau, Reisebüro Niedermayer     0   \n419977 2019-12-16 01:00:00  9750 - Passau, Reisebüro Niedermayer     1   \n419978 2019-12-16 02:00:00  9750 - Passau, Reisebüro Niedermayer     2   \n419979 2019-12-16 03:00:00  9750 - Passau, Reisebüro Niedermayer     3   \n419980 2019-12-16 04:00:00  9750 - Passau, Reisebüro Niedermayer     4   \n419981 2019-12-16 05:00:00  9750 - Passau, Reisebüro Niedermayer     5   \n419982 2019-12-16 06:00:00  9750 - Passau, Reisebüro Niedermayer     6   \n419983 2019-12-16 07:00:00  9750 - Passau, Reisebüro Niedermayer     7   \n419984 2019-12-16 08:00:00  9750 - Passau, Reisebüro Niedermayer     8   \n419985 2019-12-16 09:00:00  9750 - Passau, Reisebüro Niedermayer     9   \n419986 2019-12-16 10:00:00  9750 - Passau, Reisebüro Niedermayer    10   \n419987 2019-12-16 11:00:00  9750 - Passau, Reisebüro Niedermayer    11   \n419988 2019-12-16 12:00:00  9750 - Passau, Reisebüro Niedermayer    12   \n419989 2019-12-16 13:00:00  9750 - Passau, Reisebüro Niedermayer    13   \n419990 2019-12-16 14:00:00  9750 - Passau, Reisebüro Niedermayer    14   \n419991 2019-12-16 15:00:00  9750 - Passau, Reisebüro Niedermayer    15   \n419992 2019-12-16 16:00:00  9750 - Passau, Reisebüro Niedermayer    16   \n419993 2019-12-16 17:00:00  9750 - Passau, Reisebüro Niedermayer    17   \n419994 2019-12-16 18:00:00  9750 - Passau, Reisebüro Niedermayer    18   \n419995 2019-12-16 19:00:00  9750 - Passau, Reisebüro Niedermayer    19   \n419996 2019-12-16 20:00:00  9750 - Passau, Reisebüro Niedermayer    20   \n419997 2019-12-16 21:00:00  9750 - Passau, Reisebüro Niedermayer    21   \n419998 2019-12-16 22:00:00  9750 - Passau, Reisebüro Niedermayer    22   \n419999 2019-12-16 23:00:00  9750 - Passau, Reisebüro Niedermayer    23   \n\n        Passengers  class  15964 - Salzweg, Außenstelle LRA  \\\n419952         NaN      3                                 0   \n419953         NaN      3                                 0   \n419954         NaN      3                                 0   \n419955         NaN      3                                 0   \n419956         NaN      3                                 0   \n419957         NaN      3                                 0   \n419958         NaN      3                                 0   \n419959         NaN      3                                 0   \n419960         NaN      3                                 0   \n419961         NaN      3                                 0   \n419962         NaN      3                                 0   \n419963         NaN      3                                 0   \n419964         NaN      3                                 0   \n419965         NaN      3                                 0   \n419966         NaN      3                                 0   \n419967         NaN      3                                 0   \n419968         NaN      3                                 0   \n419969         NaN      3                                 0   \n419970         NaN      3                                 0   \n419971         NaN      3                                 0   \n419972         NaN      3                                 0   \n419973         NaN      3                                 0   \n419974         NaN      3                                 0   \n419975         NaN      3                                 0   \n419976         NaN      3                                 0   \n419977         NaN      3                                 0   \n419978         NaN      3                                 0   \n419979         NaN      3                                 0   \n419980         NaN      3                                 0   \n419981         NaN      3                                 0   \n419982         NaN      3                                 0   \n419983         NaN      3                                 0   \n419984         NaN      3                                 0   \n419985         NaN      3                                 0   \n419986         NaN      3                                 0   \n419987         NaN      3                                 0   \n419988         NaN      3                                 0   \n419989         NaN      3                                 0   \n419990         NaN      3                                 0   \n419991         NaN      3                                 0   \n419992         NaN      3                                 0   \n419993         NaN      3                                 0   \n419994         NaN      3                                 0   \n419995         NaN      3                                 0   \n419996         NaN      3                                 0   \n419997         NaN      3                                 0   \n419998         NaN      3                                 0   \n419999         NaN      3                                 0   \n\n        4000 - Passau, Hbf  4001 - Passau, Kl. Exerzierplatz  \\\n419952                   0                                 0   \n419953                   0                                 0   \n419954                   0                                 0   \n419955                   0                                 0   \n419956                   0                                 0   \n419957                   0                                 0   \n419958                   0                                 0   \n419959                   0                                 0   \n419960                   0                                 0   \n419961                   0                                 0   \n419962                   0                                 0   \n419963                   0                                 0   \n419964                   0                                 0   \n419965                   0                                 0   \n419966                   0                                 0   \n419967                   0                                 0   \n419968                   0                                 0   \n419969                   0                                 0   \n419970                   0                                 0   \n419971                   0                                 0   \n419972                   0                                 0   \n419973                   0                                 0   \n419974                   0                                 0   \n419975                   0                                 0   \n419976                   0                                 0   \n419977                   0                                 0   \n419978                   0                                 0   \n419979                   0                                 0   \n419980                   0                                 0   \n419981                   0                                 0   \n419982                   0                                 0   \n419983                   0                                 0   \n419984                   0                                 0   \n419985                   0                                 0   \n419986                   0                                 0   \n419987                   0                                 0   \n419988                   0                                 0   \n419989                   0                                 0   \n419990                   0                                 0   \n419991                   0                                 0   \n419992                   0                                 0   \n419993                   0                                 0   \n419994                   0                                 0   \n419995                   0                                 0   \n419996                   0                                 0   \n419997                   0                                 0   \n419998                   0                                 0   \n419999                   0                                 0   \n\n        4010 - Passau, Am Schanzl(Busbucht)  4016 - Passau, Römerplatz  ...  \\\n419952                                    0                          0  ...   \n419953                                    0                          0  ...   \n419954                                    0                          0  ...   \n419955                                    0                          0  ...   \n419956                                    0                          0  ...   \n419957                                    0                          0  ...   \n419958                                    0                          0  ...   \n419959                                    0                          0  ...   \n419960                                    0                          0  ...   \n419961                                    0                          0  ...   \n419962                                    0                          0  ...   \n419963                                    0                          0  ...   \n419964                                    0                          0  ...   \n419965                                    0                          0  ...   \n419966                                    0                          0  ...   \n419967                                    0                          0  ...   \n419968                                    0                          0  ...   \n419969                                    0                          0  ...   \n419970                                    0                          0  ...   \n419971                                    0                          0  ...   \n419972                                    0                          0  ...   \n419973                                    0                          0  ...   \n419974                                    0                          0  ...   \n419975                                    0                          0  ...   \n419976                                    0                          0  ...   \n419977                                    0                          0  ...   \n419978                                    0                          0  ...   \n419979                                    0                          0  ...   \n419980                                    0                          0  ...   \n419981                                    0                          0  ...   \n419982                                    0                          0  ...   \n419983                                    0                          0  ...   \n419984                                    0                          0  ...   \n419985                                    0                          0  ...   \n419986                                    0                          0  ...   \n419987                                    0                          0  ...   \n419988                                    0                          0  ...   \n419989                                    0                          0  ...   \n419990                                    0                          0  ...   \n419991                                    0                          0  ...   \n419992                                    0                          0  ...   \n419993                                    0                          0  ...   \n419994                                    0                          0  ...   \n419995                                    0                          0  ...   \n419996                                    0                          0  ...   \n419997                                    0                          0  ...   \n419998                                    0                          0  ...   \n419999                                    0                          0  ...   \n\n        5388 - Obernzell, Marktplatz  5396 - Untergriesbach, Marktplatz  \\\n419952                             0                                  0   \n419953                             0                                  0   \n419954                             0                                  0   \n419955                             0                                  0   \n419956                             0                                  0   \n419957                             0                                  0   \n419958                             0                                  0   \n419959                             0                                  0   \n419960                             0                                  0   \n419961                             0                                  0   \n419962                             0                                  0   \n419963                             0                                  0   \n419964                             0                                  0   \n419965                             0                                  0   \n419966                             0                                  0   \n419967                             0                                  0   \n419968                             0                                  0   \n419969                             0                                  0   \n419970                             0                                  0   \n419971                             0                                  0   \n419972                             0                                  0   \n419973                             0                                  0   \n419974                             0                                  0   \n419975                             0                                  0   \n419976                             0                                  0   \n419977                             0                                  0   \n419978                             0                                  0   \n419979                             0                                  0   \n419980                             0                                  0   \n419981                             0                                  0   \n419982                             0                                  0   \n419983                             0                                  0   \n419984                             0                                  0   \n419985                             0                                  0   \n419986                             0                                  0   \n419987                             0                                  0   \n419988                             0                                  0   \n419989                             0                                  0   \n419990                             0                                  0   \n419991                             0                                  0   \n419992                             0                                  0   \n419993                             0                                  0   \n419994                             0                                  0   \n419995                             0                                  0   \n419996                             0                                  0   \n419997                             0                                  0   \n419998                             0                                  0   \n419999                             0                                  0   \n\n        5425 - Breitenberg, Passauer-Str.  5444 - Wegscheid, Rathaus  \\\n419952                                  0                          0   \n419953                                  0                          0   \n419954                                  0                          0   \n419955                                  0                          0   \n419956                                  0                          0   \n419957                                  0                          0   \n419958                                  0                          0   \n419959                                  0                          0   \n419960                                  0                          0   \n419961                                  0                          0   \n419962                                  0                          0   \n419963                                  0                          0   \n419964                                  0                          0   \n419965                                  0                          0   \n419966                                  0                          0   \n419967                                  0                          0   \n419968                                  0                          0   \n419969                                  0                          0   \n419970                                  0                          0   \n419971                                  0                          0   \n419972                                  0                          0   \n419973                                  0                          0   \n419974                                  0                          0   \n419975                                  0                          0   \n419976                                  0                          0   \n419977                                  0                          0   \n419978                                  0                          0   \n419979                                  0                          0   \n419980                                  0                          0   \n419981                                  0                          0   \n419982                                  0                          0   \n419983                                  0                          0   \n419984                                  0                          0   \n419985                                  0                          0   \n419986                                  0                          0   \n419987                                  0                          0   \n419988                                  0                          0   \n419989                                  0                          0   \n419990                                  0                          0   \n419991                                  0                          0   \n419992                                  0                          0   \n419993                                  0                          0   \n419994                                  0                          0   \n419995                                  0                          0   \n419996                                  0                          0   \n419997                                  0                          0   \n419998                                  0                          0   \n419999                                  0                          0   \n\n        5455 - Hauzenberg, Post  5459 - Hauzenberg, Abzw Schulstr.  \\\n419952                        0                                  0   \n419953                        0                                  0   \n419954                        0                                  0   \n419955                        0                                  0   \n419956                        0                                  0   \n419957                        0                                  0   \n419958                        0                                  0   \n419959                        0                                  0   \n419960                        0                                  0   \n419961                        0                                  0   \n419962                        0                                  0   \n419963                        0                                  0   \n419964                        0                                  0   \n419965                        0                                  0   \n419966                        0                                  0   \n419967                        0                                  0   \n419968                        0                                  0   \n419969                        0                                  0   \n419970                        0                                  0   \n419971                        0                                  0   \n419972                        0                                  0   \n419973                        0                                  0   \n419974                        0                                  0   \n419975                        0                                  0   \n419976                        0                                  0   \n419977                        0                                  0   \n419978                        0                                  0   \n419979                        0                                  0   \n419980                        0                                  0   \n419981                        0                                  0   \n419982                        0                                  0   \n419983                        0                                  0   \n419984                        0                                  0   \n419985                        0                                  0   \n419986                        0                                  0   \n419987                        0                                  0   \n419988                        0                                  0   \n419989                        0                                  0   \n419990                        0                                  0   \n419991                        0                                  0   \n419992                        0                                  0   \n419993                        0                                  0   \n419994                        0                                  0   \n419995                        0                                  0   \n419996                        0                                  0   \n419997                        0                                  0   \n419998                        0                                  0   \n419999                        0                                  0   \n\n        6462 - Aidenbach, Marktplatz  7601 - Pocking, Obi  \\\n419952                             0                    0   \n419953                             0                    0   \n419954                             0                    0   \n419955                             0                    0   \n419956                             0                    0   \n419957                             0                    0   \n419958                             0                    0   \n419959                             0                    0   \n419960                             0                    0   \n419961                             0                    0   \n419962                             0                    0   \n419963                             0                    0   \n419964                             0                    0   \n419965                             0                    0   \n419966                             0                    0   \n419967                             0                    0   \n419968                             0                    0   \n419969                             0                    0   \n419970                             0                    0   \n419971                             0                    0   \n419972                             0                    0   \n419973                             0                    0   \n419974                             0                    0   \n419975                             0                    0   \n419976                             0                    0   \n419977                             0                    0   \n419978                             0                    0   \n419979                             0                    0   \n419980                             0                    0   \n419981                             0                    0   \n419982                             0                    0   \n419983                             0                    0   \n419984                             0                    0   \n419985                             0                    0   \n419986                             0                    0   \n419987                             0                    0   \n419988                             0                    0   \n419989                             0                    0   \n419990                             0                    0   \n419991                             0                    0   \n419992                             0                    0   \n419993                             0                    0   \n419994                             0                    0   \n419995                             0                    0   \n419996                             0                    0   \n419997                             0                    0   \n419998                             0                    0   \n419999                             0                    0   \n\n        8766 - Thyrnau, Edlfurtner  9750 - Passau, Reisebüro Niedermayer  \n419952                           1                                     0  \n419953                           1                                     0  \n419954                           1                                     0  \n419955                           1                                     0  \n419956                           1                                     0  \n419957                           1                                     0  \n419958                           1                                     0  \n419959                           1                                     0  \n419960                           1                                     0  \n419961                           1                                     0  \n419962                           1                                     0  \n419963                           1                                     0  \n419964                           1                                     0  \n419965                           1                                     0  \n419966                           1                                     0  \n419967                           1                                     0  \n419968                           1                                     0  \n419969                           1                                     0  \n419970                           1                                     0  \n419971                           1                                     0  \n419972                           1                                     0  \n419973                           1                                     0  \n419974                           1                                     0  \n419975                           1                                     0  \n419976                           0                                     1  \n419977                           0                                     1  \n419978                           0                                     1  \n419979                           0                                     1  \n419980                           0                                     1  \n419981                           0                                     1  \n419982                           0                                     1  \n419983                           0                                     1  \n419984                           0                                     1  \n419985                           0                                     1  \n419986                           0                                     1  \n419987                           0                                     1  \n419988                           0                                     1  \n419989                           0                                     1  \n419990                           0                                     1  \n419991                           0                                     1  \n419992                           0                                     1  \n419993                           0                                     1  \n419994                           0                                     1  \n419995                           0                                     1  \n419996                           0                                     1  \n419997                           0                                     1  \n419998                           0                                     1  \n419999                           0                                     1  \n\n[48 rows x 55 columns]",
      "text/html": "<div>\n<style scoped>\n    .dataframe tbody tr th:only-of-type {\n        vertical-align: middle;\n    }\n\n    .dataframe tbody tr th {\n        vertical-align: top;\n    }\n\n    .dataframe thead th {\n        text-align: right;\n    }\n</style>\n<table border=\"1\" class=\"dataframe\">\n  <thead>\n    <tr style=\"text-align: right;\">\n      <th></th>\n      <th>date</th>\n      <th>EZone</th>\n      <th>hour</th>\n      <th>Passengers</th>\n      <th>class</th>\n      <th>15964 - Salzweg, Außenstelle LRA</th>\n      <th>4000 - Passau, Hbf</th>\n      <th>4001 - Passau, Kl. Exerzierplatz</th>\n      <th>4010 - Passau, Am Schanzl(Busbucht)</th>\n      <th>4016 - Passau, Römerplatz</th>\n      <th>...</th>\n      <th>5388 - Obernzell, Marktplatz</th>\n      <th>5396 - Untergriesbach, Marktplatz</th>\n      <th>5425 - Breitenberg, Passauer-Str.</th>\n      <th>5444 - Wegscheid, Rathaus</th>\n      <th>5455 - Hauzenberg, Post</th>\n      <th>5459 - Hauzenberg, Abzw Schulstr.</th>\n      <th>6462 - Aidenbach, Marktplatz</th>\n      <th>7601 - Pocking, Obi</th>\n      <th>8766 - Thyrnau, Edlfurtner</th>\n      <th>9750 - Passau, Reisebüro Niedermayer</th>\n    </tr>\n  </thead>\n  <tbody>\n    <tr>\n      <th>419952</th>\n      <td>2019-12-16 00:00:00</td>\n      <td>8766 - Thyrnau, Edlfurtner</td>\n      <td>0</td>\n      <td>NaN</td>\n      <td>3</td>\n      <td>0</td>\n      <td>0</td>\n      <td>0</td>\n      <td>0</td>\n      <td>0</td>\n      <td>...</td>\n      <td>0</td>\n      <td>0</td>\n      <td>0</td>\n      <td>0</td>\n      <td>0</td>\n      <td>0</td>\n      <td>0</td>\n      <td>0</td>\n      <td>1</td>\n      <td>0</td>\n    </tr>\n    <tr>\n      <th>419953</th>\n      <td>2019-12-16 01:00:00</td>\n      <td>8766 - Thyrnau, Edlfurtner</td>\n      <td>1</td>\n      <td>NaN</td>\n      <td>3</td>\n      <td>0</td>\n      <td>0</td>\n      <td>0</td>\n      <td>0</td>\n      <td>0</td>\n      <td>...</td>\n      <td>0</td>\n      <td>0</td>\n      <td>0</td>\n      <td>0</td>\n      <td>0</td>\n      <td>0</td>\n      <td>0</td>\n      <td>0</td>\n      <td>1</td>\n      <td>0</td>\n    </tr>\n    <tr>\n      <th>419954</th>\n      <td>2019-12-16 02:00:00</td>\n      <td>8766 - Thyrnau, Edlfurtner</td>\n      <td>2</td>\n      <td>NaN</td>\n      <td>3</td>\n      <td>0</td>\n      <td>0</td>\n      <td>0</td>\n      <td>0</td>\n      <td>0</td>\n      <td>...</td>\n      <td>0</td>\n      <td>0</td>\n      <td>0</td>\n      <td>0</td>\n      <td>0</td>\n      <td>0</td>\n      <td>0</td>\n      <td>0</td>\n      <td>1</td>\n      <td>0</td>\n    </tr>\n    <tr>\n      <th>419955</th>\n      <td>2019-12-16 03:00:00</td>\n      <td>8766 - Thyrnau, Edlfurtner</td>\n      <td>3</td>\n      <td>NaN</td>\n      <td>3</td>\n      <td>0</td>\n      <td>0</td>\n      <td>0</td>\n      <td>0</td>\n      <td>0</td>\n      <td>...</td>\n      <td>0</td>\n      <td>0</td>\n      <td>0</td>\n      <td>0</td>\n      <td>0</td>\n      <td>0</td>\n      <td>0</td>\n      <td>0</td>\n      <td>1</td>\n      <td>0</td>\n    </tr>\n    <tr>\n      <th>419956</th>\n      <td>2019-12-16 04:00:00</td>\n      <td>8766 - Thyrnau, Edlfurtner</td>\n      <td>4</td>\n      <td>NaN</td>\n      <td>3</td>\n      <td>0</td>\n      <td>0</td>\n      <td>0</td>\n      <td>0</td>\n      <td>0</td>\n      <td>...</td>\n      <td>0</td>\n      <td>0</td>\n      <td>0</td>\n      <td>0</td>\n      <td>0</td>\n      <td>0</td>\n      <td>0</td>\n      <td>0</td>\n      <td>1</td>\n      <td>0</td>\n    </tr>\n    <tr>\n      <th>419957</th>\n      <td>2019-12-16 05:00:00</td>\n      <td>8766 - Thyrnau, Edlfurtner</td>\n      <td>5</td>\n      <td>NaN</td>\n      <td>3</td>\n      <td>0</td>\n      <td>0</td>\n      <td>0</td>\n      <td>0</td>\n      <td>0</td>\n      <td>...</td>\n      <td>0</td>\n      <td>0</td>\n      <td>0</td>\n      <td>0</td>\n      <td>0</td>\n      <td>0</td>\n      <td>0</td>\n      <td>0</td>\n      <td>1</td>\n      <td>0</td>\n    </tr>\n    <tr>\n      <th>419958</th>\n      <td>2019-12-16 06:00:00</td>\n      <td>8766 - Thyrnau, Edlfurtner</td>\n      <td>6</td>\n      <td>NaN</td>\n      <td>3</td>\n      <td>0</td>\n      <td>0</td>\n      <td>0</td>\n      <td>0</td>\n      <td>0</td>\n      <td>...</td>\n      <td>0</td>\n      <td>0</td>\n      <td>0</td>\n      <td>0</td>\n      <td>0</td>\n      <td>0</td>\n      <td>0</td>\n      <td>0</td>\n      <td>1</td>\n      <td>0</td>\n    </tr>\n    <tr>\n      <th>419959</th>\n      <td>2019-12-16 07:00:00</td>\n      <td>8766 - Thyrnau, Edlfurtner</td>\n      <td>7</td>\n      <td>NaN</td>\n      <td>3</td>\n      <td>0</td>\n      <td>0</td>\n      <td>0</td>\n      <td>0</td>\n      <td>0</td>\n      <td>...</td>\n      <td>0</td>\n      <td>0</td>\n      <td>0</td>\n      <td>0</td>\n      <td>0</td>\n      <td>0</td>\n      <td>0</td>\n      <td>0</td>\n      <td>1</td>\n      <td>0</td>\n    </tr>\n    <tr>\n      <th>419960</th>\n      <td>2019-12-16 08:00:00</td>\n      <td>8766 - Thyrnau, Edlfurtner</td>\n      <td>8</td>\n      <td>NaN</td>\n      <td>3</td>\n      <td>0</td>\n      <td>0</td>\n      <td>0</td>\n      <td>0</td>\n      <td>0</td>\n      <td>...</td>\n      <td>0</td>\n      <td>0</td>\n      <td>0</td>\n      <td>0</td>\n      <td>0</td>\n      <td>0</td>\n      <td>0</td>\n      <td>0</td>\n      <td>1</td>\n      <td>0</td>\n    </tr>\n    <tr>\n      <th>419961</th>\n      <td>2019-12-16 09:00:00</td>\n      <td>8766 - Thyrnau, Edlfurtner</td>\n      <td>9</td>\n      <td>NaN</td>\n      <td>3</td>\n      <td>0</td>\n      <td>0</td>\n      <td>0</td>\n      <td>0</td>\n      <td>0</td>\n      <td>...</td>\n      <td>0</td>\n      <td>0</td>\n      <td>0</td>\n      <td>0</td>\n      <td>0</td>\n      <td>0</td>\n      <td>0</td>\n      <td>0</td>\n      <td>1</td>\n      <td>0</td>\n    </tr>\n    <tr>\n      <th>419962</th>\n      <td>2019-12-16 10:00:00</td>\n      <td>8766 - Thyrnau, Edlfurtner</td>\n      <td>10</td>\n      <td>NaN</td>\n      <td>3</td>\n      <td>0</td>\n      <td>0</td>\n      <td>0</td>\n      <td>0</td>\n      <td>0</td>\n      <td>...</td>\n      <td>0</td>\n      <td>0</td>\n      <td>0</td>\n      <td>0</td>\n      <td>0</td>\n      <td>0</td>\n      <td>0</td>\n      <td>0</td>\n      <td>1</td>\n      <td>0</td>\n    </tr>\n    <tr>\n      <th>419963</th>\n      <td>2019-12-16 11:00:00</td>\n      <td>8766 - Thyrnau, Edlfurtner</td>\n      <td>11</td>\n      <td>NaN</td>\n      <td>3</td>\n      <td>0</td>\n      <td>0</td>\n      <td>0</td>\n      <td>0</td>\n      <td>0</td>\n      <td>...</td>\n      <td>0</td>\n      <td>0</td>\n      <td>0</td>\n      <td>0</td>\n      <td>0</td>\n      <td>0</td>\n      <td>0</td>\n      <td>0</td>\n      <td>1</td>\n      <td>0</td>\n    </tr>\n    <tr>\n      <th>419964</th>\n      <td>2019-12-16 12:00:00</td>\n      <td>8766 - Thyrnau, Edlfurtner</td>\n      <td>12</td>\n      <td>NaN</td>\n      <td>3</td>\n      <td>0</td>\n      <td>0</td>\n      <td>0</td>\n      <td>0</td>\n      <td>0</td>\n      <td>...</td>\n      <td>0</td>\n      <td>0</td>\n      <td>0</td>\n      <td>0</td>\n      <td>0</td>\n      <td>0</td>\n      <td>0</td>\n      <td>0</td>\n      <td>1</td>\n      <td>0</td>\n    </tr>\n    <tr>\n      <th>419965</th>\n      <td>2019-12-16 13:00:00</td>\n      <td>8766 - Thyrnau, Edlfurtner</td>\n      <td>13</td>\n      <td>NaN</td>\n      <td>3</td>\n      <td>0</td>\n      <td>0</td>\n      <td>0</td>\n      <td>0</td>\n      <td>0</td>\n      <td>...</td>\n      <td>0</td>\n      <td>0</td>\n      <td>0</td>\n      <td>0</td>\n      <td>0</td>\n      <td>0</td>\n      <td>0</td>\n      <td>0</td>\n      <td>1</td>\n      <td>0</td>\n    </tr>\n    <tr>\n      <th>419966</th>\n      <td>2019-12-16 14:00:00</td>\n      <td>8766 - Thyrnau, Edlfurtner</td>\n      <td>14</td>\n      <td>NaN</td>\n      <td>3</td>\n      <td>0</td>\n      <td>0</td>\n      <td>0</td>\n      <td>0</td>\n      <td>0</td>\n      <td>...</td>\n      <td>0</td>\n      <td>0</td>\n      <td>0</td>\n      <td>0</td>\n      <td>0</td>\n      <td>0</td>\n      <td>0</td>\n      <td>0</td>\n      <td>1</td>\n      <td>0</td>\n    </tr>\n    <tr>\n      <th>419967</th>\n      <td>2019-12-16 15:00:00</td>\n      <td>8766 - Thyrnau, Edlfurtner</td>\n      <td>15</td>\n      <td>NaN</td>\n      <td>3</td>\n      <td>0</td>\n      <td>0</td>\n      <td>0</td>\n      <td>0</td>\n      <td>0</td>\n      <td>...</td>\n      <td>0</td>\n      <td>0</td>\n      <td>0</td>\n      <td>0</td>\n      <td>0</td>\n      <td>0</td>\n      <td>0</td>\n      <td>0</td>\n      <td>1</td>\n      <td>0</td>\n    </tr>\n    <tr>\n      <th>419968</th>\n      <td>2019-12-16 16:00:00</td>\n      <td>8766 - Thyrnau, Edlfurtner</td>\n      <td>16</td>\n      <td>NaN</td>\n      <td>3</td>\n      <td>0</td>\n      <td>0</td>\n      <td>0</td>\n      <td>0</td>\n      <td>0</td>\n      <td>...</td>\n      <td>0</td>\n      <td>0</td>\n      <td>0</td>\n      <td>0</td>\n      <td>0</td>\n      <td>0</td>\n      <td>0</td>\n      <td>0</td>\n      <td>1</td>\n      <td>0</td>\n    </tr>\n    <tr>\n      <th>419969</th>\n      <td>2019-12-16 17:00:00</td>\n      <td>8766 - Thyrnau, Edlfurtner</td>\n      <td>17</td>\n      <td>NaN</td>\n      <td>3</td>\n      <td>0</td>\n      <td>0</td>\n      <td>0</td>\n      <td>0</td>\n      <td>0</td>\n      <td>...</td>\n      <td>0</td>\n      <td>0</td>\n      <td>0</td>\n      <td>0</td>\n      <td>0</td>\n      <td>0</td>\n      <td>0</td>\n      <td>0</td>\n      <td>1</td>\n      <td>0</td>\n    </tr>\n    <tr>\n      <th>419970</th>\n      <td>2019-12-16 18:00:00</td>\n      <td>8766 - Thyrnau, Edlfurtner</td>\n      <td>18</td>\n      <td>NaN</td>\n      <td>3</td>\n      <td>0</td>\n      <td>0</td>\n      <td>0</td>\n      <td>0</td>\n      <td>0</td>\n      <td>...</td>\n      <td>0</td>\n      <td>0</td>\n      <td>0</td>\n      <td>0</td>\n      <td>0</td>\n      <td>0</td>\n      <td>0</td>\n      <td>0</td>\n      <td>1</td>\n      <td>0</td>\n    </tr>\n    <tr>\n      <th>419971</th>\n      <td>2019-12-16 19:00:00</td>\n      <td>8766 - Thyrnau, Edlfurtner</td>\n      <td>19</td>\n      <td>NaN</td>\n      <td>3</td>\n      <td>0</td>\n      <td>0</td>\n      <td>0</td>\n      <td>0</td>\n      <td>0</td>\n      <td>...</td>\n      <td>0</td>\n      <td>0</td>\n      <td>0</td>\n      <td>0</td>\n      <td>0</td>\n      <td>0</td>\n      <td>0</td>\n      <td>0</td>\n      <td>1</td>\n      <td>0</td>\n    </tr>\n    <tr>\n      <th>419972</th>\n      <td>2019-12-16 20:00:00</td>\n      <td>8766 - Thyrnau, Edlfurtner</td>\n      <td>20</td>\n      <td>NaN</td>\n      <td>3</td>\n      <td>0</td>\n      <td>0</td>\n      <td>0</td>\n      <td>0</td>\n      <td>0</td>\n      <td>...</td>\n      <td>0</td>\n      <td>0</td>\n      <td>0</td>\n      <td>0</td>\n      <td>0</td>\n      <td>0</td>\n      <td>0</td>\n      <td>0</td>\n      <td>1</td>\n      <td>0</td>\n    </tr>\n    <tr>\n      <th>419973</th>\n      <td>2019-12-16 21:00:00</td>\n      <td>8766 - Thyrnau, Edlfurtner</td>\n      <td>21</td>\n      <td>NaN</td>\n      <td>3</td>\n      <td>0</td>\n      <td>0</td>\n      <td>0</td>\n      <td>0</td>\n      <td>0</td>\n      <td>...</td>\n      <td>0</td>\n      <td>0</td>\n      <td>0</td>\n      <td>0</td>\n      <td>0</td>\n      <td>0</td>\n      <td>0</td>\n      <td>0</td>\n      <td>1</td>\n      <td>0</td>\n    </tr>\n    <tr>\n      <th>419974</th>\n      <td>2019-12-16 22:00:00</td>\n      <td>8766 - Thyrnau, Edlfurtner</td>\n      <td>22</td>\n      <td>NaN</td>\n      <td>3</td>\n      <td>0</td>\n      <td>0</td>\n      <td>0</td>\n      <td>0</td>\n      <td>0</td>\n      <td>...</td>\n      <td>0</td>\n      <td>0</td>\n      <td>0</td>\n      <td>0</td>\n      <td>0</td>\n      <td>0</td>\n      <td>0</td>\n      <td>0</td>\n      <td>1</td>\n      <td>0</td>\n    </tr>\n    <tr>\n      <th>419975</th>\n      <td>2019-12-16 23:00:00</td>\n      <td>8766 - Thyrnau, Edlfurtner</td>\n      <td>23</td>\n      <td>NaN</td>\n      <td>3</td>\n      <td>0</td>\n      <td>0</td>\n      <td>0</td>\n      <td>0</td>\n      <td>0</td>\n      <td>...</td>\n      <td>0</td>\n      <td>0</td>\n      <td>0</td>\n      <td>0</td>\n      <td>0</td>\n      <td>0</td>\n      <td>0</td>\n      <td>0</td>\n      <td>1</td>\n      <td>0</td>\n    </tr>\n    <tr>\n      <th>419976</th>\n      <td>2019-12-16 00:00:00</td>\n      <td>9750 - Passau, Reisebüro Niedermayer</td>\n      <td>0</td>\n      <td>NaN</td>\n      <td>3</td>\n      <td>0</td>\n      <td>0</td>\n      <td>0</td>\n      <td>0</td>\n      <td>0</td>\n      <td>...</td>\n      <td>0</td>\n      <td>0</td>\n      <td>0</td>\n      <td>0</td>\n      <td>0</td>\n      <td>0</td>\n      <td>0</td>\n      <td>0</td>\n      <td>0</td>\n      <td>1</td>\n    </tr>\n    <tr>\n      <th>419977</th>\n      <td>2019-12-16 01:00:00</td>\n      <td>9750 - Passau, Reisebüro Niedermayer</td>\n      <td>1</td>\n      <td>NaN</td>\n      <td>3</td>\n      <td>0</td>\n      <td>0</td>\n      <td>0</td>\n      <td>0</td>\n      <td>0</td>\n      <td>...</td>\n      <td>0</td>\n      <td>0</td>\n      <td>0</td>\n      <td>0</td>\n      <td>0</td>\n      <td>0</td>\n      <td>0</td>\n      <td>0</td>\n      <td>0</td>\n      <td>1</td>\n    </tr>\n    <tr>\n      <th>419978</th>\n      <td>2019-12-16 02:00:00</td>\n      <td>9750 - Passau, Reisebüro Niedermayer</td>\n      <td>2</td>\n      <td>NaN</td>\n      <td>3</td>\n      <td>0</td>\n      <td>0</td>\n      <td>0</td>\n      <td>0</td>\n      <td>0</td>\n      <td>...</td>\n      <td>0</td>\n      <td>0</td>\n      <td>0</td>\n      <td>0</td>\n      <td>0</td>\n      <td>0</td>\n      <td>0</td>\n      <td>0</td>\n      <td>0</td>\n      <td>1</td>\n    </tr>\n    <tr>\n      <th>419979</th>\n      <td>2019-12-16 03:00:00</td>\n      <td>9750 - Passau, Reisebüro Niedermayer</td>\n      <td>3</td>\n      <td>NaN</td>\n      <td>3</td>\n      <td>0</td>\n      <td>0</td>\n      <td>0</td>\n      <td>0</td>\n      <td>0</td>\n      <td>...</td>\n      <td>0</td>\n      <td>0</td>\n      <td>0</td>\n      <td>0</td>\n      <td>0</td>\n      <td>0</td>\n      <td>0</td>\n      <td>0</td>\n      <td>0</td>\n      <td>1</td>\n    </tr>\n    <tr>\n      <th>419980</th>\n      <td>2019-12-16 04:00:00</td>\n      <td>9750 - Passau, Reisebüro Niedermayer</td>\n      <td>4</td>\n      <td>NaN</td>\n      <td>3</td>\n      <td>0</td>\n      <td>0</td>\n      <td>0</td>\n      <td>0</td>\n      <td>0</td>\n      <td>...</td>\n      <td>0</td>\n      <td>0</td>\n      <td>0</td>\n      <td>0</td>\n      <td>0</td>\n      <td>0</td>\n      <td>0</td>\n      <td>0</td>\n      <td>0</td>\n      <td>1</td>\n    </tr>\n    <tr>\n      <th>419981</th>\n      <td>2019-12-16 05:00:00</td>\n      <td>9750 - Passau, Reisebüro Niedermayer</td>\n      <td>5</td>\n      <td>NaN</td>\n      <td>3</td>\n      <td>0</td>\n      <td>0</td>\n      <td>0</td>\n      <td>0</td>\n      <td>0</td>\n      <td>...</td>\n      <td>0</td>\n      <td>0</td>\n      <td>0</td>\n      <td>0</td>\n      <td>0</td>\n      <td>0</td>\n      <td>0</td>\n      <td>0</td>\n      <td>0</td>\n      <td>1</td>\n    </tr>\n    <tr>\n      <th>419982</th>\n      <td>2019-12-16 06:00:00</td>\n      <td>9750 - Passau, Reisebüro Niedermayer</td>\n      <td>6</td>\n      <td>NaN</td>\n      <td>3</td>\n      <td>0</td>\n      <td>0</td>\n      <td>0</td>\n      <td>0</td>\n      <td>0</td>\n      <td>...</td>\n      <td>0</td>\n      <td>0</td>\n      <td>0</td>\n      <td>0</td>\n      <td>0</td>\n      <td>0</td>\n      <td>0</td>\n      <td>0</td>\n      <td>0</td>\n      <td>1</td>\n    </tr>\n    <tr>\n      <th>419983</th>\n      <td>2019-12-16 07:00:00</td>\n      <td>9750 - Passau, Reisebüro Niedermayer</td>\n      <td>7</td>\n      <td>NaN</td>\n      <td>3</td>\n      <td>0</td>\n      <td>0</td>\n      <td>0</td>\n      <td>0</td>\n      <td>0</td>\n      <td>...</td>\n      <td>0</td>\n      <td>0</td>\n      <td>0</td>\n      <td>0</td>\n      <td>0</td>\n      <td>0</td>\n      <td>0</td>\n      <td>0</td>\n      <td>0</td>\n      <td>1</td>\n    </tr>\n    <tr>\n      <th>419984</th>\n      <td>2019-12-16 08:00:00</td>\n      <td>9750 - Passau, Reisebüro Niedermayer</td>\n      <td>8</td>\n      <td>NaN</td>\n      <td>3</td>\n      <td>0</td>\n      <td>0</td>\n      <td>0</td>\n      <td>0</td>\n      <td>0</td>\n      <td>...</td>\n      <td>0</td>\n      <td>0</td>\n      <td>0</td>\n      <td>0</td>\n      <td>0</td>\n      <td>0</td>\n      <td>0</td>\n      <td>0</td>\n      <td>0</td>\n      <td>1</td>\n    </tr>\n    <tr>\n      <th>419985</th>\n      <td>2019-12-16 09:00:00</td>\n      <td>9750 - Passau, Reisebüro Niedermayer</td>\n      <td>9</td>\n      <td>NaN</td>\n      <td>3</td>\n      <td>0</td>\n      <td>0</td>\n      <td>0</td>\n      <td>0</td>\n      <td>0</td>\n      <td>...</td>\n      <td>0</td>\n      <td>0</td>\n      <td>0</td>\n      <td>0</td>\n      <td>0</td>\n      <td>0</td>\n      <td>0</td>\n      <td>0</td>\n      <td>0</td>\n      <td>1</td>\n    </tr>\n    <tr>\n      <th>419986</th>\n      <td>2019-12-16 10:00:00</td>\n      <td>9750 - Passau, Reisebüro Niedermayer</td>\n      <td>10</td>\n      <td>NaN</td>\n      <td>3</td>\n      <td>0</td>\n      <td>0</td>\n      <td>0</td>\n      <td>0</td>\n      <td>0</td>\n      <td>...</td>\n      <td>0</td>\n      <td>0</td>\n      <td>0</td>\n      <td>0</td>\n      <td>0</td>\n      <td>0</td>\n      <td>0</td>\n      <td>0</td>\n      <td>0</td>\n      <td>1</td>\n    </tr>\n    <tr>\n      <th>419987</th>\n      <td>2019-12-16 11:00:00</td>\n      <td>9750 - Passau, Reisebüro Niedermayer</td>\n      <td>11</td>\n      <td>NaN</td>\n      <td>3</td>\n      <td>0</td>\n      <td>0</td>\n      <td>0</td>\n      <td>0</td>\n      <td>0</td>\n      <td>...</td>\n      <td>0</td>\n      <td>0</td>\n      <td>0</td>\n      <td>0</td>\n      <td>0</td>\n      <td>0</td>\n      <td>0</td>\n      <td>0</td>\n      <td>0</td>\n      <td>1</td>\n    </tr>\n    <tr>\n      <th>419988</th>\n      <td>2019-12-16 12:00:00</td>\n      <td>9750 - Passau, Reisebüro Niedermayer</td>\n      <td>12</td>\n      <td>NaN</td>\n      <td>3</td>\n      <td>0</td>\n      <td>0</td>\n      <td>0</td>\n      <td>0</td>\n      <td>0</td>\n      <td>...</td>\n      <td>0</td>\n      <td>0</td>\n      <td>0</td>\n      <td>0</td>\n      <td>0</td>\n      <td>0</td>\n      <td>0</td>\n      <td>0</td>\n      <td>0</td>\n      <td>1</td>\n    </tr>\n    <tr>\n      <th>419989</th>\n      <td>2019-12-16 13:00:00</td>\n      <td>9750 - Passau, Reisebüro Niedermayer</td>\n      <td>13</td>\n      <td>NaN</td>\n      <td>3</td>\n      <td>0</td>\n      <td>0</td>\n      <td>0</td>\n      <td>0</td>\n      <td>0</td>\n      <td>...</td>\n      <td>0</td>\n      <td>0</td>\n      <td>0</td>\n      <td>0</td>\n      <td>0</td>\n      <td>0</td>\n      <td>0</td>\n      <td>0</td>\n      <td>0</td>\n      <td>1</td>\n    </tr>\n    <tr>\n      <th>419990</th>\n      <td>2019-12-16 14:00:00</td>\n      <td>9750 - Passau, Reisebüro Niedermayer</td>\n      <td>14</td>\n      <td>NaN</td>\n      <td>3</td>\n      <td>0</td>\n      <td>0</td>\n      <td>0</td>\n      <td>0</td>\n      <td>0</td>\n      <td>...</td>\n      <td>0</td>\n      <td>0</td>\n      <td>0</td>\n      <td>0</td>\n      <td>0</td>\n      <td>0</td>\n      <td>0</td>\n      <td>0</td>\n      <td>0</td>\n      <td>1</td>\n    </tr>\n    <tr>\n      <th>419991</th>\n      <td>2019-12-16 15:00:00</td>\n      <td>9750 - Passau, Reisebüro Niedermayer</td>\n      <td>15</td>\n      <td>NaN</td>\n      <td>3</td>\n      <td>0</td>\n      <td>0</td>\n      <td>0</td>\n      <td>0</td>\n      <td>0</td>\n      <td>...</td>\n      <td>0</td>\n      <td>0</td>\n      <td>0</td>\n      <td>0</td>\n      <td>0</td>\n      <td>0</td>\n      <td>0</td>\n      <td>0</td>\n      <td>0</td>\n      <td>1</td>\n    </tr>\n    <tr>\n      <th>419992</th>\n      <td>2019-12-16 16:00:00</td>\n      <td>9750 - Passau, Reisebüro Niedermayer</td>\n      <td>16</td>\n      <td>NaN</td>\n      <td>3</td>\n      <td>0</td>\n      <td>0</td>\n      <td>0</td>\n      <td>0</td>\n      <td>0</td>\n      <td>...</td>\n      <td>0</td>\n      <td>0</td>\n      <td>0</td>\n      <td>0</td>\n      <td>0</td>\n      <td>0</td>\n      <td>0</td>\n      <td>0</td>\n      <td>0</td>\n      <td>1</td>\n    </tr>\n    <tr>\n      <th>419993</th>\n      <td>2019-12-16 17:00:00</td>\n      <td>9750 - Passau, Reisebüro Niedermayer</td>\n      <td>17</td>\n      <td>NaN</td>\n      <td>3</td>\n      <td>0</td>\n      <td>0</td>\n      <td>0</td>\n      <td>0</td>\n      <td>0</td>\n      <td>...</td>\n      <td>0</td>\n      <td>0</td>\n      <td>0</td>\n      <td>0</td>\n      <td>0</td>\n      <td>0</td>\n      <td>0</td>\n      <td>0</td>\n      <td>0</td>\n      <td>1</td>\n    </tr>\n    <tr>\n      <th>419994</th>\n      <td>2019-12-16 18:00:00</td>\n      <td>9750 - Passau, Reisebüro Niedermayer</td>\n      <td>18</td>\n      <td>NaN</td>\n      <td>3</td>\n      <td>0</td>\n      <td>0</td>\n      <td>0</td>\n      <td>0</td>\n      <td>0</td>\n      <td>...</td>\n      <td>0</td>\n      <td>0</td>\n      <td>0</td>\n      <td>0</td>\n      <td>0</td>\n      <td>0</td>\n      <td>0</td>\n      <td>0</td>\n      <td>0</td>\n      <td>1</td>\n    </tr>\n    <tr>\n      <th>419995</th>\n      <td>2019-12-16 19:00:00</td>\n      <td>9750 - Passau, Reisebüro Niedermayer</td>\n      <td>19</td>\n      <td>NaN</td>\n      <td>3</td>\n      <td>0</td>\n      <td>0</td>\n      <td>0</td>\n      <td>0</td>\n      <td>0</td>\n      <td>...</td>\n      <td>0</td>\n      <td>0</td>\n      <td>0</td>\n      <td>0</td>\n      <td>0</td>\n      <td>0</td>\n      <td>0</td>\n      <td>0</td>\n      <td>0</td>\n      <td>1</td>\n    </tr>\n    <tr>\n      <th>419996</th>\n      <td>2019-12-16 20:00:00</td>\n      <td>9750 - Passau, Reisebüro Niedermayer</td>\n      <td>20</td>\n      <td>NaN</td>\n      <td>3</td>\n      <td>0</td>\n      <td>0</td>\n      <td>0</td>\n      <td>0</td>\n      <td>0</td>\n      <td>...</td>\n      <td>0</td>\n      <td>0</td>\n      <td>0</td>\n      <td>0</td>\n      <td>0</td>\n      <td>0</td>\n      <td>0</td>\n      <td>0</td>\n      <td>0</td>\n      <td>1</td>\n    </tr>\n    <tr>\n      <th>419997</th>\n      <td>2019-12-16 21:00:00</td>\n      <td>9750 - Passau, Reisebüro Niedermayer</td>\n      <td>21</td>\n      <td>NaN</td>\n      <td>3</td>\n      <td>0</td>\n      <td>0</td>\n      <td>0</td>\n      <td>0</td>\n      <td>0</td>\n      <td>...</td>\n      <td>0</td>\n      <td>0</td>\n      <td>0</td>\n      <td>0</td>\n      <td>0</td>\n      <td>0</td>\n      <td>0</td>\n      <td>0</td>\n      <td>0</td>\n      <td>1</td>\n    </tr>\n    <tr>\n      <th>419998</th>\n      <td>2019-12-16 22:00:00</td>\n      <td>9750 - Passau, Reisebüro Niedermayer</td>\n      <td>22</td>\n      <td>NaN</td>\n      <td>3</td>\n      <td>0</td>\n      <td>0</td>\n      <td>0</td>\n      <td>0</td>\n      <td>0</td>\n      <td>...</td>\n      <td>0</td>\n      <td>0</td>\n      <td>0</td>\n      <td>0</td>\n      <td>0</td>\n      <td>0</td>\n      <td>0</td>\n      <td>0</td>\n      <td>0</td>\n      <td>1</td>\n    </tr>\n    <tr>\n      <th>419999</th>\n      <td>2019-12-16 23:00:00</td>\n      <td>9750 - Passau, Reisebüro Niedermayer</td>\n      <td>23</td>\n      <td>NaN</td>\n      <td>3</td>\n      <td>0</td>\n      <td>0</td>\n      <td>0</td>\n      <td>0</td>\n      <td>0</td>\n      <td>...</td>\n      <td>0</td>\n      <td>0</td>\n      <td>0</td>\n      <td>0</td>\n      <td>0</td>\n      <td>0</td>\n      <td>0</td>\n      <td>0</td>\n      <td>0</td>\n      <td>1</td>\n    </tr>\n  </tbody>\n</table>\n<p>48 rows × 55 columns</p>\n</div>"
     },
     "execution_count": 14,
     "metadata": {},
     "output_type": "execute_result"
    }
   ],
   "source": [
    "reg_df.tail(48)"
   ],
   "metadata": {
    "collapsed": false,
    "pycharm": {
     "name": "#%%\n"
    }
   }
  },
  {
   "cell_type": "markdown",
   "source": [
    "## On Demand Travel:"
   ],
   "metadata": {
    "collapsed": false,
    "pycharm": {
     "name": "#%% md\n"
    }
   }
  },
  {
   "cell_type": "code",
   "execution_count": 15,
   "outputs": [
    {
     "data": {
      "text/plain": "                  date               EZone  hour  Passengers  class  \\\n0  2019-01-01 00:00:00          Brand, Ort     0         0.0      0   \n1  2019-01-01 01:00:00          Brand, Ort     1         0.0      0   \n2  2019-01-01 02:00:00          Brand, Ort     2         0.0      0   \n3  2019-01-01 03:00:00          Brand, Ort     3         0.0      0   \n4  2019-01-01 04:00:00          Brand, Ort     4         0.0      0   \n5  2019-01-01 05:00:00          Brand, Ort     5         0.0      0   \n6  2019-01-01 06:00:00          Brand, Ort     6         0.0      0   \n7  2019-01-01 07:00:00          Brand, Ort     7         0.0      0   \n8  2019-01-01 08:00:00          Brand, Ort     8         0.0      0   \n9  2019-01-01 09:00:00          Brand, Ort     9         0.0      0   \n10 2019-01-01 10:00:00          Brand, Ort    10         0.0      0   \n11 2019-01-01 11:00:00          Brand, Ort    11         0.0      0   \n12 2019-01-01 12:00:00          Brand, Ort    12         0.0      0   \n13 2019-01-01 13:00:00          Brand, Ort    13         0.0      0   \n14 2019-01-01 14:00:00          Brand, Ort    14         0.0      0   \n15 2019-01-01 15:00:00          Brand, Ort    15         0.0      0   \n16 2019-01-01 16:00:00          Brand, Ort    16         0.0      0   \n17 2019-01-01 17:00:00          Brand, Ort    17         0.0      0   \n18 2019-01-01 18:00:00          Brand, Ort    18         0.0      0   \n19 2019-01-01 19:00:00          Brand, Ort    19         0.0      0   \n20 2019-01-01 20:00:00          Brand, Ort    20         0.0      0   \n21 2019-01-01 21:00:00          Brand, Ort    21         0.0      0   \n22 2019-01-01 22:00:00          Brand, Ort    22         0.0      0   \n23 2019-01-01 23:00:00          Brand, Ort    23         0.0      0   \n24 2019-01-01 00:00:00  Bärnau, Marktplatz     0         0.0      0   \n25 2019-01-01 01:00:00  Bärnau, Marktplatz     1         0.0      0   \n26 2019-01-01 02:00:00  Bärnau, Marktplatz     2         0.0      0   \n27 2019-01-01 03:00:00  Bärnau, Marktplatz     3         0.0      0   \n28 2019-01-01 04:00:00  Bärnau, Marktplatz     4         0.0      0   \n29 2019-01-01 05:00:00  Bärnau, Marktplatz     5         0.0      0   \n30 2019-01-01 06:00:00  Bärnau, Marktplatz     6         0.0      0   \n31 2019-01-01 07:00:00  Bärnau, Marktplatz     7         0.0      0   \n32 2019-01-01 08:00:00  Bärnau, Marktplatz     8         0.0      0   \n33 2019-01-01 09:00:00  Bärnau, Marktplatz     9         0.0      0   \n34 2019-01-01 10:00:00  Bärnau, Marktplatz    10         0.0      0   \n35 2019-01-01 11:00:00  Bärnau, Marktplatz    11         0.0      0   \n36 2019-01-01 12:00:00  Bärnau, Marktplatz    12         0.0      0   \n37 2019-01-01 13:00:00  Bärnau, Marktplatz    13         0.0      0   \n38 2019-01-01 14:00:00  Bärnau, Marktplatz    14         0.0      0   \n39 2019-01-01 15:00:00  Bärnau, Marktplatz    15         0.0      0   \n40 2019-01-01 16:00:00  Bärnau, Marktplatz    16         0.0      0   \n41 2019-01-01 17:00:00  Bärnau, Marktplatz    17         0.0      0   \n42 2019-01-01 18:00:00  Bärnau, Marktplatz    18         0.0      0   \n43 2019-01-01 19:00:00  Bärnau, Marktplatz    19         0.0      0   \n44 2019-01-01 20:00:00  Bärnau, Marktplatz    20         0.0      0   \n45 2019-01-01 21:00:00  Bärnau, Marktplatz    21         0.0      0   \n46 2019-01-01 22:00:00  Bärnau, Marktplatz    22         0.0      0   \n47 2019-01-01 23:00:00  Bärnau, Marktplatz    23         0.0      0   \n\n    Brand, Ort  Bärnau, Marktplatz  Deggendorf, Busbahnhof  \\\n0            1                   0                       0   \n1            1                   0                       0   \n2            1                   0                       0   \n3            1                   0                       0   \n4            1                   0                       0   \n5            1                   0                       0   \n6            1                   0                       0   \n7            1                   0                       0   \n8            1                   0                       0   \n9            1                   0                       0   \n10           1                   0                       0   \n11           1                   0                       0   \n12           1                   0                       0   \n13           1                   0                       0   \n14           1                   0                       0   \n15           1                   0                       0   \n16           1                   0                       0   \n17           1                   0                       0   \n18           1                   0                       0   \n19           1                   0                       0   \n20           1                   0                       0   \n21           1                   0                       0   \n22           1                   0                       0   \n23           1                   0                       0   \n24           0                   1                       0   \n25           0                   1                       0   \n26           0                   1                       0   \n27           0                   1                       0   \n28           0                   1                       0   \n29           0                   1                       0   \n30           0                   1                       0   \n31           0                   1                       0   \n32           0                   1                       0   \n33           0                   1                       0   \n34           0                   1                       0   \n35           0                   1                       0   \n36           0                   1                       0   \n37           0                   1                       0   \n38           0                   1                       0   \n39           0                   1                       0   \n40           0                   1                       0   \n41           0                   1                       0   \n42           0                   1                       0   \n43           0                   1                       0   \n44           0                   1                       0   \n45           0                   1                       0   \n46           0                   1                       0   \n47           0                   1                       0   \n\n    Deggendorf, Hauptbahnhof  Deggendorf, Stadtplatz  ...  \\\n0                          0                       0  ...   \n1                          0                       0  ...   \n2                          0                       0  ...   \n3                          0                       0  ...   \n4                          0                       0  ...   \n5                          0                       0  ...   \n6                          0                       0  ...   \n7                          0                       0  ...   \n8                          0                       0  ...   \n9                          0                       0  ...   \n10                         0                       0  ...   \n11                         0                       0  ...   \n12                         0                       0  ...   \n13                         0                       0  ...   \n14                         0                       0  ...   \n15                         0                       0  ...   \n16                         0                       0  ...   \n17                         0                       0  ...   \n18                         0                       0  ...   \n19                         0                       0  ...   \n20                         0                       0  ...   \n21                         0                       0  ...   \n22                         0                       0  ...   \n23                         0                       0  ...   \n24                         0                       0  ...   \n25                         0                       0  ...   \n26                         0                       0  ...   \n27                         0                       0  ...   \n28                         0                       0  ...   \n29                         0                       0  ...   \n30                         0                       0  ...   \n31                         0                       0  ...   \n32                         0                       0  ...   \n33                         0                       0  ...   \n34                         0                       0  ...   \n35                         0                       0  ...   \n36                         0                       0  ...   \n37                         0                       0  ...   \n38                         0                       0  ...   \n39                         0                       0  ...   \n40                         0                       0  ...   \n41                         0                       0  ...   \n42                         0                       0  ...   \n43                         0                       0  ...   \n44                         0                       0  ...   \n45                         0                       0  ...   \n46                         0                       0  ...   \n47                         0                       0  ...   \n\n    Tirschenreuth, ZOB Großparkplatz  Tittling, Marktplatz  \\\n0                                  0                     0   \n1                                  0                     0   \n2                                  0                     0   \n3                                  0                     0   \n4                                  0                     0   \n5                                  0                     0   \n6                                  0                     0   \n7                                  0                     0   \n8                                  0                     0   \n9                                  0                     0   \n10                                 0                     0   \n11                                 0                     0   \n12                                 0                     0   \n13                                 0                     0   \n14                                 0                     0   \n15                                 0                     0   \n16                                 0                     0   \n17                                 0                     0   \n18                                 0                     0   \n19                                 0                     0   \n20                                 0                     0   \n21                                 0                     0   \n22                                 0                     0   \n23                                 0                     0   \n24                                 0                     0   \n25                                 0                     0   \n26                                 0                     0   \n27                                 0                     0   \n28                                 0                     0   \n29                                 0                     0   \n30                                 0                     0   \n31                                 0                     0   \n32                                 0                     0   \n33                                 0                     0   \n34                                 0                     0   \n35                                 0                     0   \n36                                 0                     0   \n37                                 0                     0   \n38                                 0                     0   \n39                                 0                     0   \n40                                 0                     0   \n41                                 0                     0   \n42                                 0                     0   \n43                                 0                     0   \n44                                 0                     0   \n45                                 0                     0   \n46                                 0                     0   \n47                                 0                     0   \n\n    Viechtach, Bahnhof/ZOB  Viechtach, Schmidstraße/Edeka  \\\n0                        0                              0   \n1                        0                              0   \n2                        0                              0   \n3                        0                              0   \n4                        0                              0   \n5                        0                              0   \n6                        0                              0   \n7                        0                              0   \n8                        0                              0   \n9                        0                              0   \n10                       0                              0   \n11                       0                              0   \n12                       0                              0   \n13                       0                              0   \n14                       0                              0   \n15                       0                              0   \n16                       0                              0   \n17                       0                              0   \n18                       0                              0   \n19                       0                              0   \n20                       0                              0   \n21                       0                              0   \n22                       0                              0   \n23                       0                              0   \n24                       0                              0   \n25                       0                              0   \n26                       0                              0   \n27                       0                              0   \n28                       0                              0   \n29                       0                              0   \n30                       0                              0   \n31                       0                              0   \n32                       0                              0   \n33                       0                              0   \n34                       0                              0   \n35                       0                              0   \n36                       0                              0   \n37                       0                              0   \n38                       0                              0   \n39                       0                              0   \n40                       0                              0   \n41                       0                              0   \n42                       0                              0   \n43                       0                              0   \n44                       0                              0   \n45                       0                              0   \n46                       0                              0   \n47                       0                              0   \n\n    Viechtach, Stadtplatz  Vilshofen, Bahnhof  Vilshofen, Stadtplatz  \\\n0                       0                   0                      0   \n1                       0                   0                      0   \n2                       0                   0                      0   \n3                       0                   0                      0   \n4                       0                   0                      0   \n5                       0                   0                      0   \n6                       0                   0                      0   \n7                       0                   0                      0   \n8                       0                   0                      0   \n9                       0                   0                      0   \n10                      0                   0                      0   \n11                      0                   0                      0   \n12                      0                   0                      0   \n13                      0                   0                      0   \n14                      0                   0                      0   \n15                      0                   0                      0   \n16                      0                   0                      0   \n17                      0                   0                      0   \n18                      0                   0                      0   \n19                      0                   0                      0   \n20                      0                   0                      0   \n21                      0                   0                      0   \n22                      0                   0                      0   \n23                      0                   0                      0   \n24                      0                   0                      0   \n25                      0                   0                      0   \n26                      0                   0                      0   \n27                      0                   0                      0   \n28                      0                   0                      0   \n29                      0                   0                      0   \n30                      0                   0                      0   \n31                      0                   0                      0   \n32                      0                   0                      0   \n33                      0                   0                      0   \n34                      0                   0                      0   \n35                      0                   0                      0   \n36                      0                   0                      0   \n37                      0                   0                      0   \n38                      0                   0                      0   \n39                      0                   0                      0   \n40                      0                   0                      0   \n41                      0                   0                      0   \n42                      0                   0                      0   \n43                      0                   0                      0   \n44                      0                   0                      0   \n45                      0                   0                      0   \n46                      0                   0                      0   \n47                      0                   0                      0   \n\n    Waldsassen, J.-Wiesneth-Str.  Waldsassen, Schützenstraße  \\\n0                              0                           0   \n1                              0                           0   \n2                              0                           0   \n3                              0                           0   \n4                              0                           0   \n5                              0                           0   \n6                              0                           0   \n7                              0                           0   \n8                              0                           0   \n9                              0                           0   \n10                             0                           0   \n11                             0                           0   \n12                             0                           0   \n13                             0                           0   \n14                             0                           0   \n15                             0                           0   \n16                             0                           0   \n17                             0                           0   \n18                             0                           0   \n19                             0                           0   \n20                             0                           0   \n21                             0                           0   \n22                             0                           0   \n23                             0                           0   \n24                             0                           0   \n25                             0                           0   \n26                             0                           0   \n27                             0                           0   \n28                             0                           0   \n29                             0                           0   \n30                             0                           0   \n31                             0                           0   \n32                             0                           0   \n33                             0                           0   \n34                             0                           0   \n35                             0                           0   \n36                             0                           0   \n37                             0                           0   \n38                             0                           0   \n39                             0                           0   \n40                             0                           0   \n41                             0                           0   \n42                             0                           0   \n43                             0                           0   \n44                             0                           0   \n45                             0                           0   \n46                             0                           0   \n47                             0                           0   \n\n    Wiesau, Bf ANKUNFT  \n0                    0  \n1                    0  \n2                    0  \n3                    0  \n4                    0  \n5                    0  \n6                    0  \n7                    0  \n8                    0  \n9                    0  \n10                   0  \n11                   0  \n12                   0  \n13                   0  \n14                   0  \n15                   0  \n16                   0  \n17                   0  \n18                   0  \n19                   0  \n20                   0  \n21                   0  \n22                   0  \n23                   0  \n24                   0  \n25                   0  \n26                   0  \n27                   0  \n28                   0  \n29                   0  \n30                   0  \n31                   0  \n32                   0  \n33                   0  \n34                   0  \n35                   0  \n36                   0  \n37                   0  \n38                   0  \n39                   0  \n40                   0  \n41                   0  \n42                   0  \n43                   0  \n44                   0  \n45                   0  \n46                   0  \n47                   0  \n\n[48 rows x 55 columns]",
      "text/html": "<div>\n<style scoped>\n    .dataframe tbody tr th:only-of-type {\n        vertical-align: middle;\n    }\n\n    .dataframe tbody tr th {\n        vertical-align: top;\n    }\n\n    .dataframe thead th {\n        text-align: right;\n    }\n</style>\n<table border=\"1\" class=\"dataframe\">\n  <thead>\n    <tr style=\"text-align: right;\">\n      <th></th>\n      <th>date</th>\n      <th>EZone</th>\n      <th>hour</th>\n      <th>Passengers</th>\n      <th>class</th>\n      <th>Brand, Ort</th>\n      <th>Bärnau, Marktplatz</th>\n      <th>Deggendorf, Busbahnhof</th>\n      <th>Deggendorf, Hauptbahnhof</th>\n      <th>Deggendorf, Stadtplatz</th>\n      <th>...</th>\n      <th>Tirschenreuth, ZOB Großparkplatz</th>\n      <th>Tittling, Marktplatz</th>\n      <th>Viechtach, Bahnhof/ZOB</th>\n      <th>Viechtach, Schmidstraße/Edeka</th>\n      <th>Viechtach, Stadtplatz</th>\n      <th>Vilshofen, Bahnhof</th>\n      <th>Vilshofen, Stadtplatz</th>\n      <th>Waldsassen, J.-Wiesneth-Str.</th>\n      <th>Waldsassen, Schützenstraße</th>\n      <th>Wiesau, Bf ANKUNFT</th>\n    </tr>\n  </thead>\n  <tbody>\n    <tr>\n      <th>0</th>\n      <td>2019-01-01 00:00:00</td>\n      <td>Brand, Ort</td>\n      <td>0</td>\n      <td>0.0</td>\n      <td>0</td>\n      <td>1</td>\n      <td>0</td>\n      <td>0</td>\n      <td>0</td>\n      <td>0</td>\n      <td>...</td>\n      <td>0</td>\n      <td>0</td>\n      <td>0</td>\n      <td>0</td>\n      <td>0</td>\n      <td>0</td>\n      <td>0</td>\n      <td>0</td>\n      <td>0</td>\n      <td>0</td>\n    </tr>\n    <tr>\n      <th>1</th>\n      <td>2019-01-01 01:00:00</td>\n      <td>Brand, Ort</td>\n      <td>1</td>\n      <td>0.0</td>\n      <td>0</td>\n      <td>1</td>\n      <td>0</td>\n      <td>0</td>\n      <td>0</td>\n      <td>0</td>\n      <td>...</td>\n      <td>0</td>\n      <td>0</td>\n      <td>0</td>\n      <td>0</td>\n      <td>0</td>\n      <td>0</td>\n      <td>0</td>\n      <td>0</td>\n      <td>0</td>\n      <td>0</td>\n    </tr>\n    <tr>\n      <th>2</th>\n      <td>2019-01-01 02:00:00</td>\n      <td>Brand, Ort</td>\n      <td>2</td>\n      <td>0.0</td>\n      <td>0</td>\n      <td>1</td>\n      <td>0</td>\n      <td>0</td>\n      <td>0</td>\n      <td>0</td>\n      <td>...</td>\n      <td>0</td>\n      <td>0</td>\n      <td>0</td>\n      <td>0</td>\n      <td>0</td>\n      <td>0</td>\n      <td>0</td>\n      <td>0</td>\n      <td>0</td>\n      <td>0</td>\n    </tr>\n    <tr>\n      <th>3</th>\n      <td>2019-01-01 03:00:00</td>\n      <td>Brand, Ort</td>\n      <td>3</td>\n      <td>0.0</td>\n      <td>0</td>\n      <td>1</td>\n      <td>0</td>\n      <td>0</td>\n      <td>0</td>\n      <td>0</td>\n      <td>...</td>\n      <td>0</td>\n      <td>0</td>\n      <td>0</td>\n      <td>0</td>\n      <td>0</td>\n      <td>0</td>\n      <td>0</td>\n      <td>0</td>\n      <td>0</td>\n      <td>0</td>\n    </tr>\n    <tr>\n      <th>4</th>\n      <td>2019-01-01 04:00:00</td>\n      <td>Brand, Ort</td>\n      <td>4</td>\n      <td>0.0</td>\n      <td>0</td>\n      <td>1</td>\n      <td>0</td>\n      <td>0</td>\n      <td>0</td>\n      <td>0</td>\n      <td>...</td>\n      <td>0</td>\n      <td>0</td>\n      <td>0</td>\n      <td>0</td>\n      <td>0</td>\n      <td>0</td>\n      <td>0</td>\n      <td>0</td>\n      <td>0</td>\n      <td>0</td>\n    </tr>\n    <tr>\n      <th>5</th>\n      <td>2019-01-01 05:00:00</td>\n      <td>Brand, Ort</td>\n      <td>5</td>\n      <td>0.0</td>\n      <td>0</td>\n      <td>1</td>\n      <td>0</td>\n      <td>0</td>\n      <td>0</td>\n      <td>0</td>\n      <td>...</td>\n      <td>0</td>\n      <td>0</td>\n      <td>0</td>\n      <td>0</td>\n      <td>0</td>\n      <td>0</td>\n      <td>0</td>\n      <td>0</td>\n      <td>0</td>\n      <td>0</td>\n    </tr>\n    <tr>\n      <th>6</th>\n      <td>2019-01-01 06:00:00</td>\n      <td>Brand, Ort</td>\n      <td>6</td>\n      <td>0.0</td>\n      <td>0</td>\n      <td>1</td>\n      <td>0</td>\n      <td>0</td>\n      <td>0</td>\n      <td>0</td>\n      <td>...</td>\n      <td>0</td>\n      <td>0</td>\n      <td>0</td>\n      <td>0</td>\n      <td>0</td>\n      <td>0</td>\n      <td>0</td>\n      <td>0</td>\n      <td>0</td>\n      <td>0</td>\n    </tr>\n    <tr>\n      <th>7</th>\n      <td>2019-01-01 07:00:00</td>\n      <td>Brand, Ort</td>\n      <td>7</td>\n      <td>0.0</td>\n      <td>0</td>\n      <td>1</td>\n      <td>0</td>\n      <td>0</td>\n      <td>0</td>\n      <td>0</td>\n      <td>...</td>\n      <td>0</td>\n      <td>0</td>\n      <td>0</td>\n      <td>0</td>\n      <td>0</td>\n      <td>0</td>\n      <td>0</td>\n      <td>0</td>\n      <td>0</td>\n      <td>0</td>\n    </tr>\n    <tr>\n      <th>8</th>\n      <td>2019-01-01 08:00:00</td>\n      <td>Brand, Ort</td>\n      <td>8</td>\n      <td>0.0</td>\n      <td>0</td>\n      <td>1</td>\n      <td>0</td>\n      <td>0</td>\n      <td>0</td>\n      <td>0</td>\n      <td>...</td>\n      <td>0</td>\n      <td>0</td>\n      <td>0</td>\n      <td>0</td>\n      <td>0</td>\n      <td>0</td>\n      <td>0</td>\n      <td>0</td>\n      <td>0</td>\n      <td>0</td>\n    </tr>\n    <tr>\n      <th>9</th>\n      <td>2019-01-01 09:00:00</td>\n      <td>Brand, Ort</td>\n      <td>9</td>\n      <td>0.0</td>\n      <td>0</td>\n      <td>1</td>\n      <td>0</td>\n      <td>0</td>\n      <td>0</td>\n      <td>0</td>\n      <td>...</td>\n      <td>0</td>\n      <td>0</td>\n      <td>0</td>\n      <td>0</td>\n      <td>0</td>\n      <td>0</td>\n      <td>0</td>\n      <td>0</td>\n      <td>0</td>\n      <td>0</td>\n    </tr>\n    <tr>\n      <th>10</th>\n      <td>2019-01-01 10:00:00</td>\n      <td>Brand, Ort</td>\n      <td>10</td>\n      <td>0.0</td>\n      <td>0</td>\n      <td>1</td>\n      <td>0</td>\n      <td>0</td>\n      <td>0</td>\n      <td>0</td>\n      <td>...</td>\n      <td>0</td>\n      <td>0</td>\n      <td>0</td>\n      <td>0</td>\n      <td>0</td>\n      <td>0</td>\n      <td>0</td>\n      <td>0</td>\n      <td>0</td>\n      <td>0</td>\n    </tr>\n    <tr>\n      <th>11</th>\n      <td>2019-01-01 11:00:00</td>\n      <td>Brand, Ort</td>\n      <td>11</td>\n      <td>0.0</td>\n      <td>0</td>\n      <td>1</td>\n      <td>0</td>\n      <td>0</td>\n      <td>0</td>\n      <td>0</td>\n      <td>...</td>\n      <td>0</td>\n      <td>0</td>\n      <td>0</td>\n      <td>0</td>\n      <td>0</td>\n      <td>0</td>\n      <td>0</td>\n      <td>0</td>\n      <td>0</td>\n      <td>0</td>\n    </tr>\n    <tr>\n      <th>12</th>\n      <td>2019-01-01 12:00:00</td>\n      <td>Brand, Ort</td>\n      <td>12</td>\n      <td>0.0</td>\n      <td>0</td>\n      <td>1</td>\n      <td>0</td>\n      <td>0</td>\n      <td>0</td>\n      <td>0</td>\n      <td>...</td>\n      <td>0</td>\n      <td>0</td>\n      <td>0</td>\n      <td>0</td>\n      <td>0</td>\n      <td>0</td>\n      <td>0</td>\n      <td>0</td>\n      <td>0</td>\n      <td>0</td>\n    </tr>\n    <tr>\n      <th>13</th>\n      <td>2019-01-01 13:00:00</td>\n      <td>Brand, Ort</td>\n      <td>13</td>\n      <td>0.0</td>\n      <td>0</td>\n      <td>1</td>\n      <td>0</td>\n      <td>0</td>\n      <td>0</td>\n      <td>0</td>\n      <td>...</td>\n      <td>0</td>\n      <td>0</td>\n      <td>0</td>\n      <td>0</td>\n      <td>0</td>\n      <td>0</td>\n      <td>0</td>\n      <td>0</td>\n      <td>0</td>\n      <td>0</td>\n    </tr>\n    <tr>\n      <th>14</th>\n      <td>2019-01-01 14:00:00</td>\n      <td>Brand, Ort</td>\n      <td>14</td>\n      <td>0.0</td>\n      <td>0</td>\n      <td>1</td>\n      <td>0</td>\n      <td>0</td>\n      <td>0</td>\n      <td>0</td>\n      <td>...</td>\n      <td>0</td>\n      <td>0</td>\n      <td>0</td>\n      <td>0</td>\n      <td>0</td>\n      <td>0</td>\n      <td>0</td>\n      <td>0</td>\n      <td>0</td>\n      <td>0</td>\n    </tr>\n    <tr>\n      <th>15</th>\n      <td>2019-01-01 15:00:00</td>\n      <td>Brand, Ort</td>\n      <td>15</td>\n      <td>0.0</td>\n      <td>0</td>\n      <td>1</td>\n      <td>0</td>\n      <td>0</td>\n      <td>0</td>\n      <td>0</td>\n      <td>...</td>\n      <td>0</td>\n      <td>0</td>\n      <td>0</td>\n      <td>0</td>\n      <td>0</td>\n      <td>0</td>\n      <td>0</td>\n      <td>0</td>\n      <td>0</td>\n      <td>0</td>\n    </tr>\n    <tr>\n      <th>16</th>\n      <td>2019-01-01 16:00:00</td>\n      <td>Brand, Ort</td>\n      <td>16</td>\n      <td>0.0</td>\n      <td>0</td>\n      <td>1</td>\n      <td>0</td>\n      <td>0</td>\n      <td>0</td>\n      <td>0</td>\n      <td>...</td>\n      <td>0</td>\n      <td>0</td>\n      <td>0</td>\n      <td>0</td>\n      <td>0</td>\n      <td>0</td>\n      <td>0</td>\n      <td>0</td>\n      <td>0</td>\n      <td>0</td>\n    </tr>\n    <tr>\n      <th>17</th>\n      <td>2019-01-01 17:00:00</td>\n      <td>Brand, Ort</td>\n      <td>17</td>\n      <td>0.0</td>\n      <td>0</td>\n      <td>1</td>\n      <td>0</td>\n      <td>0</td>\n      <td>0</td>\n      <td>0</td>\n      <td>...</td>\n      <td>0</td>\n      <td>0</td>\n      <td>0</td>\n      <td>0</td>\n      <td>0</td>\n      <td>0</td>\n      <td>0</td>\n      <td>0</td>\n      <td>0</td>\n      <td>0</td>\n    </tr>\n    <tr>\n      <th>18</th>\n      <td>2019-01-01 18:00:00</td>\n      <td>Brand, Ort</td>\n      <td>18</td>\n      <td>0.0</td>\n      <td>0</td>\n      <td>1</td>\n      <td>0</td>\n      <td>0</td>\n      <td>0</td>\n      <td>0</td>\n      <td>...</td>\n      <td>0</td>\n      <td>0</td>\n      <td>0</td>\n      <td>0</td>\n      <td>0</td>\n      <td>0</td>\n      <td>0</td>\n      <td>0</td>\n      <td>0</td>\n      <td>0</td>\n    </tr>\n    <tr>\n      <th>19</th>\n      <td>2019-01-01 19:00:00</td>\n      <td>Brand, Ort</td>\n      <td>19</td>\n      <td>0.0</td>\n      <td>0</td>\n      <td>1</td>\n      <td>0</td>\n      <td>0</td>\n      <td>0</td>\n      <td>0</td>\n      <td>...</td>\n      <td>0</td>\n      <td>0</td>\n      <td>0</td>\n      <td>0</td>\n      <td>0</td>\n      <td>0</td>\n      <td>0</td>\n      <td>0</td>\n      <td>0</td>\n      <td>0</td>\n    </tr>\n    <tr>\n      <th>20</th>\n      <td>2019-01-01 20:00:00</td>\n      <td>Brand, Ort</td>\n      <td>20</td>\n      <td>0.0</td>\n      <td>0</td>\n      <td>1</td>\n      <td>0</td>\n      <td>0</td>\n      <td>0</td>\n      <td>0</td>\n      <td>...</td>\n      <td>0</td>\n      <td>0</td>\n      <td>0</td>\n      <td>0</td>\n      <td>0</td>\n      <td>0</td>\n      <td>0</td>\n      <td>0</td>\n      <td>0</td>\n      <td>0</td>\n    </tr>\n    <tr>\n      <th>21</th>\n      <td>2019-01-01 21:00:00</td>\n      <td>Brand, Ort</td>\n      <td>21</td>\n      <td>0.0</td>\n      <td>0</td>\n      <td>1</td>\n      <td>0</td>\n      <td>0</td>\n      <td>0</td>\n      <td>0</td>\n      <td>...</td>\n      <td>0</td>\n      <td>0</td>\n      <td>0</td>\n      <td>0</td>\n      <td>0</td>\n      <td>0</td>\n      <td>0</td>\n      <td>0</td>\n      <td>0</td>\n      <td>0</td>\n    </tr>\n    <tr>\n      <th>22</th>\n      <td>2019-01-01 22:00:00</td>\n      <td>Brand, Ort</td>\n      <td>22</td>\n      <td>0.0</td>\n      <td>0</td>\n      <td>1</td>\n      <td>0</td>\n      <td>0</td>\n      <td>0</td>\n      <td>0</td>\n      <td>...</td>\n      <td>0</td>\n      <td>0</td>\n      <td>0</td>\n      <td>0</td>\n      <td>0</td>\n      <td>0</td>\n      <td>0</td>\n      <td>0</td>\n      <td>0</td>\n      <td>0</td>\n    </tr>\n    <tr>\n      <th>23</th>\n      <td>2019-01-01 23:00:00</td>\n      <td>Brand, Ort</td>\n      <td>23</td>\n      <td>0.0</td>\n      <td>0</td>\n      <td>1</td>\n      <td>0</td>\n      <td>0</td>\n      <td>0</td>\n      <td>0</td>\n      <td>...</td>\n      <td>0</td>\n      <td>0</td>\n      <td>0</td>\n      <td>0</td>\n      <td>0</td>\n      <td>0</td>\n      <td>0</td>\n      <td>0</td>\n      <td>0</td>\n      <td>0</td>\n    </tr>\n    <tr>\n      <th>24</th>\n      <td>2019-01-01 00:00:00</td>\n      <td>Bärnau, Marktplatz</td>\n      <td>0</td>\n      <td>0.0</td>\n      <td>0</td>\n      <td>0</td>\n      <td>1</td>\n      <td>0</td>\n      <td>0</td>\n      <td>0</td>\n      <td>...</td>\n      <td>0</td>\n      <td>0</td>\n      <td>0</td>\n      <td>0</td>\n      <td>0</td>\n      <td>0</td>\n      <td>0</td>\n      <td>0</td>\n      <td>0</td>\n      <td>0</td>\n    </tr>\n    <tr>\n      <th>25</th>\n      <td>2019-01-01 01:00:00</td>\n      <td>Bärnau, Marktplatz</td>\n      <td>1</td>\n      <td>0.0</td>\n      <td>0</td>\n      <td>0</td>\n      <td>1</td>\n      <td>0</td>\n      <td>0</td>\n      <td>0</td>\n      <td>...</td>\n      <td>0</td>\n      <td>0</td>\n      <td>0</td>\n      <td>0</td>\n      <td>0</td>\n      <td>0</td>\n      <td>0</td>\n      <td>0</td>\n      <td>0</td>\n      <td>0</td>\n    </tr>\n    <tr>\n      <th>26</th>\n      <td>2019-01-01 02:00:00</td>\n      <td>Bärnau, Marktplatz</td>\n      <td>2</td>\n      <td>0.0</td>\n      <td>0</td>\n      <td>0</td>\n      <td>1</td>\n      <td>0</td>\n      <td>0</td>\n      <td>0</td>\n      <td>...</td>\n      <td>0</td>\n      <td>0</td>\n      <td>0</td>\n      <td>0</td>\n      <td>0</td>\n      <td>0</td>\n      <td>0</td>\n      <td>0</td>\n      <td>0</td>\n      <td>0</td>\n    </tr>\n    <tr>\n      <th>27</th>\n      <td>2019-01-01 03:00:00</td>\n      <td>Bärnau, Marktplatz</td>\n      <td>3</td>\n      <td>0.0</td>\n      <td>0</td>\n      <td>0</td>\n      <td>1</td>\n      <td>0</td>\n      <td>0</td>\n      <td>0</td>\n      <td>...</td>\n      <td>0</td>\n      <td>0</td>\n      <td>0</td>\n      <td>0</td>\n      <td>0</td>\n      <td>0</td>\n      <td>0</td>\n      <td>0</td>\n      <td>0</td>\n      <td>0</td>\n    </tr>\n    <tr>\n      <th>28</th>\n      <td>2019-01-01 04:00:00</td>\n      <td>Bärnau, Marktplatz</td>\n      <td>4</td>\n      <td>0.0</td>\n      <td>0</td>\n      <td>0</td>\n      <td>1</td>\n      <td>0</td>\n      <td>0</td>\n      <td>0</td>\n      <td>...</td>\n      <td>0</td>\n      <td>0</td>\n      <td>0</td>\n      <td>0</td>\n      <td>0</td>\n      <td>0</td>\n      <td>0</td>\n      <td>0</td>\n      <td>0</td>\n      <td>0</td>\n    </tr>\n    <tr>\n      <th>29</th>\n      <td>2019-01-01 05:00:00</td>\n      <td>Bärnau, Marktplatz</td>\n      <td>5</td>\n      <td>0.0</td>\n      <td>0</td>\n      <td>0</td>\n      <td>1</td>\n      <td>0</td>\n      <td>0</td>\n      <td>0</td>\n      <td>...</td>\n      <td>0</td>\n      <td>0</td>\n      <td>0</td>\n      <td>0</td>\n      <td>0</td>\n      <td>0</td>\n      <td>0</td>\n      <td>0</td>\n      <td>0</td>\n      <td>0</td>\n    </tr>\n    <tr>\n      <th>30</th>\n      <td>2019-01-01 06:00:00</td>\n      <td>Bärnau, Marktplatz</td>\n      <td>6</td>\n      <td>0.0</td>\n      <td>0</td>\n      <td>0</td>\n      <td>1</td>\n      <td>0</td>\n      <td>0</td>\n      <td>0</td>\n      <td>...</td>\n      <td>0</td>\n      <td>0</td>\n      <td>0</td>\n      <td>0</td>\n      <td>0</td>\n      <td>0</td>\n      <td>0</td>\n      <td>0</td>\n      <td>0</td>\n      <td>0</td>\n    </tr>\n    <tr>\n      <th>31</th>\n      <td>2019-01-01 07:00:00</td>\n      <td>Bärnau, Marktplatz</td>\n      <td>7</td>\n      <td>0.0</td>\n      <td>0</td>\n      <td>0</td>\n      <td>1</td>\n      <td>0</td>\n      <td>0</td>\n      <td>0</td>\n      <td>...</td>\n      <td>0</td>\n      <td>0</td>\n      <td>0</td>\n      <td>0</td>\n      <td>0</td>\n      <td>0</td>\n      <td>0</td>\n      <td>0</td>\n      <td>0</td>\n      <td>0</td>\n    </tr>\n    <tr>\n      <th>32</th>\n      <td>2019-01-01 08:00:00</td>\n      <td>Bärnau, Marktplatz</td>\n      <td>8</td>\n      <td>0.0</td>\n      <td>0</td>\n      <td>0</td>\n      <td>1</td>\n      <td>0</td>\n      <td>0</td>\n      <td>0</td>\n      <td>...</td>\n      <td>0</td>\n      <td>0</td>\n      <td>0</td>\n      <td>0</td>\n      <td>0</td>\n      <td>0</td>\n      <td>0</td>\n      <td>0</td>\n      <td>0</td>\n      <td>0</td>\n    </tr>\n    <tr>\n      <th>33</th>\n      <td>2019-01-01 09:00:00</td>\n      <td>Bärnau, Marktplatz</td>\n      <td>9</td>\n      <td>0.0</td>\n      <td>0</td>\n      <td>0</td>\n      <td>1</td>\n      <td>0</td>\n      <td>0</td>\n      <td>0</td>\n      <td>...</td>\n      <td>0</td>\n      <td>0</td>\n      <td>0</td>\n      <td>0</td>\n      <td>0</td>\n      <td>0</td>\n      <td>0</td>\n      <td>0</td>\n      <td>0</td>\n      <td>0</td>\n    </tr>\n    <tr>\n      <th>34</th>\n      <td>2019-01-01 10:00:00</td>\n      <td>Bärnau, Marktplatz</td>\n      <td>10</td>\n      <td>0.0</td>\n      <td>0</td>\n      <td>0</td>\n      <td>1</td>\n      <td>0</td>\n      <td>0</td>\n      <td>0</td>\n      <td>...</td>\n      <td>0</td>\n      <td>0</td>\n      <td>0</td>\n      <td>0</td>\n      <td>0</td>\n      <td>0</td>\n      <td>0</td>\n      <td>0</td>\n      <td>0</td>\n      <td>0</td>\n    </tr>\n    <tr>\n      <th>35</th>\n      <td>2019-01-01 11:00:00</td>\n      <td>Bärnau, Marktplatz</td>\n      <td>11</td>\n      <td>0.0</td>\n      <td>0</td>\n      <td>0</td>\n      <td>1</td>\n      <td>0</td>\n      <td>0</td>\n      <td>0</td>\n      <td>...</td>\n      <td>0</td>\n      <td>0</td>\n      <td>0</td>\n      <td>0</td>\n      <td>0</td>\n      <td>0</td>\n      <td>0</td>\n      <td>0</td>\n      <td>0</td>\n      <td>0</td>\n    </tr>\n    <tr>\n      <th>36</th>\n      <td>2019-01-01 12:00:00</td>\n      <td>Bärnau, Marktplatz</td>\n      <td>12</td>\n      <td>0.0</td>\n      <td>0</td>\n      <td>0</td>\n      <td>1</td>\n      <td>0</td>\n      <td>0</td>\n      <td>0</td>\n      <td>...</td>\n      <td>0</td>\n      <td>0</td>\n      <td>0</td>\n      <td>0</td>\n      <td>0</td>\n      <td>0</td>\n      <td>0</td>\n      <td>0</td>\n      <td>0</td>\n      <td>0</td>\n    </tr>\n    <tr>\n      <th>37</th>\n      <td>2019-01-01 13:00:00</td>\n      <td>Bärnau, Marktplatz</td>\n      <td>13</td>\n      <td>0.0</td>\n      <td>0</td>\n      <td>0</td>\n      <td>1</td>\n      <td>0</td>\n      <td>0</td>\n      <td>0</td>\n      <td>...</td>\n      <td>0</td>\n      <td>0</td>\n      <td>0</td>\n      <td>0</td>\n      <td>0</td>\n      <td>0</td>\n      <td>0</td>\n      <td>0</td>\n      <td>0</td>\n      <td>0</td>\n    </tr>\n    <tr>\n      <th>38</th>\n      <td>2019-01-01 14:00:00</td>\n      <td>Bärnau, Marktplatz</td>\n      <td>14</td>\n      <td>0.0</td>\n      <td>0</td>\n      <td>0</td>\n      <td>1</td>\n      <td>0</td>\n      <td>0</td>\n      <td>0</td>\n      <td>...</td>\n      <td>0</td>\n      <td>0</td>\n      <td>0</td>\n      <td>0</td>\n      <td>0</td>\n      <td>0</td>\n      <td>0</td>\n      <td>0</td>\n      <td>0</td>\n      <td>0</td>\n    </tr>\n    <tr>\n      <th>39</th>\n      <td>2019-01-01 15:00:00</td>\n      <td>Bärnau, Marktplatz</td>\n      <td>15</td>\n      <td>0.0</td>\n      <td>0</td>\n      <td>0</td>\n      <td>1</td>\n      <td>0</td>\n      <td>0</td>\n      <td>0</td>\n      <td>...</td>\n      <td>0</td>\n      <td>0</td>\n      <td>0</td>\n      <td>0</td>\n      <td>0</td>\n      <td>0</td>\n      <td>0</td>\n      <td>0</td>\n      <td>0</td>\n      <td>0</td>\n    </tr>\n    <tr>\n      <th>40</th>\n      <td>2019-01-01 16:00:00</td>\n      <td>Bärnau, Marktplatz</td>\n      <td>16</td>\n      <td>0.0</td>\n      <td>0</td>\n      <td>0</td>\n      <td>1</td>\n      <td>0</td>\n      <td>0</td>\n      <td>0</td>\n      <td>...</td>\n      <td>0</td>\n      <td>0</td>\n      <td>0</td>\n      <td>0</td>\n      <td>0</td>\n      <td>0</td>\n      <td>0</td>\n      <td>0</td>\n      <td>0</td>\n      <td>0</td>\n    </tr>\n    <tr>\n      <th>41</th>\n      <td>2019-01-01 17:00:00</td>\n      <td>Bärnau, Marktplatz</td>\n      <td>17</td>\n      <td>0.0</td>\n      <td>0</td>\n      <td>0</td>\n      <td>1</td>\n      <td>0</td>\n      <td>0</td>\n      <td>0</td>\n      <td>...</td>\n      <td>0</td>\n      <td>0</td>\n      <td>0</td>\n      <td>0</td>\n      <td>0</td>\n      <td>0</td>\n      <td>0</td>\n      <td>0</td>\n      <td>0</td>\n      <td>0</td>\n    </tr>\n    <tr>\n      <th>42</th>\n      <td>2019-01-01 18:00:00</td>\n      <td>Bärnau, Marktplatz</td>\n      <td>18</td>\n      <td>0.0</td>\n      <td>0</td>\n      <td>0</td>\n      <td>1</td>\n      <td>0</td>\n      <td>0</td>\n      <td>0</td>\n      <td>...</td>\n      <td>0</td>\n      <td>0</td>\n      <td>0</td>\n      <td>0</td>\n      <td>0</td>\n      <td>0</td>\n      <td>0</td>\n      <td>0</td>\n      <td>0</td>\n      <td>0</td>\n    </tr>\n    <tr>\n      <th>43</th>\n      <td>2019-01-01 19:00:00</td>\n      <td>Bärnau, Marktplatz</td>\n      <td>19</td>\n      <td>0.0</td>\n      <td>0</td>\n      <td>0</td>\n      <td>1</td>\n      <td>0</td>\n      <td>0</td>\n      <td>0</td>\n      <td>...</td>\n      <td>0</td>\n      <td>0</td>\n      <td>0</td>\n      <td>0</td>\n      <td>0</td>\n      <td>0</td>\n      <td>0</td>\n      <td>0</td>\n      <td>0</td>\n      <td>0</td>\n    </tr>\n    <tr>\n      <th>44</th>\n      <td>2019-01-01 20:00:00</td>\n      <td>Bärnau, Marktplatz</td>\n      <td>20</td>\n      <td>0.0</td>\n      <td>0</td>\n      <td>0</td>\n      <td>1</td>\n      <td>0</td>\n      <td>0</td>\n      <td>0</td>\n      <td>...</td>\n      <td>0</td>\n      <td>0</td>\n      <td>0</td>\n      <td>0</td>\n      <td>0</td>\n      <td>0</td>\n      <td>0</td>\n      <td>0</td>\n      <td>0</td>\n      <td>0</td>\n    </tr>\n    <tr>\n      <th>45</th>\n      <td>2019-01-01 21:00:00</td>\n      <td>Bärnau, Marktplatz</td>\n      <td>21</td>\n      <td>0.0</td>\n      <td>0</td>\n      <td>0</td>\n      <td>1</td>\n      <td>0</td>\n      <td>0</td>\n      <td>0</td>\n      <td>...</td>\n      <td>0</td>\n      <td>0</td>\n      <td>0</td>\n      <td>0</td>\n      <td>0</td>\n      <td>0</td>\n      <td>0</td>\n      <td>0</td>\n      <td>0</td>\n      <td>0</td>\n    </tr>\n    <tr>\n      <th>46</th>\n      <td>2019-01-01 22:00:00</td>\n      <td>Bärnau, Marktplatz</td>\n      <td>22</td>\n      <td>0.0</td>\n      <td>0</td>\n      <td>0</td>\n      <td>1</td>\n      <td>0</td>\n      <td>0</td>\n      <td>0</td>\n      <td>...</td>\n      <td>0</td>\n      <td>0</td>\n      <td>0</td>\n      <td>0</td>\n      <td>0</td>\n      <td>0</td>\n      <td>0</td>\n      <td>0</td>\n      <td>0</td>\n      <td>0</td>\n    </tr>\n    <tr>\n      <th>47</th>\n      <td>2019-01-01 23:00:00</td>\n      <td>Bärnau, Marktplatz</td>\n      <td>23</td>\n      <td>0.0</td>\n      <td>0</td>\n      <td>0</td>\n      <td>1</td>\n      <td>0</td>\n      <td>0</td>\n      <td>0</td>\n      <td>...</td>\n      <td>0</td>\n      <td>0</td>\n      <td>0</td>\n      <td>0</td>\n      <td>0</td>\n      <td>0</td>\n      <td>0</td>\n      <td>0</td>\n      <td>0</td>\n      <td>0</td>\n    </tr>\n  </tbody>\n</table>\n<p>48 rows × 55 columns</p>\n</div>"
     },
     "execution_count": 15,
     "metadata": {},
     "output_type": "execute_result"
    }
   ],
   "source": [
    "ond_df.head(48)"
   ],
   "metadata": {
    "collapsed": false,
    "pycharm": {
     "name": "#%%\n"
    }
   }
  },
  {
   "cell_type": "code",
   "execution_count": 16,
   "outputs": [
    {
     "data": {
      "text/plain": "                      date                       EZone  hour  Passengers  \\\n437952 2019-12-31 00:00:00  Waldsassen, Schützenstraße     0         0.0   \n437953 2019-12-31 01:00:00  Waldsassen, Schützenstraße     1         0.0   \n437954 2019-12-31 02:00:00  Waldsassen, Schützenstraße     2         0.0   \n437955 2019-12-31 03:00:00  Waldsassen, Schützenstraße     3         0.0   \n437956 2019-12-31 04:00:00  Waldsassen, Schützenstraße     4         0.0   \n437957 2019-12-31 05:00:00  Waldsassen, Schützenstraße     5         0.0   \n437958 2019-12-31 06:00:00  Waldsassen, Schützenstraße     6         0.0   \n437959 2019-12-31 07:00:00  Waldsassen, Schützenstraße     7         0.0   \n437960 2019-12-31 08:00:00  Waldsassen, Schützenstraße     8         1.0   \n437961 2019-12-31 09:00:00  Waldsassen, Schützenstraße     9         1.0   \n437962 2019-12-31 10:00:00  Waldsassen, Schützenstraße    10         0.0   \n437963 2019-12-31 11:00:00  Waldsassen, Schützenstraße    11         0.0   \n437964 2019-12-31 12:00:00  Waldsassen, Schützenstraße    12         0.0   \n437965 2019-12-31 13:00:00  Waldsassen, Schützenstraße    13         0.0   \n437966 2019-12-31 14:00:00  Waldsassen, Schützenstraße    14         0.0   \n437967 2019-12-31 15:00:00  Waldsassen, Schützenstraße    15         0.0   \n437968 2019-12-31 16:00:00  Waldsassen, Schützenstraße    16         0.0   \n437969 2019-12-31 17:00:00  Waldsassen, Schützenstraße    17         0.0   \n437970 2019-12-31 18:00:00  Waldsassen, Schützenstraße    18         0.0   \n437971 2019-12-31 19:00:00  Waldsassen, Schützenstraße    19         0.0   \n437972 2019-12-31 20:00:00  Waldsassen, Schützenstraße    20         0.0   \n437973 2019-12-31 21:00:00  Waldsassen, Schützenstraße    21         0.0   \n437974 2019-12-31 22:00:00  Waldsassen, Schützenstraße    22         0.0   \n437975 2019-12-31 23:00:00  Waldsassen, Schützenstraße    23         0.0   \n437976 2019-12-31 00:00:00          Wiesau, Bf ANKUNFT     0         0.0   \n437977 2019-12-31 01:00:00          Wiesau, Bf ANKUNFT     1         0.0   \n437978 2019-12-31 02:00:00          Wiesau, Bf ANKUNFT     2         0.0   \n437979 2019-12-31 03:00:00          Wiesau, Bf ANKUNFT     3         0.0   \n437980 2019-12-31 04:00:00          Wiesau, Bf ANKUNFT     4         0.0   \n437981 2019-12-31 05:00:00          Wiesau, Bf ANKUNFT     5         0.0   \n437982 2019-12-31 06:00:00          Wiesau, Bf ANKUNFT     6         0.0   \n437983 2019-12-31 07:00:00          Wiesau, Bf ANKUNFT     7         0.0   \n437984 2019-12-31 08:00:00          Wiesau, Bf ANKUNFT     8         0.0   \n437985 2019-12-31 09:00:00          Wiesau, Bf ANKUNFT     9         0.0   \n437986 2019-12-31 10:00:00          Wiesau, Bf ANKUNFT    10         0.0   \n437987 2019-12-31 11:00:00          Wiesau, Bf ANKUNFT    11         0.0   \n437988 2019-12-31 12:00:00          Wiesau, Bf ANKUNFT    12         0.0   \n437989 2019-12-31 13:00:00          Wiesau, Bf ANKUNFT    13         0.0   \n437990 2019-12-31 14:00:00          Wiesau, Bf ANKUNFT    14         0.0   \n437991 2019-12-31 15:00:00          Wiesau, Bf ANKUNFT    15         0.0   \n437992 2019-12-31 16:00:00          Wiesau, Bf ANKUNFT    16         0.0   \n437993 2019-12-31 17:00:00          Wiesau, Bf ANKUNFT    17         0.0   \n437994 2019-12-31 18:00:00          Wiesau, Bf ANKUNFT    18         0.0   \n437995 2019-12-31 19:00:00          Wiesau, Bf ANKUNFT    19         0.0   \n437996 2019-12-31 20:00:00          Wiesau, Bf ANKUNFT    20         0.0   \n437997 2019-12-31 21:00:00          Wiesau, Bf ANKUNFT    21         0.0   \n437998 2019-12-31 22:00:00          Wiesau, Bf ANKUNFT    22         0.0   \n437999 2019-12-31 23:00:00          Wiesau, Bf ANKUNFT    23         0.0   \n\n        class  Brand, Ort  Bärnau, Marktplatz  Deggendorf, Busbahnhof  \\\n437952      0           0                   0                       0   \n437953      0           0                   0                       0   \n437954      0           0                   0                       0   \n437955      0           0                   0                       0   \n437956      0           0                   0                       0   \n437957      0           0                   0                       0   \n437958      0           0                   0                       0   \n437959      0           0                   0                       0   \n437960      1           0                   0                       0   \n437961      1           0                   0                       0   \n437962      0           0                   0                       0   \n437963      0           0                   0                       0   \n437964      0           0                   0                       0   \n437965      0           0                   0                       0   \n437966      0           0                   0                       0   \n437967      0           0                   0                       0   \n437968      0           0                   0                       0   \n437969      0           0                   0                       0   \n437970      0           0                   0                       0   \n437971      0           0                   0                       0   \n437972      0           0                   0                       0   \n437973      0           0                   0                       0   \n437974      0           0                   0                       0   \n437975      0           0                   0                       0   \n437976      0           0                   0                       0   \n437977      0           0                   0                       0   \n437978      0           0                   0                       0   \n437979      0           0                   0                       0   \n437980      0           0                   0                       0   \n437981      0           0                   0                       0   \n437982      0           0                   0                       0   \n437983      0           0                   0                       0   \n437984      0           0                   0                       0   \n437985      0           0                   0                       0   \n437986      0           0                   0                       0   \n437987      0           0                   0                       0   \n437988      0           0                   0                       0   \n437989      0           0                   0                       0   \n437990      0           0                   0                       0   \n437991      0           0                   0                       0   \n437992      0           0                   0                       0   \n437993      0           0                   0                       0   \n437994      0           0                   0                       0   \n437995      0           0                   0                       0   \n437996      0           0                   0                       0   \n437997      0           0                   0                       0   \n437998      0           0                   0                       0   \n437999      0           0                   0                       0   \n\n        Deggendorf, Hauptbahnhof  Deggendorf, Stadtplatz  ...  \\\n437952                         0                       0  ...   \n437953                         0                       0  ...   \n437954                         0                       0  ...   \n437955                         0                       0  ...   \n437956                         0                       0  ...   \n437957                         0                       0  ...   \n437958                         0                       0  ...   \n437959                         0                       0  ...   \n437960                         0                       0  ...   \n437961                         0                       0  ...   \n437962                         0                       0  ...   \n437963                         0                       0  ...   \n437964                         0                       0  ...   \n437965                         0                       0  ...   \n437966                         0                       0  ...   \n437967                         0                       0  ...   \n437968                         0                       0  ...   \n437969                         0                       0  ...   \n437970                         0                       0  ...   \n437971                         0                       0  ...   \n437972                         0                       0  ...   \n437973                         0                       0  ...   \n437974                         0                       0  ...   \n437975                         0                       0  ...   \n437976                         0                       0  ...   \n437977                         0                       0  ...   \n437978                         0                       0  ...   \n437979                         0                       0  ...   \n437980                         0                       0  ...   \n437981                         0                       0  ...   \n437982                         0                       0  ...   \n437983                         0                       0  ...   \n437984                         0                       0  ...   \n437985                         0                       0  ...   \n437986                         0                       0  ...   \n437987                         0                       0  ...   \n437988                         0                       0  ...   \n437989                         0                       0  ...   \n437990                         0                       0  ...   \n437991                         0                       0  ...   \n437992                         0                       0  ...   \n437993                         0                       0  ...   \n437994                         0                       0  ...   \n437995                         0                       0  ...   \n437996                         0                       0  ...   \n437997                         0                       0  ...   \n437998                         0                       0  ...   \n437999                         0                       0  ...   \n\n        Tirschenreuth, ZOB Großparkplatz  Tittling, Marktplatz  \\\n437952                                 0                     0   \n437953                                 0                     0   \n437954                                 0                     0   \n437955                                 0                     0   \n437956                                 0                     0   \n437957                                 0                     0   \n437958                                 0                     0   \n437959                                 0                     0   \n437960                                 0                     0   \n437961                                 0                     0   \n437962                                 0                     0   \n437963                                 0                     0   \n437964                                 0                     0   \n437965                                 0                     0   \n437966                                 0                     0   \n437967                                 0                     0   \n437968                                 0                     0   \n437969                                 0                     0   \n437970                                 0                     0   \n437971                                 0                     0   \n437972                                 0                     0   \n437973                                 0                     0   \n437974                                 0                     0   \n437975                                 0                     0   \n437976                                 0                     0   \n437977                                 0                     0   \n437978                                 0                     0   \n437979                                 0                     0   \n437980                                 0                     0   \n437981                                 0                     0   \n437982                                 0                     0   \n437983                                 0                     0   \n437984                                 0                     0   \n437985                                 0                     0   \n437986                                 0                     0   \n437987                                 0                     0   \n437988                                 0                     0   \n437989                                 0                     0   \n437990                                 0                     0   \n437991                                 0                     0   \n437992                                 0                     0   \n437993                                 0                     0   \n437994                                 0                     0   \n437995                                 0                     0   \n437996                                 0                     0   \n437997                                 0                     0   \n437998                                 0                     0   \n437999                                 0                     0   \n\n        Viechtach, Bahnhof/ZOB  Viechtach, Schmidstraße/Edeka  \\\n437952                       0                              0   \n437953                       0                              0   \n437954                       0                              0   \n437955                       0                              0   \n437956                       0                              0   \n437957                       0                              0   \n437958                       0                              0   \n437959                       0                              0   \n437960                       0                              0   \n437961                       0                              0   \n437962                       0                              0   \n437963                       0                              0   \n437964                       0                              0   \n437965                       0                              0   \n437966                       0                              0   \n437967                       0                              0   \n437968                       0                              0   \n437969                       0                              0   \n437970                       0                              0   \n437971                       0                              0   \n437972                       0                              0   \n437973                       0                              0   \n437974                       0                              0   \n437975                       0                              0   \n437976                       0                              0   \n437977                       0                              0   \n437978                       0                              0   \n437979                       0                              0   \n437980                       0                              0   \n437981                       0                              0   \n437982                       0                              0   \n437983                       0                              0   \n437984                       0                              0   \n437985                       0                              0   \n437986                       0                              0   \n437987                       0                              0   \n437988                       0                              0   \n437989                       0                              0   \n437990                       0                              0   \n437991                       0                              0   \n437992                       0                              0   \n437993                       0                              0   \n437994                       0                              0   \n437995                       0                              0   \n437996                       0                              0   \n437997                       0                              0   \n437998                       0                              0   \n437999                       0                              0   \n\n        Viechtach, Stadtplatz  Vilshofen, Bahnhof  Vilshofen, Stadtplatz  \\\n437952                      0                   0                      0   \n437953                      0                   0                      0   \n437954                      0                   0                      0   \n437955                      0                   0                      0   \n437956                      0                   0                      0   \n437957                      0                   0                      0   \n437958                      0                   0                      0   \n437959                      0                   0                      0   \n437960                      0                   0                      0   \n437961                      0                   0                      0   \n437962                      0                   0                      0   \n437963                      0                   0                      0   \n437964                      0                   0                      0   \n437965                      0                   0                      0   \n437966                      0                   0                      0   \n437967                      0                   0                      0   \n437968                      0                   0                      0   \n437969                      0                   0                      0   \n437970                      0                   0                      0   \n437971                      0                   0                      0   \n437972                      0                   0                      0   \n437973                      0                   0                      0   \n437974                      0                   0                      0   \n437975                      0                   0                      0   \n437976                      0                   0                      0   \n437977                      0                   0                      0   \n437978                      0                   0                      0   \n437979                      0                   0                      0   \n437980                      0                   0                      0   \n437981                      0                   0                      0   \n437982                      0                   0                      0   \n437983                      0                   0                      0   \n437984                      0                   0                      0   \n437985                      0                   0                      0   \n437986                      0                   0                      0   \n437987                      0                   0                      0   \n437988                      0                   0                      0   \n437989                      0                   0                      0   \n437990                      0                   0                      0   \n437991                      0                   0                      0   \n437992                      0                   0                      0   \n437993                      0                   0                      0   \n437994                      0                   0                      0   \n437995                      0                   0                      0   \n437996                      0                   0                      0   \n437997                      0                   0                      0   \n437998                      0                   0                      0   \n437999                      0                   0                      0   \n\n        Waldsassen, J.-Wiesneth-Str.  Waldsassen, Schützenstraße  \\\n437952                             0                           1   \n437953                             0                           1   \n437954                             0                           1   \n437955                             0                           1   \n437956                             0                           1   \n437957                             0                           1   \n437958                             0                           1   \n437959                             0                           1   \n437960                             0                           1   \n437961                             0                           1   \n437962                             0                           1   \n437963                             0                           1   \n437964                             0                           1   \n437965                             0                           1   \n437966                             0                           1   \n437967                             0                           1   \n437968                             0                           1   \n437969                             0                           1   \n437970                             0                           1   \n437971                             0                           1   \n437972                             0                           1   \n437973                             0                           1   \n437974                             0                           1   \n437975                             0                           1   \n437976                             0                           0   \n437977                             0                           0   \n437978                             0                           0   \n437979                             0                           0   \n437980                             0                           0   \n437981                             0                           0   \n437982                             0                           0   \n437983                             0                           0   \n437984                             0                           0   \n437985                             0                           0   \n437986                             0                           0   \n437987                             0                           0   \n437988                             0                           0   \n437989                             0                           0   \n437990                             0                           0   \n437991                             0                           0   \n437992                             0                           0   \n437993                             0                           0   \n437994                             0                           0   \n437995                             0                           0   \n437996                             0                           0   \n437997                             0                           0   \n437998                             0                           0   \n437999                             0                           0   \n\n        Wiesau, Bf ANKUNFT  \n437952                   0  \n437953                   0  \n437954                   0  \n437955                   0  \n437956                   0  \n437957                   0  \n437958                   0  \n437959                   0  \n437960                   0  \n437961                   0  \n437962                   0  \n437963                   0  \n437964                   0  \n437965                   0  \n437966                   0  \n437967                   0  \n437968                   0  \n437969                   0  \n437970                   0  \n437971                   0  \n437972                   0  \n437973                   0  \n437974                   0  \n437975                   0  \n437976                   1  \n437977                   1  \n437978                   1  \n437979                   1  \n437980                   1  \n437981                   1  \n437982                   1  \n437983                   1  \n437984                   1  \n437985                   1  \n437986                   1  \n437987                   1  \n437988                   1  \n437989                   1  \n437990                   1  \n437991                   1  \n437992                   1  \n437993                   1  \n437994                   1  \n437995                   1  \n437996                   1  \n437997                   1  \n437998                   1  \n437999                   1  \n\n[48 rows x 55 columns]",
      "text/html": "<div>\n<style scoped>\n    .dataframe tbody tr th:only-of-type {\n        vertical-align: middle;\n    }\n\n    .dataframe tbody tr th {\n        vertical-align: top;\n    }\n\n    .dataframe thead th {\n        text-align: right;\n    }\n</style>\n<table border=\"1\" class=\"dataframe\">\n  <thead>\n    <tr style=\"text-align: right;\">\n      <th></th>\n      <th>date</th>\n      <th>EZone</th>\n      <th>hour</th>\n      <th>Passengers</th>\n      <th>class</th>\n      <th>Brand, Ort</th>\n      <th>Bärnau, Marktplatz</th>\n      <th>Deggendorf, Busbahnhof</th>\n      <th>Deggendorf, Hauptbahnhof</th>\n      <th>Deggendorf, Stadtplatz</th>\n      <th>...</th>\n      <th>Tirschenreuth, ZOB Großparkplatz</th>\n      <th>Tittling, Marktplatz</th>\n      <th>Viechtach, Bahnhof/ZOB</th>\n      <th>Viechtach, Schmidstraße/Edeka</th>\n      <th>Viechtach, Stadtplatz</th>\n      <th>Vilshofen, Bahnhof</th>\n      <th>Vilshofen, Stadtplatz</th>\n      <th>Waldsassen, J.-Wiesneth-Str.</th>\n      <th>Waldsassen, Schützenstraße</th>\n      <th>Wiesau, Bf ANKUNFT</th>\n    </tr>\n  </thead>\n  <tbody>\n    <tr>\n      <th>437952</th>\n      <td>2019-12-31 00:00:00</td>\n      <td>Waldsassen, Schützenstraße</td>\n      <td>0</td>\n      <td>0.0</td>\n      <td>0</td>\n      <td>0</td>\n      <td>0</td>\n      <td>0</td>\n      <td>0</td>\n      <td>0</td>\n      <td>...</td>\n      <td>0</td>\n      <td>0</td>\n      <td>0</td>\n      <td>0</td>\n      <td>0</td>\n      <td>0</td>\n      <td>0</td>\n      <td>0</td>\n      <td>1</td>\n      <td>0</td>\n    </tr>\n    <tr>\n      <th>437953</th>\n      <td>2019-12-31 01:00:00</td>\n      <td>Waldsassen, Schützenstraße</td>\n      <td>1</td>\n      <td>0.0</td>\n      <td>0</td>\n      <td>0</td>\n      <td>0</td>\n      <td>0</td>\n      <td>0</td>\n      <td>0</td>\n      <td>...</td>\n      <td>0</td>\n      <td>0</td>\n      <td>0</td>\n      <td>0</td>\n      <td>0</td>\n      <td>0</td>\n      <td>0</td>\n      <td>0</td>\n      <td>1</td>\n      <td>0</td>\n    </tr>\n    <tr>\n      <th>437954</th>\n      <td>2019-12-31 02:00:00</td>\n      <td>Waldsassen, Schützenstraße</td>\n      <td>2</td>\n      <td>0.0</td>\n      <td>0</td>\n      <td>0</td>\n      <td>0</td>\n      <td>0</td>\n      <td>0</td>\n      <td>0</td>\n      <td>...</td>\n      <td>0</td>\n      <td>0</td>\n      <td>0</td>\n      <td>0</td>\n      <td>0</td>\n      <td>0</td>\n      <td>0</td>\n      <td>0</td>\n      <td>1</td>\n      <td>0</td>\n    </tr>\n    <tr>\n      <th>437955</th>\n      <td>2019-12-31 03:00:00</td>\n      <td>Waldsassen, Schützenstraße</td>\n      <td>3</td>\n      <td>0.0</td>\n      <td>0</td>\n      <td>0</td>\n      <td>0</td>\n      <td>0</td>\n      <td>0</td>\n      <td>0</td>\n      <td>...</td>\n      <td>0</td>\n      <td>0</td>\n      <td>0</td>\n      <td>0</td>\n      <td>0</td>\n      <td>0</td>\n      <td>0</td>\n      <td>0</td>\n      <td>1</td>\n      <td>0</td>\n    </tr>\n    <tr>\n      <th>437956</th>\n      <td>2019-12-31 04:00:00</td>\n      <td>Waldsassen, Schützenstraße</td>\n      <td>4</td>\n      <td>0.0</td>\n      <td>0</td>\n      <td>0</td>\n      <td>0</td>\n      <td>0</td>\n      <td>0</td>\n      <td>0</td>\n      <td>...</td>\n      <td>0</td>\n      <td>0</td>\n      <td>0</td>\n      <td>0</td>\n      <td>0</td>\n      <td>0</td>\n      <td>0</td>\n      <td>0</td>\n      <td>1</td>\n      <td>0</td>\n    </tr>\n    <tr>\n      <th>437957</th>\n      <td>2019-12-31 05:00:00</td>\n      <td>Waldsassen, Schützenstraße</td>\n      <td>5</td>\n      <td>0.0</td>\n      <td>0</td>\n      <td>0</td>\n      <td>0</td>\n      <td>0</td>\n      <td>0</td>\n      <td>0</td>\n      <td>...</td>\n      <td>0</td>\n      <td>0</td>\n      <td>0</td>\n      <td>0</td>\n      <td>0</td>\n      <td>0</td>\n      <td>0</td>\n      <td>0</td>\n      <td>1</td>\n      <td>0</td>\n    </tr>\n    <tr>\n      <th>437958</th>\n      <td>2019-12-31 06:00:00</td>\n      <td>Waldsassen, Schützenstraße</td>\n      <td>6</td>\n      <td>0.0</td>\n      <td>0</td>\n      <td>0</td>\n      <td>0</td>\n      <td>0</td>\n      <td>0</td>\n      <td>0</td>\n      <td>...</td>\n      <td>0</td>\n      <td>0</td>\n      <td>0</td>\n      <td>0</td>\n      <td>0</td>\n      <td>0</td>\n      <td>0</td>\n      <td>0</td>\n      <td>1</td>\n      <td>0</td>\n    </tr>\n    <tr>\n      <th>437959</th>\n      <td>2019-12-31 07:00:00</td>\n      <td>Waldsassen, Schützenstraße</td>\n      <td>7</td>\n      <td>0.0</td>\n      <td>0</td>\n      <td>0</td>\n      <td>0</td>\n      <td>0</td>\n      <td>0</td>\n      <td>0</td>\n      <td>...</td>\n      <td>0</td>\n      <td>0</td>\n      <td>0</td>\n      <td>0</td>\n      <td>0</td>\n      <td>0</td>\n      <td>0</td>\n      <td>0</td>\n      <td>1</td>\n      <td>0</td>\n    </tr>\n    <tr>\n      <th>437960</th>\n      <td>2019-12-31 08:00:00</td>\n      <td>Waldsassen, Schützenstraße</td>\n      <td>8</td>\n      <td>1.0</td>\n      <td>1</td>\n      <td>0</td>\n      <td>0</td>\n      <td>0</td>\n      <td>0</td>\n      <td>0</td>\n      <td>...</td>\n      <td>0</td>\n      <td>0</td>\n      <td>0</td>\n      <td>0</td>\n      <td>0</td>\n      <td>0</td>\n      <td>0</td>\n      <td>0</td>\n      <td>1</td>\n      <td>0</td>\n    </tr>\n    <tr>\n      <th>437961</th>\n      <td>2019-12-31 09:00:00</td>\n      <td>Waldsassen, Schützenstraße</td>\n      <td>9</td>\n      <td>1.0</td>\n      <td>1</td>\n      <td>0</td>\n      <td>0</td>\n      <td>0</td>\n      <td>0</td>\n      <td>0</td>\n      <td>...</td>\n      <td>0</td>\n      <td>0</td>\n      <td>0</td>\n      <td>0</td>\n      <td>0</td>\n      <td>0</td>\n      <td>0</td>\n      <td>0</td>\n      <td>1</td>\n      <td>0</td>\n    </tr>\n    <tr>\n      <th>437962</th>\n      <td>2019-12-31 10:00:00</td>\n      <td>Waldsassen, Schützenstraße</td>\n      <td>10</td>\n      <td>0.0</td>\n      <td>0</td>\n      <td>0</td>\n      <td>0</td>\n      <td>0</td>\n      <td>0</td>\n      <td>0</td>\n      <td>...</td>\n      <td>0</td>\n      <td>0</td>\n      <td>0</td>\n      <td>0</td>\n      <td>0</td>\n      <td>0</td>\n      <td>0</td>\n      <td>0</td>\n      <td>1</td>\n      <td>0</td>\n    </tr>\n    <tr>\n      <th>437963</th>\n      <td>2019-12-31 11:00:00</td>\n      <td>Waldsassen, Schützenstraße</td>\n      <td>11</td>\n      <td>0.0</td>\n      <td>0</td>\n      <td>0</td>\n      <td>0</td>\n      <td>0</td>\n      <td>0</td>\n      <td>0</td>\n      <td>...</td>\n      <td>0</td>\n      <td>0</td>\n      <td>0</td>\n      <td>0</td>\n      <td>0</td>\n      <td>0</td>\n      <td>0</td>\n      <td>0</td>\n      <td>1</td>\n      <td>0</td>\n    </tr>\n    <tr>\n      <th>437964</th>\n      <td>2019-12-31 12:00:00</td>\n      <td>Waldsassen, Schützenstraße</td>\n      <td>12</td>\n      <td>0.0</td>\n      <td>0</td>\n      <td>0</td>\n      <td>0</td>\n      <td>0</td>\n      <td>0</td>\n      <td>0</td>\n      <td>...</td>\n      <td>0</td>\n      <td>0</td>\n      <td>0</td>\n      <td>0</td>\n      <td>0</td>\n      <td>0</td>\n      <td>0</td>\n      <td>0</td>\n      <td>1</td>\n      <td>0</td>\n    </tr>\n    <tr>\n      <th>437965</th>\n      <td>2019-12-31 13:00:00</td>\n      <td>Waldsassen, Schützenstraße</td>\n      <td>13</td>\n      <td>0.0</td>\n      <td>0</td>\n      <td>0</td>\n      <td>0</td>\n      <td>0</td>\n      <td>0</td>\n      <td>0</td>\n      <td>...</td>\n      <td>0</td>\n      <td>0</td>\n      <td>0</td>\n      <td>0</td>\n      <td>0</td>\n      <td>0</td>\n      <td>0</td>\n      <td>0</td>\n      <td>1</td>\n      <td>0</td>\n    </tr>\n    <tr>\n      <th>437966</th>\n      <td>2019-12-31 14:00:00</td>\n      <td>Waldsassen, Schützenstraße</td>\n      <td>14</td>\n      <td>0.0</td>\n      <td>0</td>\n      <td>0</td>\n      <td>0</td>\n      <td>0</td>\n      <td>0</td>\n      <td>0</td>\n      <td>...</td>\n      <td>0</td>\n      <td>0</td>\n      <td>0</td>\n      <td>0</td>\n      <td>0</td>\n      <td>0</td>\n      <td>0</td>\n      <td>0</td>\n      <td>1</td>\n      <td>0</td>\n    </tr>\n    <tr>\n      <th>437967</th>\n      <td>2019-12-31 15:00:00</td>\n      <td>Waldsassen, Schützenstraße</td>\n      <td>15</td>\n      <td>0.0</td>\n      <td>0</td>\n      <td>0</td>\n      <td>0</td>\n      <td>0</td>\n      <td>0</td>\n      <td>0</td>\n      <td>...</td>\n      <td>0</td>\n      <td>0</td>\n      <td>0</td>\n      <td>0</td>\n      <td>0</td>\n      <td>0</td>\n      <td>0</td>\n      <td>0</td>\n      <td>1</td>\n      <td>0</td>\n    </tr>\n    <tr>\n      <th>437968</th>\n      <td>2019-12-31 16:00:00</td>\n      <td>Waldsassen, Schützenstraße</td>\n      <td>16</td>\n      <td>0.0</td>\n      <td>0</td>\n      <td>0</td>\n      <td>0</td>\n      <td>0</td>\n      <td>0</td>\n      <td>0</td>\n      <td>...</td>\n      <td>0</td>\n      <td>0</td>\n      <td>0</td>\n      <td>0</td>\n      <td>0</td>\n      <td>0</td>\n      <td>0</td>\n      <td>0</td>\n      <td>1</td>\n      <td>0</td>\n    </tr>\n    <tr>\n      <th>437969</th>\n      <td>2019-12-31 17:00:00</td>\n      <td>Waldsassen, Schützenstraße</td>\n      <td>17</td>\n      <td>0.0</td>\n      <td>0</td>\n      <td>0</td>\n      <td>0</td>\n      <td>0</td>\n      <td>0</td>\n      <td>0</td>\n      <td>...</td>\n      <td>0</td>\n      <td>0</td>\n      <td>0</td>\n      <td>0</td>\n      <td>0</td>\n      <td>0</td>\n      <td>0</td>\n      <td>0</td>\n      <td>1</td>\n      <td>0</td>\n    </tr>\n    <tr>\n      <th>437970</th>\n      <td>2019-12-31 18:00:00</td>\n      <td>Waldsassen, Schützenstraße</td>\n      <td>18</td>\n      <td>0.0</td>\n      <td>0</td>\n      <td>0</td>\n      <td>0</td>\n      <td>0</td>\n      <td>0</td>\n      <td>0</td>\n      <td>...</td>\n      <td>0</td>\n      <td>0</td>\n      <td>0</td>\n      <td>0</td>\n      <td>0</td>\n      <td>0</td>\n      <td>0</td>\n      <td>0</td>\n      <td>1</td>\n      <td>0</td>\n    </tr>\n    <tr>\n      <th>437971</th>\n      <td>2019-12-31 19:00:00</td>\n      <td>Waldsassen, Schützenstraße</td>\n      <td>19</td>\n      <td>0.0</td>\n      <td>0</td>\n      <td>0</td>\n      <td>0</td>\n      <td>0</td>\n      <td>0</td>\n      <td>0</td>\n      <td>...</td>\n      <td>0</td>\n      <td>0</td>\n      <td>0</td>\n      <td>0</td>\n      <td>0</td>\n      <td>0</td>\n      <td>0</td>\n      <td>0</td>\n      <td>1</td>\n      <td>0</td>\n    </tr>\n    <tr>\n      <th>437972</th>\n      <td>2019-12-31 20:00:00</td>\n      <td>Waldsassen, Schützenstraße</td>\n      <td>20</td>\n      <td>0.0</td>\n      <td>0</td>\n      <td>0</td>\n      <td>0</td>\n      <td>0</td>\n      <td>0</td>\n      <td>0</td>\n      <td>...</td>\n      <td>0</td>\n      <td>0</td>\n      <td>0</td>\n      <td>0</td>\n      <td>0</td>\n      <td>0</td>\n      <td>0</td>\n      <td>0</td>\n      <td>1</td>\n      <td>0</td>\n    </tr>\n    <tr>\n      <th>437973</th>\n      <td>2019-12-31 21:00:00</td>\n      <td>Waldsassen, Schützenstraße</td>\n      <td>21</td>\n      <td>0.0</td>\n      <td>0</td>\n      <td>0</td>\n      <td>0</td>\n      <td>0</td>\n      <td>0</td>\n      <td>0</td>\n      <td>...</td>\n      <td>0</td>\n      <td>0</td>\n      <td>0</td>\n      <td>0</td>\n      <td>0</td>\n      <td>0</td>\n      <td>0</td>\n      <td>0</td>\n      <td>1</td>\n      <td>0</td>\n    </tr>\n    <tr>\n      <th>437974</th>\n      <td>2019-12-31 22:00:00</td>\n      <td>Waldsassen, Schützenstraße</td>\n      <td>22</td>\n      <td>0.0</td>\n      <td>0</td>\n      <td>0</td>\n      <td>0</td>\n      <td>0</td>\n      <td>0</td>\n      <td>0</td>\n      <td>...</td>\n      <td>0</td>\n      <td>0</td>\n      <td>0</td>\n      <td>0</td>\n      <td>0</td>\n      <td>0</td>\n      <td>0</td>\n      <td>0</td>\n      <td>1</td>\n      <td>0</td>\n    </tr>\n    <tr>\n      <th>437975</th>\n      <td>2019-12-31 23:00:00</td>\n      <td>Waldsassen, Schützenstraße</td>\n      <td>23</td>\n      <td>0.0</td>\n      <td>0</td>\n      <td>0</td>\n      <td>0</td>\n      <td>0</td>\n      <td>0</td>\n      <td>0</td>\n      <td>...</td>\n      <td>0</td>\n      <td>0</td>\n      <td>0</td>\n      <td>0</td>\n      <td>0</td>\n      <td>0</td>\n      <td>0</td>\n      <td>0</td>\n      <td>1</td>\n      <td>0</td>\n    </tr>\n    <tr>\n      <th>437976</th>\n      <td>2019-12-31 00:00:00</td>\n      <td>Wiesau, Bf ANKUNFT</td>\n      <td>0</td>\n      <td>0.0</td>\n      <td>0</td>\n      <td>0</td>\n      <td>0</td>\n      <td>0</td>\n      <td>0</td>\n      <td>0</td>\n      <td>...</td>\n      <td>0</td>\n      <td>0</td>\n      <td>0</td>\n      <td>0</td>\n      <td>0</td>\n      <td>0</td>\n      <td>0</td>\n      <td>0</td>\n      <td>0</td>\n      <td>1</td>\n    </tr>\n    <tr>\n      <th>437977</th>\n      <td>2019-12-31 01:00:00</td>\n      <td>Wiesau, Bf ANKUNFT</td>\n      <td>1</td>\n      <td>0.0</td>\n      <td>0</td>\n      <td>0</td>\n      <td>0</td>\n      <td>0</td>\n      <td>0</td>\n      <td>0</td>\n      <td>...</td>\n      <td>0</td>\n      <td>0</td>\n      <td>0</td>\n      <td>0</td>\n      <td>0</td>\n      <td>0</td>\n      <td>0</td>\n      <td>0</td>\n      <td>0</td>\n      <td>1</td>\n    </tr>\n    <tr>\n      <th>437978</th>\n      <td>2019-12-31 02:00:00</td>\n      <td>Wiesau, Bf ANKUNFT</td>\n      <td>2</td>\n      <td>0.0</td>\n      <td>0</td>\n      <td>0</td>\n      <td>0</td>\n      <td>0</td>\n      <td>0</td>\n      <td>0</td>\n      <td>...</td>\n      <td>0</td>\n      <td>0</td>\n      <td>0</td>\n      <td>0</td>\n      <td>0</td>\n      <td>0</td>\n      <td>0</td>\n      <td>0</td>\n      <td>0</td>\n      <td>1</td>\n    </tr>\n    <tr>\n      <th>437979</th>\n      <td>2019-12-31 03:00:00</td>\n      <td>Wiesau, Bf ANKUNFT</td>\n      <td>3</td>\n      <td>0.0</td>\n      <td>0</td>\n      <td>0</td>\n      <td>0</td>\n      <td>0</td>\n      <td>0</td>\n      <td>0</td>\n      <td>...</td>\n      <td>0</td>\n      <td>0</td>\n      <td>0</td>\n      <td>0</td>\n      <td>0</td>\n      <td>0</td>\n      <td>0</td>\n      <td>0</td>\n      <td>0</td>\n      <td>1</td>\n    </tr>\n    <tr>\n      <th>437980</th>\n      <td>2019-12-31 04:00:00</td>\n      <td>Wiesau, Bf ANKUNFT</td>\n      <td>4</td>\n      <td>0.0</td>\n      <td>0</td>\n      <td>0</td>\n      <td>0</td>\n      <td>0</td>\n      <td>0</td>\n      <td>0</td>\n      <td>...</td>\n      <td>0</td>\n      <td>0</td>\n      <td>0</td>\n      <td>0</td>\n      <td>0</td>\n      <td>0</td>\n      <td>0</td>\n      <td>0</td>\n      <td>0</td>\n      <td>1</td>\n    </tr>\n    <tr>\n      <th>437981</th>\n      <td>2019-12-31 05:00:00</td>\n      <td>Wiesau, Bf ANKUNFT</td>\n      <td>5</td>\n      <td>0.0</td>\n      <td>0</td>\n      <td>0</td>\n      <td>0</td>\n      <td>0</td>\n      <td>0</td>\n      <td>0</td>\n      <td>...</td>\n      <td>0</td>\n      <td>0</td>\n      <td>0</td>\n      <td>0</td>\n      <td>0</td>\n      <td>0</td>\n      <td>0</td>\n      <td>0</td>\n      <td>0</td>\n      <td>1</td>\n    </tr>\n    <tr>\n      <th>437982</th>\n      <td>2019-12-31 06:00:00</td>\n      <td>Wiesau, Bf ANKUNFT</td>\n      <td>6</td>\n      <td>0.0</td>\n      <td>0</td>\n      <td>0</td>\n      <td>0</td>\n      <td>0</td>\n      <td>0</td>\n      <td>0</td>\n      <td>...</td>\n      <td>0</td>\n      <td>0</td>\n      <td>0</td>\n      <td>0</td>\n      <td>0</td>\n      <td>0</td>\n      <td>0</td>\n      <td>0</td>\n      <td>0</td>\n      <td>1</td>\n    </tr>\n    <tr>\n      <th>437983</th>\n      <td>2019-12-31 07:00:00</td>\n      <td>Wiesau, Bf ANKUNFT</td>\n      <td>7</td>\n      <td>0.0</td>\n      <td>0</td>\n      <td>0</td>\n      <td>0</td>\n      <td>0</td>\n      <td>0</td>\n      <td>0</td>\n      <td>...</td>\n      <td>0</td>\n      <td>0</td>\n      <td>0</td>\n      <td>0</td>\n      <td>0</td>\n      <td>0</td>\n      <td>0</td>\n      <td>0</td>\n      <td>0</td>\n      <td>1</td>\n    </tr>\n    <tr>\n      <th>437984</th>\n      <td>2019-12-31 08:00:00</td>\n      <td>Wiesau, Bf ANKUNFT</td>\n      <td>8</td>\n      <td>0.0</td>\n      <td>0</td>\n      <td>0</td>\n      <td>0</td>\n      <td>0</td>\n      <td>0</td>\n      <td>0</td>\n      <td>...</td>\n      <td>0</td>\n      <td>0</td>\n      <td>0</td>\n      <td>0</td>\n      <td>0</td>\n      <td>0</td>\n      <td>0</td>\n      <td>0</td>\n      <td>0</td>\n      <td>1</td>\n    </tr>\n    <tr>\n      <th>437985</th>\n      <td>2019-12-31 09:00:00</td>\n      <td>Wiesau, Bf ANKUNFT</td>\n      <td>9</td>\n      <td>0.0</td>\n      <td>0</td>\n      <td>0</td>\n      <td>0</td>\n      <td>0</td>\n      <td>0</td>\n      <td>0</td>\n      <td>...</td>\n      <td>0</td>\n      <td>0</td>\n      <td>0</td>\n      <td>0</td>\n      <td>0</td>\n      <td>0</td>\n      <td>0</td>\n      <td>0</td>\n      <td>0</td>\n      <td>1</td>\n    </tr>\n    <tr>\n      <th>437986</th>\n      <td>2019-12-31 10:00:00</td>\n      <td>Wiesau, Bf ANKUNFT</td>\n      <td>10</td>\n      <td>0.0</td>\n      <td>0</td>\n      <td>0</td>\n      <td>0</td>\n      <td>0</td>\n      <td>0</td>\n      <td>0</td>\n      <td>...</td>\n      <td>0</td>\n      <td>0</td>\n      <td>0</td>\n      <td>0</td>\n      <td>0</td>\n      <td>0</td>\n      <td>0</td>\n      <td>0</td>\n      <td>0</td>\n      <td>1</td>\n    </tr>\n    <tr>\n      <th>437987</th>\n      <td>2019-12-31 11:00:00</td>\n      <td>Wiesau, Bf ANKUNFT</td>\n      <td>11</td>\n      <td>0.0</td>\n      <td>0</td>\n      <td>0</td>\n      <td>0</td>\n      <td>0</td>\n      <td>0</td>\n      <td>0</td>\n      <td>...</td>\n      <td>0</td>\n      <td>0</td>\n      <td>0</td>\n      <td>0</td>\n      <td>0</td>\n      <td>0</td>\n      <td>0</td>\n      <td>0</td>\n      <td>0</td>\n      <td>1</td>\n    </tr>\n    <tr>\n      <th>437988</th>\n      <td>2019-12-31 12:00:00</td>\n      <td>Wiesau, Bf ANKUNFT</td>\n      <td>12</td>\n      <td>0.0</td>\n      <td>0</td>\n      <td>0</td>\n      <td>0</td>\n      <td>0</td>\n      <td>0</td>\n      <td>0</td>\n      <td>...</td>\n      <td>0</td>\n      <td>0</td>\n      <td>0</td>\n      <td>0</td>\n      <td>0</td>\n      <td>0</td>\n      <td>0</td>\n      <td>0</td>\n      <td>0</td>\n      <td>1</td>\n    </tr>\n    <tr>\n      <th>437989</th>\n      <td>2019-12-31 13:00:00</td>\n      <td>Wiesau, Bf ANKUNFT</td>\n      <td>13</td>\n      <td>0.0</td>\n      <td>0</td>\n      <td>0</td>\n      <td>0</td>\n      <td>0</td>\n      <td>0</td>\n      <td>0</td>\n      <td>...</td>\n      <td>0</td>\n      <td>0</td>\n      <td>0</td>\n      <td>0</td>\n      <td>0</td>\n      <td>0</td>\n      <td>0</td>\n      <td>0</td>\n      <td>0</td>\n      <td>1</td>\n    </tr>\n    <tr>\n      <th>437990</th>\n      <td>2019-12-31 14:00:00</td>\n      <td>Wiesau, Bf ANKUNFT</td>\n      <td>14</td>\n      <td>0.0</td>\n      <td>0</td>\n      <td>0</td>\n      <td>0</td>\n      <td>0</td>\n      <td>0</td>\n      <td>0</td>\n      <td>...</td>\n      <td>0</td>\n      <td>0</td>\n      <td>0</td>\n      <td>0</td>\n      <td>0</td>\n      <td>0</td>\n      <td>0</td>\n      <td>0</td>\n      <td>0</td>\n      <td>1</td>\n    </tr>\n    <tr>\n      <th>437991</th>\n      <td>2019-12-31 15:00:00</td>\n      <td>Wiesau, Bf ANKUNFT</td>\n      <td>15</td>\n      <td>0.0</td>\n      <td>0</td>\n      <td>0</td>\n      <td>0</td>\n      <td>0</td>\n      <td>0</td>\n      <td>0</td>\n      <td>...</td>\n      <td>0</td>\n      <td>0</td>\n      <td>0</td>\n      <td>0</td>\n      <td>0</td>\n      <td>0</td>\n      <td>0</td>\n      <td>0</td>\n      <td>0</td>\n      <td>1</td>\n    </tr>\n    <tr>\n      <th>437992</th>\n      <td>2019-12-31 16:00:00</td>\n      <td>Wiesau, Bf ANKUNFT</td>\n      <td>16</td>\n      <td>0.0</td>\n      <td>0</td>\n      <td>0</td>\n      <td>0</td>\n      <td>0</td>\n      <td>0</td>\n      <td>0</td>\n      <td>...</td>\n      <td>0</td>\n      <td>0</td>\n      <td>0</td>\n      <td>0</td>\n      <td>0</td>\n      <td>0</td>\n      <td>0</td>\n      <td>0</td>\n      <td>0</td>\n      <td>1</td>\n    </tr>\n    <tr>\n      <th>437993</th>\n      <td>2019-12-31 17:00:00</td>\n      <td>Wiesau, Bf ANKUNFT</td>\n      <td>17</td>\n      <td>0.0</td>\n      <td>0</td>\n      <td>0</td>\n      <td>0</td>\n      <td>0</td>\n      <td>0</td>\n      <td>0</td>\n      <td>...</td>\n      <td>0</td>\n      <td>0</td>\n      <td>0</td>\n      <td>0</td>\n      <td>0</td>\n      <td>0</td>\n      <td>0</td>\n      <td>0</td>\n      <td>0</td>\n      <td>1</td>\n    </tr>\n    <tr>\n      <th>437994</th>\n      <td>2019-12-31 18:00:00</td>\n      <td>Wiesau, Bf ANKUNFT</td>\n      <td>18</td>\n      <td>0.0</td>\n      <td>0</td>\n      <td>0</td>\n      <td>0</td>\n      <td>0</td>\n      <td>0</td>\n      <td>0</td>\n      <td>...</td>\n      <td>0</td>\n      <td>0</td>\n      <td>0</td>\n      <td>0</td>\n      <td>0</td>\n      <td>0</td>\n      <td>0</td>\n      <td>0</td>\n      <td>0</td>\n      <td>1</td>\n    </tr>\n    <tr>\n      <th>437995</th>\n      <td>2019-12-31 19:00:00</td>\n      <td>Wiesau, Bf ANKUNFT</td>\n      <td>19</td>\n      <td>0.0</td>\n      <td>0</td>\n      <td>0</td>\n      <td>0</td>\n      <td>0</td>\n      <td>0</td>\n      <td>0</td>\n      <td>...</td>\n      <td>0</td>\n      <td>0</td>\n      <td>0</td>\n      <td>0</td>\n      <td>0</td>\n      <td>0</td>\n      <td>0</td>\n      <td>0</td>\n      <td>0</td>\n      <td>1</td>\n    </tr>\n    <tr>\n      <th>437996</th>\n      <td>2019-12-31 20:00:00</td>\n      <td>Wiesau, Bf ANKUNFT</td>\n      <td>20</td>\n      <td>0.0</td>\n      <td>0</td>\n      <td>0</td>\n      <td>0</td>\n      <td>0</td>\n      <td>0</td>\n      <td>0</td>\n      <td>...</td>\n      <td>0</td>\n      <td>0</td>\n      <td>0</td>\n      <td>0</td>\n      <td>0</td>\n      <td>0</td>\n      <td>0</td>\n      <td>0</td>\n      <td>0</td>\n      <td>1</td>\n    </tr>\n    <tr>\n      <th>437997</th>\n      <td>2019-12-31 21:00:00</td>\n      <td>Wiesau, Bf ANKUNFT</td>\n      <td>21</td>\n      <td>0.0</td>\n      <td>0</td>\n      <td>0</td>\n      <td>0</td>\n      <td>0</td>\n      <td>0</td>\n      <td>0</td>\n      <td>...</td>\n      <td>0</td>\n      <td>0</td>\n      <td>0</td>\n      <td>0</td>\n      <td>0</td>\n      <td>0</td>\n      <td>0</td>\n      <td>0</td>\n      <td>0</td>\n      <td>1</td>\n    </tr>\n    <tr>\n      <th>437998</th>\n      <td>2019-12-31 22:00:00</td>\n      <td>Wiesau, Bf ANKUNFT</td>\n      <td>22</td>\n      <td>0.0</td>\n      <td>0</td>\n      <td>0</td>\n      <td>0</td>\n      <td>0</td>\n      <td>0</td>\n      <td>0</td>\n      <td>...</td>\n      <td>0</td>\n      <td>0</td>\n      <td>0</td>\n      <td>0</td>\n      <td>0</td>\n      <td>0</td>\n      <td>0</td>\n      <td>0</td>\n      <td>0</td>\n      <td>1</td>\n    </tr>\n    <tr>\n      <th>437999</th>\n      <td>2019-12-31 23:00:00</td>\n      <td>Wiesau, Bf ANKUNFT</td>\n      <td>23</td>\n      <td>0.0</td>\n      <td>0</td>\n      <td>0</td>\n      <td>0</td>\n      <td>0</td>\n      <td>0</td>\n      <td>0</td>\n      <td>...</td>\n      <td>0</td>\n      <td>0</td>\n      <td>0</td>\n      <td>0</td>\n      <td>0</td>\n      <td>0</td>\n      <td>0</td>\n      <td>0</td>\n      <td>0</td>\n      <td>1</td>\n    </tr>\n  </tbody>\n</table>\n<p>48 rows × 55 columns</p>\n</div>"
     },
     "execution_count": 16,
     "metadata": {},
     "output_type": "execute_result"
    }
   ],
   "source": [
    "ond_df.tail(48)"
   ],
   "metadata": {
    "collapsed": false,
    "pycharm": {
     "name": "#%%\n"
    }
   }
  },
  {
   "cell_type": "markdown",
   "source": [
    "# Include WDW as Feature"
   ],
   "metadata": {
    "collapsed": false,
    "pycharm": {
     "name": "#%% md\n"
    }
   }
  },
  {
   "cell_type": "code",
   "execution_count": 17,
   "outputs": [],
   "source": [
    "def drop_rows(from_place,df):\n",
    "    return df.drop(df[df['from_place']==from_place].index.values)\n",
    "\n",
    "def sanitize_specific_rows(row,org_from_place,new_from_place):\n",
    "    if row['from_place'] == org_from_place:\n",
    "        row['from_place']=new_from_place\n",
    "\n",
    "    return row\n",
    "\n",
    "def sanitize_wdw_orte(ort):\n",
    "    ort=str(ort)\n",
    "    ort=''.join([k for k in ort if not k.isdigit()])\n",
    "    ort=ort.strip()\n",
    "\n",
    "    return ort\n",
    "\n",
    "def split_ezones(df, splitter_func):\n",
    "    ezone_ort=[]\n",
    "    ezone_extra=[]\n",
    "\n",
    "    uniq_ezone=df['EZone'].unique().tolist()\n",
    "    for i in uniq_ezone:\n",
    "        splitted=splitter_func(i)\n",
    "\n",
    "        ezone_ort.append(splitted[0].strip())\n",
    "        ezone_extra.append(splitted[1].strip())\n",
    "\n",
    "    return pd.DataFrame(data={'Ort':ezone_ort,'Haltestelle':ezone_extra})\n",
    "\n",
    "def ond_splitter(ezone_str):\n",
    "\n",
    "    # Pattern: 'Hengersberg, Marktplatz'\n",
    "\n",
    "    res=[]\n",
    "    _ezone_str=ezone_str.split(',')\n",
    "\n",
    "    res.append(_ezone_str[0].strip())\n",
    "    if len(_ezone_str) > 1:\n",
    "        res.append(_ezone_str[1].strip())\n",
    "    else:\n",
    "        res.append('')\n",
    "\n",
    "    return res\n",
    "\n",
    "def reg_splitter(ezone_str):\n",
    "\n",
    "    # Pattern: '15964 - Salzweg, Außenstelle LRA'\n",
    "\n",
    "    res=[]\n",
    "    _ezone_str=ezone_str.split(',')\n",
    "    _ezone_str2=_ezone_str[0].split('-')\n",
    "\n",
    "    res.append(_ezone_str2[1].strip())\n",
    "    if len(_ezone_str) > 1:\n",
    "        res.append(_ezone_str[1].strip())\n",
    "    else:\n",
    "        res.append('')\n",
    "\n",
    "    return res\n",
    "\n",
    "def compare_orte(ort,uniq_ort_ist):\n",
    "    for i in uniq_ort_ist:\n",
    "        if i in ort:\n",
    "            return i\n",
    "\n",
    "    return None\n",
    "\n",
    "def create_wdw_feature_df(target_df,target_ezone_df,wdw_df):\n",
    "    fr=[]\n",
    "    hr=[]\n",
    "    date=[]\n",
    "    passes=[]\n",
    "    _date=[]\n",
    "    request=[]\n",
    "\n",
    "    not_useful_orte=[]\n",
    "\n",
    "    uniq_tra=wdw_df['travel_at'].unique()\n",
    "    uniq_orte=target_ezone_df['Ort'].unique().tolist()\n",
    "\n",
    "    for i in uniq_tra:\n",
    "        curr=wdw_df[wdw_df['travel_at']==i]\n",
    "        uniq_ezone=curr['from_place'].unique()\n",
    "\n",
    "        #Drecks pandas dtype python bullshit\n",
    "        _i=pd.to_datetime(i)\n",
    "\n",
    "        for i2 in uniq_ezone:\n",
    "\n",
    "            ort=compare_orte(i2,uniq_orte)\n",
    "\n",
    "            if ort is None and i2 not in not_useful_orte:\n",
    "                not_useful_orte.append(i2)\n",
    "\n",
    "            elif ort is not None:\n",
    "                _date.append(_i)\n",
    "                date.append(_i.floor('D'))\n",
    "                hr.append(_i.hour)\n",
    "\n",
    "                fr.append(ort)\n",
    "                curr_from=curr[curr['from_place']==i2]\n",
    "                request.append(curr_from.index.values)\n",
    "                passes.append(len(curr_from))\n",
    "\n",
    "    new_df=pd.DataFrame(data={'date':date,'EZone':fr,'hour':hr,'Passengers':passes,'orig_index':request,'_date':_date})\n",
    "\n",
    "    return new_df,not_useful_orte\n",
    "\n",
    "def create_helper_df(wdw_feature_df,wdw_df):\n",
    "    fr=[]\n",
    "    orig_from=[]\n",
    "    orig_to=[]\n",
    "    orig_indexes=[]\n",
    "\n",
    "    for i in range(len(wdw_feature_df)):\n",
    "        _orig_indexes=wdw_feature_df.iloc[i]['orig_index']\n",
    "        for i2 in range(len(_orig_indexes)):\n",
    "            orig_in=wdw_feature_df.iloc[i]['orig_index'][i2]\n",
    "            orig_indexes.append(orig_in)\n",
    "            orig_from.append(wdw_df.loc[wdw_df.index==orig_in]['from_place'].values)\n",
    "            orig_to.append(wdw_df.loc[wdw_df.index==orig_in]['to_place'].values)\n",
    "            fr.append(wdw_feature_df.iloc[i]['EZone'])\n",
    "\n",
    "    return pd.DataFrame(data={'orig_from_place':orig_from,'orig_to_place':orig_to,'Zugewiesene EZone':fr}), orig_indexes\n",
    "\n",
    "def print_ambigious_places(wdw_feature_df,target_ezone_df):\n",
    "    for i in wdw_feature_df['EZone'].unique():\n",
    "        halte=target_ezone_df[target_ezone_df['Ort']==i]['Haltestelle'].values\n",
    "        if len(halte) > 1:\n",
    "            print(str(i)+': '+str(halte))\n",
    "\n",
    "def append_feature(row, x_wdw_df,splitter):\n",
    "    ort=splitter(row['EZone'])[0]\n",
    "    x=x_wdw_df[(x_wdw_df['_date']==row['date']) & (x_wdw_df['EZone']==ort)]\n",
    "\n",
    "    p=0\n",
    "    for i in range(len(x)):\n",
    "        # Merge duplicates\n",
    "        p+=x.iloc[0]['Passengers']\n",
    "    row['wdw_feature']=p\n",
    "\n",
    "    return row"
   ],
   "metadata": {
    "collapsed": false,
    "pycharm": {
     "name": "#%%\n"
    }
   }
  },
  {
   "cell_type": "code",
   "execution_count": 19,
   "outputs": [],
   "source": [
    "wdw_df=pd.read_csv(base_path+'./wdw_queries.csv',sep=',')\n",
    "\n",
    "wdw_df['created_at']=pd.to_datetime(wdw_df['created_at'])\n",
    "wdw_df['travel_at']=pd.to_datetime(wdw_df['travel_at'])\n",
    "\n",
    "wdw_df['from_place']=wdw_df['from_place'].apply(lambda x: sanitize_wdw_orte(x))\n",
    "wdw_df['to_place']=wdw_df['to_place'].apply(lambda x: sanitize_wdw_orte(x))\n",
    "\n",
    "wdw_df['travel_at']=wdw_df['travel_at'].apply(lambda ta: ta.round('h'))\n",
    "wdw_df['created_at']=wdw_df['created_at'].apply(lambda ta: ta.round('h'))"
   ],
   "metadata": {
    "collapsed": false,
    "pycharm": {
     "name": "#%%\n"
    }
   }
  },
  {
   "cell_type": "code",
   "execution_count": 20,
   "outputs": [],
   "source": [
    "# Clean some not useful stations\n",
    "wdw_df=drop_rows('Illertissen - Tiefenbach',wdw_df)\n",
    "wdw_df=drop_rows('Regensburg',wdw_df)\n",
    "wdw_df=drop_rows('Hofkirchen',wdw_df)\n",
    "wdw_df=wdw_df.apply(lambda row: sanitize_specific_rows(row,'Tiefenbach (Kreis Passau)','Tiefenbach'),axis=1)"
   ],
   "metadata": {
    "collapsed": false,
    "pycharm": {
     "name": "#%%\n"
    }
   }
  },
  {
   "cell_type": "code",
   "execution_count": 21,
   "outputs": [],
   "source": [
    "ond_ezones_df=split_ezones(ond_df,ond_splitter)\n",
    "reg_ezones_df=split_ezones(reg_df,reg_splitter)"
   ],
   "metadata": {
    "collapsed": false,
    "pycharm": {
     "name": "#%%\n"
    }
   }
  },
  {
   "cell_type": "code",
   "execution_count": 22,
   "outputs": [],
   "source": [
    "reg_wdw_df,reg_wdw_notuseful_orte=create_wdw_feature_df(reg_df,reg_ezones_df,wdw_df)\n",
    "ond_wdw_df,ond_wdw_notuseful_orte=create_wdw_feature_df(ond_df,ond_ezones_df,wdw_df)"
   ],
   "metadata": {
    "collapsed": false,
    "pycharm": {
     "name": "#%%\n"
    }
   }
  },
  {
   "cell_type": "code",
   "execution_count": 23,
   "outputs": [],
   "source": [
    "reg_wdw_kontroll_df,reg_wdw_indexes=create_helper_df(reg_wdw_df,wdw_df)\n",
    "ond_wdw_kontroll_df,ond_wdw_indexes=create_helper_df(ond_wdw_df,wdw_df)"
   ],
   "metadata": {
    "collapsed": false,
    "pycharm": {
     "name": "#%%\n"
    }
   }
  },
  {
   "cell_type": "code",
   "execution_count": 24,
   "outputs": [],
   "source": [
    "reg_df_with_feat=reg_df.copy()\n",
    "ond_df_with_feat=ond_df.copy()"
   ],
   "metadata": {
    "collapsed": false,
    "pycharm": {
     "name": "#%%\n"
    }
   }
  },
  {
   "cell_type": "code",
   "execution_count": 25,
   "outputs": [],
   "source": [
    "reg_df_with_feat['wdw_feature']=0\n",
    "ond_df_with_feat['wdw_feature']=0"
   ],
   "metadata": {
    "collapsed": false,
    "pycharm": {
     "name": "#%%\n"
    }
   }
  },
  {
   "cell_type": "code",
   "execution_count": 26,
   "outputs": [],
   "source": [
    "reg_df_with_feat=reg_df_with_feat.apply(lambda row: append_feature(row,reg_wdw_df,reg_splitter),axis=1)\n",
    "ond_df_with_feat=ond_df_with_feat.apply(lambda row: append_feature(row,ond_wdw_df,ond_splitter),axis=1)"
   ],
   "metadata": {
    "collapsed": false,
    "pycharm": {
     "name": "#%%\n"
    }
   }
  },
  {
   "cell_type": "markdown",
   "source": [
    "# Result (WDW Feature)\n",
    "\n",
    "## Regular Travel:\n",
    "\n",
    "### Nutzbare Orte:"
   ],
   "metadata": {
    "collapsed": false,
    "pycharm": {
     "name": "#%% md\n"
    }
   }
  },
  {
   "cell_type": "code",
   "execution_count": 27,
   "outputs": [
    {
     "data": {
      "text/plain": "array(['Passau', 'Salzweg', 'Wegscheid', 'Hutthurm', 'Tittling',\n       'Untergriesbach', 'Neuhaus a. Inn', 'Tiefenbach', 'Fürstenzell',\n       'Obernzell', 'Büchlberg', 'Aldersbach', 'Vilshofen', 'Ruderting',\n       'Thyrnau', 'Bad Füssing', 'Ortenburg', 'Pocking', 'Aidenbach',\n       'Bad Griesbach', 'Hauzenberg', 'Breitenberg', 'Straßkirchen',\n       'Dommelstadl', 'Erlau'], dtype=object)"
     },
     "execution_count": 27,
     "metadata": {},
     "output_type": "execute_result"
    }
   ],
   "source": [
    "reg_wdw_df['EZone'].unique()"
   ],
   "metadata": {
    "collapsed": false,
    "pycharm": {
     "name": "#%%\n"
    }
   }
  },
  {
   "cell_type": "markdown",
   "source": [
    "### Unklare Haltestellen"
   ],
   "metadata": {
    "collapsed": false,
    "pycharm": {
     "name": "#%% md\n"
    }
   }
  },
  {
   "cell_type": "code",
   "execution_count": 28,
   "outputs": [
    {
     "name": "stdout",
     "output_type": "stream",
     "text": [
      "Passau: ['Hbf' 'Kl. Exerzierplatz' 'Am Schanzl(Busbucht)' 'Römerplatz'\n",
      " 'Nagelschmiedgasse' 'Rathaus' 'Am Schanzlturm' 'Lindau'\n",
      " 'Reisebüro Niedermayer']\n",
      "Salzweg: ['Außenstelle LRA' 'Rathaus' 'Postgasse']\n",
      "Tittling: ['Marktplatz' 'Eurospar']\n",
      "Fürstenzell: ['MVZ' 'Marktplatz']\n",
      "Obernzell: ['Abzw Bf' 'Marktplatz']\n",
      "Büchlberg: ['Post' 'BBW']\n",
      "Bad Füssing: ['Füssinger Hof' 'Kath. Kirche']\n",
      "Pocking: ['Bahnhof' 'Rathaus' 'Obi']\n",
      "Bad Griesbach: ['Stadtplatz' 'Parkhotel']\n",
      "Hauzenberg: ['Post' 'Abzw Schulstr.']\n"
     ]
    }
   ],
   "source": [
    "print_ambigious_places(reg_wdw_df,reg_ezones_df)"
   ],
   "metadata": {
    "collapsed": false,
    "pycharm": {
     "name": "#%%\n"
    }
   }
  },
  {
   "cell_type": "markdown",
   "source": [
    "### Überprüfung der Zuweisungen"
   ],
   "metadata": {
    "collapsed": false,
    "pycharm": {
     "name": "#%% md\n"
    }
   }
  },
  {
   "cell_type": "code",
   "execution_count": 29,
   "outputs": [
    {
     "data": {
      "text/plain": "                 orig_from_place                orig_to_place  \\\n3461   [Tiefenbach (Kreis Passa]                     [Passau]   \n3494   [Tiefenbach (Kreis Passa]                     [Passau]   \n3529   [Tiefenbach (Kreis Passa]                     [Passau]   \n3530   [Tiefenbach (Kreis Passa]                     [Passau]   \n3536   [Tiefenbach (Kreis Passa]                     [Passau]   \n...                          ...                          ...   \n20434         [Tiefenbach (Krei]  [Tiefenbach (Kreis Passau)]   \n20595         [Tiefenbach (Krei]  [Tiefenbach (Kreis Passau)]   \n20598         [Tiefenbach (Krei]  [Tiefenbach (Kreis Passau)]   \n20601         [Tiefenbach (Krei]  [Tiefenbach (Kreis Passau)]   \n20604         [Tiefenbach (Krei]  [Tiefenbach (Kreis Passau)]   \n\n      Zugewiesene EZone  \n3461         Tiefenbach  \n3494         Tiefenbach  \n3529         Tiefenbach  \n3530         Tiefenbach  \n3536         Tiefenbach  \n...                 ...  \n20434        Tiefenbach  \n20595        Tiefenbach  \n20598        Tiefenbach  \n20601        Tiefenbach  \n20604        Tiefenbach  \n\n[100 rows x 3 columns]",
      "text/html": "<div>\n<style scoped>\n    .dataframe tbody tr th:only-of-type {\n        vertical-align: middle;\n    }\n\n    .dataframe tbody tr th {\n        vertical-align: top;\n    }\n\n    .dataframe thead th {\n        text-align: right;\n    }\n</style>\n<table border=\"1\" class=\"dataframe\">\n  <thead>\n    <tr style=\"text-align: right;\">\n      <th></th>\n      <th>orig_from_place</th>\n      <th>orig_to_place</th>\n      <th>Zugewiesene EZone</th>\n    </tr>\n  </thead>\n  <tbody>\n    <tr>\n      <th>3461</th>\n      <td>[Tiefenbach (Kreis Passa]</td>\n      <td>[Passau]</td>\n      <td>Tiefenbach</td>\n    </tr>\n    <tr>\n      <th>3494</th>\n      <td>[Tiefenbach (Kreis Passa]</td>\n      <td>[Passau]</td>\n      <td>Tiefenbach</td>\n    </tr>\n    <tr>\n      <th>3529</th>\n      <td>[Tiefenbach (Kreis Passa]</td>\n      <td>[Passau]</td>\n      <td>Tiefenbach</td>\n    </tr>\n    <tr>\n      <th>3530</th>\n      <td>[Tiefenbach (Kreis Passa]</td>\n      <td>[Passau]</td>\n      <td>Tiefenbach</td>\n    </tr>\n    <tr>\n      <th>3536</th>\n      <td>[Tiefenbach (Kreis Passa]</td>\n      <td>[Passau]</td>\n      <td>Tiefenbach</td>\n    </tr>\n    <tr>\n      <th>...</th>\n      <td>...</td>\n      <td>...</td>\n      <td>...</td>\n    </tr>\n    <tr>\n      <th>20434</th>\n      <td>[Tiefenbach (Krei]</td>\n      <td>[Tiefenbach (Kreis Passau)]</td>\n      <td>Tiefenbach</td>\n    </tr>\n    <tr>\n      <th>20595</th>\n      <td>[Tiefenbach (Krei]</td>\n      <td>[Tiefenbach (Kreis Passau)]</td>\n      <td>Tiefenbach</td>\n    </tr>\n    <tr>\n      <th>20598</th>\n      <td>[Tiefenbach (Krei]</td>\n      <td>[Tiefenbach (Kreis Passau)]</td>\n      <td>Tiefenbach</td>\n    </tr>\n    <tr>\n      <th>20601</th>\n      <td>[Tiefenbach (Krei]</td>\n      <td>[Tiefenbach (Kreis Passau)]</td>\n      <td>Tiefenbach</td>\n    </tr>\n    <tr>\n      <th>20604</th>\n      <td>[Tiefenbach (Krei]</td>\n      <td>[Tiefenbach (Kreis Passau)]</td>\n      <td>Tiefenbach</td>\n    </tr>\n  </tbody>\n</table>\n<p>100 rows × 3 columns</p>\n</div>"
     },
     "execution_count": 29,
     "metadata": {},
     "output_type": "execute_result"
    }
   ],
   "source": [
    "# Passau -> Tiefenbach (Kreis Passau)\n",
    "# Tiefenbach -> Illertissen - Tiefenbach\n",
    "\n",
    "check_for='Tiefenbach'\n",
    "reg_wdw_kontroll_df[(reg_wdw_kontroll_df['Zugewiesene EZone']==check_for) & (reg_wdw_kontroll_df['orig_from_place']!=check_for)]"
   ],
   "metadata": {
    "collapsed": false,
    "pycharm": {
     "name": "#%%\n"
    }
   }
  },
  {
   "cell_type": "markdown",
   "source": [
    "### Nicht nutzbare Orte"
   ],
   "metadata": {
    "collapsed": false,
    "pycharm": {
     "name": "#%% md\n"
    }
   }
  },
  {
   "cell_type": "code",
   "execution_count": 30,
   "outputs": [
    {
     "data": {
      "text/plain": "['nan',\n 'Neuburg am Inn - Neukirchen am Inn',\n 'Witzmannsberg',\n 'Windorf',\n 'Neuburg a. Inn',\n 'Holle',\n 'Neuburg am Inn',\n 'Cuxhaven',\n 'Ruhstorf an der Rott',\n 'Neukirchen vorm Wald',\n 'Pfarrkirchen',\n 'Fürstenstein',\n 'Neuhaus am Inn',\n 'Ruhstorf a.d. Rott',\n 'Rotthalmünster',\n 'Kirchham',\n 'München',\n 'Bernhardswald',\n 'Dingolfing',\n 'Waldkirchen (Niederbayern)',\n 'Spiegelau',\n 'Bamberg',\n 'Plattling',\n 'Braunau am Inn - Tal',\n 'Erding',\n 'Neukirchen-Vluyn',\n 'Grafenau (Niederbayern)',\n 'Ruhstorf an der Rott - Schmidham',\n 'Oranienburg',\n 'Eging a. See',\n 'Leipzig',\n 'Luhe-Wildenau',\n 'Jandelsbrunn',\n 'Grünhainichen',\n 'Engelhartszell',\n 'Altensteig',\n 'Rathaus',\n 'Simbach a. Inn',\n 'Bad Lippspringe',\n 'Haan',\n 'Eging am See',\n 'Sömmerda',\n 'Titting',\n 'Bad Birnbach',\n 'Hamburg',\n 'Cham',\n 'Freising',\n 'Köln',\n 'Thurmansbang',\n 'Deggendorf',\n 'Nürnberg',\n 'Münster (Westf)',\n 'Roding',\n 'Rannungen',\n 'Osterhofen',\n 'Nettetal',\n 'Münnerstadt',\n 'Tettenweis',\n 'Leopoldshöhe',\n 'Innsbruck',\n 'Beutelsbach',\n 'Hammelburg',\n 'Bad Kissingen',\n 'Hengersberg',\n 'Bernried (Niederbayern)',\n 'Maßbach',\n 'Kirchham - Tutting',\n 'Schonungen',\n 'Malching',\n 'Kößlarn',\n 'Regen',\n 'Mühldorf a. Inn',\n 'Perlesreut',\n 'Büchl',\n 'Viechtach',\n 'Österreich',\n 'Zwiesel',\n 'Wien - . Bezirk-Margareten',\n 'Sylt',\n 'Bayerisch Eisenstein',\n 'Lindberg',\n 'Lohberg',\n 'Villingen-Schwenningen',\n 'Bayerbach - Sagmühle',\n 'Neukirchen b. Hl. Blut',\n 'Tann (Niederbayern)',\n 'Wurmannsquick',\n 'Eggenfelden',\n 'Landshut',\n 'Gangkofen',\n 'Augsburg (Bayern)',\n 'Ingolstadt',\n 'Schierling',\n 'Außernzell',\n 'Sonnen',\n 'Aicha vorm Wald',\n 'Moosburg an der Isar',\n 'Ergolding',\n 'Mannheim',\n 'Braunschweig',\n 'Ruhstorf an der Rott - Eholfing',\n 'Sulzemoos',\n 'Reisbach',\n 'Reisbach - Perastorf',\n 'Haarbach',\n 'Traitsching',\n 'Velden (Vils)',\n 'Reisbach - Failnbach',\n 'Gerolzhofen',\n 'Würzburg',\n 'Bayreuth',\n 'Miesbach',\n 'Murnau a. Staffelsee',\n 'Unterföhring',\n 'Landau an der Isar',\n 'Riedenburg',\n 'Landau a.d. Isar',\n 'Ramsau am Dachstein',\n 'Feucht',\n 'Kaufering',\n 'Kelheim',\n 'Wiesbaden',\n 'Winzer',\n 'Kolitzheim',\n 'Neuburg am Inn - Pfenningbach',\n 'Biebesheim am Rhein',\n 'Arnstorf',\n 'Obererthal',\n 'Weinstadt',\n 'Stendal',\n 'Schönau',\n 'Kiel',\n 'Erfurt',\n 'Wartmannsroth',\n 'Dietersburg',\n 'Thurmansbang - Solla',\n 'Paderborn',\n 'Malching - Nündorf',\n 'Grafenau',\n 'Linz',\n 'Hermeskeil']"
     },
     "execution_count": 30,
     "metadata": {},
     "output_type": "execute_result"
    }
   ],
   "source": [
    "reg_wdw_notuseful_orte"
   ],
   "metadata": {
    "collapsed": false,
    "pycharm": {
     "name": "#%%\n"
    }
   }
  },
  {
   "cell_type": "markdown",
   "source": [
    "### Überprüfen der nicht Zuweisungen"
   ],
   "metadata": {
    "collapsed": false,
    "pycharm": {
     "name": "#%% md\n"
    }
   }
  },
  {
   "cell_type": "code",
   "execution_count": 31,
   "outputs": [
    {
     "data": {
      "text/plain": "Empty DataFrame\nColumns: [created_at, travel_at, from_place, to_place]\nIndex: []",
      "text/html": "<div>\n<style scoped>\n    .dataframe tbody tr th:only-of-type {\n        vertical-align: middle;\n    }\n\n    .dataframe tbody tr th {\n        vertical-align: top;\n    }\n\n    .dataframe thead th {\n        text-align: right;\n    }\n</style>\n<table border=\"1\" class=\"dataframe\">\n  <thead>\n    <tr style=\"text-align: right;\">\n      <th></th>\n      <th>created_at</th>\n      <th>travel_at</th>\n      <th>from_place</th>\n      <th>to_place</th>\n    </tr>\n  </thead>\n  <tbody>\n  </tbody>\n</table>\n</div>"
     },
     "execution_count": 31,
     "metadata": {},
     "output_type": "execute_result"
    }
   ],
   "source": [
    "check_for=''\n",
    "wdw_df[(~wdw_df.index.isin(reg_wdw_indexes)) & (wdw_df.from_place==check_for)]"
   ],
   "metadata": {
    "collapsed": false,
    "pycharm": {
     "name": "#%%\n"
    }
   }
  },
  {
   "cell_type": "markdown",
   "source": [
    "### Merging"
   ],
   "metadata": {
    "collapsed": false,
    "pycharm": {
     "name": "#%% md\n"
    }
   }
  },
  {
   "cell_type": "code",
   "execution_count": 32,
   "outputs": [
    {
     "name": "stdout",
     "output_type": "stream",
     "text": [
      "42335\n",
      "11250\n"
     ]
    }
   ],
   "source": [
    "print(len(reg_df_with_feat[reg_df_with_feat['wdw_feature']>0]))\n",
    "print(len(reg_wdw_df))"
   ],
   "metadata": {
    "collapsed": false,
    "pycharm": {
     "name": "#%%\n"
    }
   }
  },
  {
   "cell_type": "markdown",
   "source": [
    "## On Demand Travel:\n",
    "\n",
    "### Nutzbare Orte:"
   ],
   "metadata": {
    "collapsed": false,
    "pycharm": {
     "name": "#%% md\n"
    }
   }
  },
  {
   "cell_type": "code",
   "execution_count": 33,
   "outputs": [
    {
     "data": {
      "text/plain": "array(['Tittling', 'Vilshofen', 'Fürstenstein', 'Pocking', 'Eging',\n       'Deggendorf', 'Hengersberg', 'Regen', 'Viechtach'], dtype=object)"
     },
     "execution_count": 33,
     "metadata": {},
     "output_type": "execute_result"
    }
   ],
   "source": [
    "ond_wdw_df['EZone'].unique()"
   ],
   "metadata": {
    "collapsed": false,
    "pycharm": {
     "name": "#%%\n"
    }
   }
  },
  {
   "cell_type": "markdown",
   "source": [
    "### Unklare Haltestellen"
   ],
   "metadata": {
    "collapsed": false,
    "pycharm": {
     "name": "#%% md\n"
    }
   }
  },
  {
   "cell_type": "code",
   "execution_count": 34,
   "outputs": [
    {
     "name": "stdout",
     "output_type": "stream",
     "text": [
      "Vilshofen: ['Bahnhof' 'Stadtplatz']\n",
      "Deggendorf: ['Busbahnhof' 'Hauptbahnhof' 'Stadtplatz']\n",
      "Viechtach: ['Bahnhof/ZOB' 'Schmidstraße/Edeka' 'Stadtplatz']\n"
     ]
    }
   ],
   "source": [
    "print_ambigious_places(ond_wdw_df,ond_ezones_df)"
   ],
   "metadata": {
    "collapsed": false,
    "pycharm": {
     "name": "#%%\n"
    }
   }
  },
  {
   "cell_type": "markdown",
   "source": [
    "### Überprüfung der Zuweisungen"
   ],
   "metadata": {
    "collapsed": false,
    "pycharm": {
     "name": "#%% md\n"
    }
   }
  },
  {
   "cell_type": "code",
   "execution_count": 35,
   "outputs": [
    {
     "data": {
      "text/plain": "     orig_from_place             orig_to_place Zugewiesene EZone\n640          [Regen]  [Vilshofen an der Donau]             Regen\n641          [Regen]  [Vilshofen an der Donau]             Regen\n642          [Regen]  [Vilshofen an der Donau]             Regen\n963          [Regen]                   [Regen]             Regen\n970          [Regen]                   [Regen]             Regen\n971          [Regen]                   [Regen]             Regen\n972          [Regen]                   [Regen]             Regen\n991          [Regen]                   [Regen]             Regen\n992          [Regen]                   [Regen]             Regen\n1056         [Regen]  [Vilshofen an der Donau]             Regen\n1057         [Regen]  [Vilshofen an der Donau]             Regen",
      "text/html": "<div>\n<style scoped>\n    .dataframe tbody tr th:only-of-type {\n        vertical-align: middle;\n    }\n\n    .dataframe tbody tr th {\n        vertical-align: top;\n    }\n\n    .dataframe thead th {\n        text-align: right;\n    }\n</style>\n<table border=\"1\" class=\"dataframe\">\n  <thead>\n    <tr style=\"text-align: right;\">\n      <th></th>\n      <th>orig_from_place</th>\n      <th>orig_to_place</th>\n      <th>Zugewiesene EZone</th>\n    </tr>\n  </thead>\n  <tbody>\n    <tr>\n      <th>640</th>\n      <td>[Regen]</td>\n      <td>[Vilshofen an der Donau]</td>\n      <td>Regen</td>\n    </tr>\n    <tr>\n      <th>641</th>\n      <td>[Regen]</td>\n      <td>[Vilshofen an der Donau]</td>\n      <td>Regen</td>\n    </tr>\n    <tr>\n      <th>642</th>\n      <td>[Regen]</td>\n      <td>[Vilshofen an der Donau]</td>\n      <td>Regen</td>\n    </tr>\n    <tr>\n      <th>963</th>\n      <td>[Regen]</td>\n      <td>[Regen]</td>\n      <td>Regen</td>\n    </tr>\n    <tr>\n      <th>970</th>\n      <td>[Regen]</td>\n      <td>[Regen]</td>\n      <td>Regen</td>\n    </tr>\n    <tr>\n      <th>971</th>\n      <td>[Regen]</td>\n      <td>[Regen]</td>\n      <td>Regen</td>\n    </tr>\n    <tr>\n      <th>972</th>\n      <td>[Regen]</td>\n      <td>[Regen]</td>\n      <td>Regen</td>\n    </tr>\n    <tr>\n      <th>991</th>\n      <td>[Regen]</td>\n      <td>[Regen]</td>\n      <td>Regen</td>\n    </tr>\n    <tr>\n      <th>992</th>\n      <td>[Regen]</td>\n      <td>[Regen]</td>\n      <td>Regen</td>\n    </tr>\n    <tr>\n      <th>1056</th>\n      <td>[Regen]</td>\n      <td>[Vilshofen an der Donau]</td>\n      <td>Regen</td>\n    </tr>\n    <tr>\n      <th>1057</th>\n      <td>[Regen]</td>\n      <td>[Vilshofen an der Donau]</td>\n      <td>Regen</td>\n    </tr>\n  </tbody>\n</table>\n</div>"
     },
     "execution_count": 35,
     "metadata": {},
     "output_type": "execute_result"
    }
   ],
   "source": [
    "# Regen -> Regensburg\n",
    "# Hof -> Hofkirchen\n",
    "\n",
    "check_for='Regen'\n",
    "ond_wdw_kontroll_df[ond_wdw_kontroll_df['Zugewiesene EZone']==check_for]"
   ],
   "metadata": {
    "collapsed": false,
    "pycharm": {
     "name": "#%%\n"
    }
   }
  },
  {
   "cell_type": "markdown",
   "source": [
    "### Nicht nutzbare Orte"
   ],
   "metadata": {
    "collapsed": false,
    "pycharm": {
     "name": "#%% md\n"
    }
   }
  },
  {
   "cell_type": "code",
   "execution_count": 36,
   "outputs": [
    {
     "data": {
      "text/plain": "['Passau',\n 'Salzweg',\n 'Wegscheid',\n 'nan',\n 'Hutthurm',\n 'Neuburg am Inn - Neukirchen am Inn',\n 'Witzmannsberg',\n 'Windorf',\n 'Neuburg a. Inn',\n 'Untergriesbach',\n 'Neuhaus a. Inn',\n 'Tiefenbach',\n 'Fürstenzell',\n 'Obernzell',\n 'Büchlberg',\n 'Holle',\n 'Aldersbach',\n 'Neuburg am Inn',\n 'Cuxhaven',\n 'Ruhstorf an der Rott',\n 'Ruderting',\n 'Thyrnau',\n 'Neukirchen vorm Wald',\n 'Bad Füssing',\n 'Pfarrkirchen',\n 'Neuhaus am Inn',\n 'Ruhstorf a.d. Rott',\n 'Rotthalmünster',\n 'Kirchham',\n 'München',\n 'Bernhardswald',\n 'Ortenburg - Söldenau',\n 'Obernzell - Haar',\n 'Aidenbach',\n 'Dingolfing',\n 'Waldkirchen (Niederbayern)',\n 'Spiegelau',\n 'Bamberg',\n 'Plattling',\n 'Braunau am Inn - Tal',\n 'Erding',\n 'Neukirchen-Vluyn',\n 'Grafenau (Niederbayern)',\n 'Ruhstorf an der Rott - Schmidham',\n 'Oranienburg',\n 'Leipzig',\n 'Luhe-Wildenau',\n 'Jandelsbrunn',\n 'Grünhainichen',\n 'Bad Griesbach i. Rottal',\n 'Bad Griesbach i.Rottal',\n 'Engelhartszell',\n 'Tiefenbach (Kreis Passa',\n 'Altensteig',\n 'Rathaus',\n 'Simbach a. Inn',\n 'Bad Lippspringe',\n 'Haan',\n 'Sömmerda',\n 'Hauzenberg',\n 'Titting',\n 'Bad Birnbach',\n 'Hamburg',\n 'Cham',\n 'Freising',\n 'Köln',\n 'Thurmansbang',\n 'Breitenberg',\n 'Nürnberg',\n 'Ortenburg',\n 'Breitenberg - Hangerleiten',\n 'Münster (Westf)',\n 'Roding',\n 'Rannungen',\n 'Osterhofen',\n 'Nettetal',\n 'Münnerstadt',\n 'Tettenweis',\n 'Salzweg - Straßkirchen',\n 'Leopoldshöhe',\n 'Innsbruck',\n 'Beutelsbach',\n 'Hammelburg',\n 'Bad Kissingen',\n 'Bernried (Niederbayern)',\n 'Maßbach',\n 'Kirchham - Tutting',\n 'Schonungen',\n 'Malching',\n 'Breitenberg (Niederbayern)',\n 'Hauzenberg - Haghäusel',\n 'Kößlarn',\n 'Mühldorf a. Inn',\n 'Perlesreut',\n 'Ortenburg - Vorderhainberg',\n 'Büchl',\n 'Hauzenberg - Schachert',\n 'Österreich',\n 'Zwiesel',\n 'Wien - . Bezirk-Margareten',\n 'Sylt',\n 'Bayerisch Eisenstein',\n 'Lindberg',\n 'Lohberg',\n 'Villingen-Schwenningen',\n 'Bayerbach - Sagmühle',\n 'Neukirchen b. Hl. Blut',\n 'Tann (Niederbayern)',\n 'Straßkirchen',\n 'Wurmannsquick',\n 'Eggenfelden',\n 'Landshut',\n 'Gangkofen',\n 'Augsburg (Bayern)',\n 'Ingolstadt',\n 'Schierling',\n 'Außernzell',\n 'Tiefenbach - Unterjacking',\n 'Sonnen',\n 'Tiefenbach - Schwaiberg',\n 'Aicha vorm Wald',\n 'Passau - Innstadt',\n 'Moosburg an der Isar',\n 'Ergolding',\n 'Mannheim',\n 'Braunschweig',\n 'Ruhstorf an der Rott - Eholfing',\n 'Sulzemoos',\n 'Reisbach',\n 'Reisbach - Perastorf',\n 'Haarbach',\n 'Traitsching',\n 'Velden (Vils)',\n 'Reisbach - Failnbach',\n 'Gerolzhofen',\n 'Würzburg',\n 'Bayreuth',\n 'Miesbach',\n 'Murnau a. Staffelsee',\n 'Unterföhring',\n 'Landau an der Isar',\n 'Riedenburg',\n 'Landau a.d. Isar',\n 'Hutthurm - Leoprechting',\n 'Ramsau am Dachstein',\n 'Feucht',\n 'Kaufering',\n 'Hauzenberg - Oberdiendorf',\n 'Kelheim',\n 'Wiesbaden',\n 'Winzer',\n 'Kolitzheim',\n 'Breitenberg - Gollnerberg',\n 'Neuburg am Inn - Pfenningbach',\n 'Wegscheid - Pölzöd',\n 'Biebesheim am Rhein',\n 'Arnstorf',\n 'Wegscheid - Hartmannsreut',\n 'Hauzenberg - Oberneuhäusl',\n 'Neuburg am Inn - Dommelstadl',\n 'Obererthal',\n 'Weinstadt',\n 'Stendal',\n 'Tiefenbach (Kr',\n 'Schönau',\n 'Kiel',\n 'Erfurt',\n 'Wartmannsroth',\n 'Dietersburg',\n 'Thurmansbang - Solla',\n 'Obernzell - Erlau',\n 'Tiefenbach (Krei',\n 'Paderborn',\n 'Malching - Nündorf',\n 'Grafenau',\n 'Linz',\n 'Hermeskeil']"
     },
     "execution_count": 36,
     "metadata": {},
     "output_type": "execute_result"
    }
   ],
   "source": [
    "ond_wdw_notuseful_orte"
   ],
   "metadata": {
    "collapsed": false,
    "pycharm": {
     "name": "#%%\n"
    }
   }
  },
  {
   "cell_type": "markdown",
   "source": [
    "### Überprüfen der nicht Zuweisungen"
   ],
   "metadata": {
    "collapsed": false,
    "pycharm": {
     "name": "#%% md\n"
    }
   }
  },
  {
   "cell_type": "code",
   "execution_count": 37,
   "outputs": [
    {
     "data": {
      "text/plain": "Empty DataFrame\nColumns: [created_at, travel_at, from_place, to_place]\nIndex: []",
      "text/html": "<div>\n<style scoped>\n    .dataframe tbody tr th:only-of-type {\n        vertical-align: middle;\n    }\n\n    .dataframe tbody tr th {\n        vertical-align: top;\n    }\n\n    .dataframe thead th {\n        text-align: right;\n    }\n</style>\n<table border=\"1\" class=\"dataframe\">\n  <thead>\n    <tr style=\"text-align: right;\">\n      <th></th>\n      <th>created_at</th>\n      <th>travel_at</th>\n      <th>from_place</th>\n      <th>to_place</th>\n    </tr>\n  </thead>\n  <tbody>\n  </tbody>\n</table>\n</div>"
     },
     "execution_count": 37,
     "metadata": {},
     "output_type": "execute_result"
    }
   ],
   "source": [
    "check_for=''\n",
    "wdw_df[(~wdw_df.index.isin(ond_wdw_indexes)) & (wdw_df.from_place==check_for)]"
   ],
   "metadata": {
    "collapsed": false,
    "pycharm": {
     "name": "#%%\n"
    }
   }
  },
  {
   "cell_type": "markdown",
   "source": [
    "### Merging"
   ],
   "metadata": {
    "collapsed": false,
    "pycharm": {
     "name": "#%% md\n"
    }
   }
  },
  {
   "cell_type": "code",
   "execution_count": 38,
   "outputs": [
    {
     "name": "stdout",
     "output_type": "stream",
     "text": [
      "2013\n",
      "1443\n"
     ]
    }
   ],
   "source": [
    "print(len(ond_df_with_feat[ond_df_with_feat['wdw_feature']>0]))\n",
    "print(len(ond_wdw_df))"
   ],
   "metadata": {
    "collapsed": false,
    "pycharm": {
     "name": "#%%\n"
    }
   }
  },
  {
   "cell_type": "markdown",
   "source": [
    "# Wetter"
   ],
   "metadata": {
    "collapsed": false,
    "pycharm": {
     "name": "#%% md\n"
    }
   }
  },
  {
   "cell_type": "code",
   "execution_count": 87,
   "outputs": [],
   "source": [
    "def correct_nf(row):\n",
    "    if row['Niederschlag'] == 0:\n",
    "        row['Niederschlagsform']=0\n",
    "\n",
    "    return row"
   ],
   "metadata": {
    "collapsed": false,
    "pycharm": {
     "name": "#%%\n"
    }
   }
  },
  {
   "cell_type": "code",
   "execution_count": 88,
   "outputs": [],
   "source": [
    "we_df=pd.read_csv(base_path+'./Dat_Wetter.csv',sep=';')"
   ],
   "metadata": {
    "collapsed": false,
    "pycharm": {
     "name": "#%%\n"
    }
   }
  },
  {
   "cell_type": "markdown",
   "source": [
    "## Falls Nierderschlag = 0 -> Niederschlagsform auch 0"
   ],
   "metadata": {
    "collapsed": false,
    "pycharm": {
     "name": "#%% md\n"
    }
   }
  },
  {
   "cell_type": "code",
   "execution_count": 89,
   "outputs": [],
   "source": [
    "we_df=we_df.apply(correct_nf,axis=1)"
   ],
   "metadata": {
    "collapsed": false,
    "pycharm": {
     "name": "#%%\n"
    }
   }
  },
  {
   "cell_type": "code",
   "execution_count": 90,
   "outputs": [
    {
     "data": {
      "text/plain": "Empty DataFrame\nColumns: [Date, Niederschlagshoehe, Niederschlag, Niederschlagsform, Globalstrahlung, Sonnenscheindauer, Zenit, Lufttemperatur, relative_Feuchte, Windgeschwindigkeit, Windrichtung, Wettertyp]\nIndex: []",
      "text/html": "<div>\n<style scoped>\n    .dataframe tbody tr th:only-of-type {\n        vertical-align: middle;\n    }\n\n    .dataframe tbody tr th {\n        vertical-align: top;\n    }\n\n    .dataframe thead th {\n        text-align: right;\n    }\n</style>\n<table border=\"1\" class=\"dataframe\">\n  <thead>\n    <tr style=\"text-align: right;\">\n      <th></th>\n      <th>Date</th>\n      <th>Niederschlagshoehe</th>\n      <th>Niederschlag</th>\n      <th>Niederschlagsform</th>\n      <th>Globalstrahlung</th>\n      <th>Sonnenscheindauer</th>\n      <th>Zenit</th>\n      <th>Lufttemperatur</th>\n      <th>relative_Feuchte</th>\n      <th>Windgeschwindigkeit</th>\n      <th>Windrichtung</th>\n      <th>Wettertyp</th>\n    </tr>\n  </thead>\n  <tbody>\n  </tbody>\n</table>\n</div>"
     },
     "execution_count": 90,
     "metadata": {},
     "output_type": "execute_result"
    }
   ],
   "source": [
    "we_df[(we_df['Niederschlag']==0) & (we_df['Niederschlagsform']!=0)]"
   ],
   "metadata": {
    "collapsed": false,
    "pycharm": {
     "name": "#%%\n"
    }
   }
  },
  {
   "cell_type": "markdown",
   "source": [
    "## Create DUmmy for Niederschlagsform und Wettertyp"
   ],
   "metadata": {
    "collapsed": false,
    "pycharm": {
     "name": "#%% md\n"
    }
   }
  },
  {
   "cell_type": "code",
   "execution_count": 91,
   "outputs": [],
   "source": [
    "def fillDummyNfWt(row,testDict=None):\n",
    "    nf='Niederschlagsform_'+str(row['Niederschlagsform'])\n",
    "    wt='Wettertyp_'+str(row['Wettertyp'])\n",
    "    row[nf]=1\n",
    "    row[wt]=1\n",
    "\n",
    "    if testDict is not None:\n",
    "        testDict['Date'].append(row['Date'])\n",
    "        testDict['Niederschlagsform'].append(nf)\n",
    "        testDict['Wettertyp'].append(wt)\n",
    "\n",
    "    return row"
   ],
   "metadata": {
    "collapsed": false,
    "pycharm": {
     "name": "#%%\n"
    }
   }
  },
  {
   "cell_type": "code",
   "execution_count": 92,
   "outputs": [
    {
     "name": "stdout",
     "output_type": "stream",
     "text": [
      "[-999, 6, 0, 8, 7, 4]\n",
      "[152, 130, 122, 120, 110, 157, 123, 151, 172, 161, 173, 124, 171, 100, 125, -999, 177, 168, 154, 155, 175, 167, 164, 104, 135, 162, 141, 174, 163, 153, 143, 121, 140]\n"
     ]
    }
   ],
   "source": [
    "nf_unique=we_df['Niederschlagsform'].unique().tolist()\n",
    "print(nf_unique)\n",
    "wt_unique=we_df['Wettertyp'].unique().tolist()\n",
    "print(wt_unique)\n",
    "\n",
    "for i in nf_unique:\n",
    "    we_df['Niederschlagsform_'+str(i)]=0\n",
    "\n",
    "for i in wt_unique:\n",
    "    we_df['Wettertyp_'+str(i)]=0"
   ],
   "metadata": {
    "collapsed": false,
    "pycharm": {
     "name": "#%%\n"
    }
   }
  },
  {
   "cell_type": "code",
   "execution_count": 93,
   "outputs": [],
   "source": [
    "testDict={\n",
    "    'Date':[],\n",
    "    'Niederschlagsform':[],\n",
    "    'Wettertyp':[]\n",
    "}\n",
    "we_df=we_df.apply(lambda row: fillDummyNfWt(row,testDict),axis=1)"
   ],
   "metadata": {
    "collapsed": false,
    "pycharm": {
     "name": "#%%\n"
    }
   }
  },
  {
   "cell_type": "code",
   "execution_count": 94,
   "outputs": [
    {
     "name": "stdout",
     "output_type": "stream",
     "text": [
      "Result len:8760, Df len: 8760\n"
     ]
    },
    {
     "data": {
      "text/plain": "                   Date       Niederschlagsform      Wettertyp\n0   2019-01-01 00:00:00  Niederschlagsform_-999  Wettertyp_152\n1   2019-01-01 01:00:00     Niederschlagsform_6  Wettertyp_130\n2   2019-01-01 02:00:00     Niederschlagsform_6  Wettertyp_152\n3   2019-01-01 03:00:00  Niederschlagsform_-999  Wettertyp_130\n4   2019-01-01 04:00:00     Niederschlagsform_6  Wettertyp_130\n5   2019-01-01 05:00:00     Niederschlagsform_6  Wettertyp_122\n6   2019-01-01 06:00:00  Niederschlagsform_-999  Wettertyp_122\n7   2019-01-01 07:00:00     Niederschlagsform_6  Wettertyp_130\n8   2019-01-01 08:00:00     Niederschlagsform_0  Wettertyp_120\n9   2019-01-01 09:00:00     Niederschlagsform_0  Wettertyp_110\n10  2019-01-01 10:00:00     Niederschlagsform_0  Wettertyp_110\n11  2019-01-01 11:00:00     Niederschlagsform_0  Wettertyp_110\n12  2019-01-01 12:00:00  Niederschlagsform_-999  Wettertyp_122\n13  2019-01-01 13:00:00     Niederschlagsform_6  Wettertyp_157\n14  2019-01-01 14:00:00     Niederschlagsform_6  Wettertyp_123\n15  2019-01-01 15:00:00  Niederschlagsform_-999  Wettertyp_157\n16  2019-01-01 16:00:00     Niederschlagsform_6  Wettertyp_157\n17  2019-01-01 17:00:00     Niederschlagsform_6  Wettertyp_151\n18  2019-01-01 18:00:00  Niederschlagsform_-999  Wettertyp_151\n19  2019-01-01 19:00:00     Niederschlagsform_6  Wettertyp_157",
      "text/html": "<div>\n<style scoped>\n    .dataframe tbody tr th:only-of-type {\n        vertical-align: middle;\n    }\n\n    .dataframe tbody tr th {\n        vertical-align: top;\n    }\n\n    .dataframe thead th {\n        text-align: right;\n    }\n</style>\n<table border=\"1\" class=\"dataframe\">\n  <thead>\n    <tr style=\"text-align: right;\">\n      <th></th>\n      <th>Date</th>\n      <th>Niederschlagsform</th>\n      <th>Wettertyp</th>\n    </tr>\n  </thead>\n  <tbody>\n    <tr>\n      <th>0</th>\n      <td>2019-01-01 00:00:00</td>\n      <td>Niederschlagsform_-999</td>\n      <td>Wettertyp_152</td>\n    </tr>\n    <tr>\n      <th>1</th>\n      <td>2019-01-01 01:00:00</td>\n      <td>Niederschlagsform_6</td>\n      <td>Wettertyp_130</td>\n    </tr>\n    <tr>\n      <th>2</th>\n      <td>2019-01-01 02:00:00</td>\n      <td>Niederschlagsform_6</td>\n      <td>Wettertyp_152</td>\n    </tr>\n    <tr>\n      <th>3</th>\n      <td>2019-01-01 03:00:00</td>\n      <td>Niederschlagsform_-999</td>\n      <td>Wettertyp_130</td>\n    </tr>\n    <tr>\n      <th>4</th>\n      <td>2019-01-01 04:00:00</td>\n      <td>Niederschlagsform_6</td>\n      <td>Wettertyp_130</td>\n    </tr>\n    <tr>\n      <th>5</th>\n      <td>2019-01-01 05:00:00</td>\n      <td>Niederschlagsform_6</td>\n      <td>Wettertyp_122</td>\n    </tr>\n    <tr>\n      <th>6</th>\n      <td>2019-01-01 06:00:00</td>\n      <td>Niederschlagsform_-999</td>\n      <td>Wettertyp_122</td>\n    </tr>\n    <tr>\n      <th>7</th>\n      <td>2019-01-01 07:00:00</td>\n      <td>Niederschlagsform_6</td>\n      <td>Wettertyp_130</td>\n    </tr>\n    <tr>\n      <th>8</th>\n      <td>2019-01-01 08:00:00</td>\n      <td>Niederschlagsform_0</td>\n      <td>Wettertyp_120</td>\n    </tr>\n    <tr>\n      <th>9</th>\n      <td>2019-01-01 09:00:00</td>\n      <td>Niederschlagsform_0</td>\n      <td>Wettertyp_110</td>\n    </tr>\n    <tr>\n      <th>10</th>\n      <td>2019-01-01 10:00:00</td>\n      <td>Niederschlagsform_0</td>\n      <td>Wettertyp_110</td>\n    </tr>\n    <tr>\n      <th>11</th>\n      <td>2019-01-01 11:00:00</td>\n      <td>Niederschlagsform_0</td>\n      <td>Wettertyp_110</td>\n    </tr>\n    <tr>\n      <th>12</th>\n      <td>2019-01-01 12:00:00</td>\n      <td>Niederschlagsform_-999</td>\n      <td>Wettertyp_122</td>\n    </tr>\n    <tr>\n      <th>13</th>\n      <td>2019-01-01 13:00:00</td>\n      <td>Niederschlagsform_6</td>\n      <td>Wettertyp_157</td>\n    </tr>\n    <tr>\n      <th>14</th>\n      <td>2019-01-01 14:00:00</td>\n      <td>Niederschlagsform_6</td>\n      <td>Wettertyp_123</td>\n    </tr>\n    <tr>\n      <th>15</th>\n      <td>2019-01-01 15:00:00</td>\n      <td>Niederschlagsform_-999</td>\n      <td>Wettertyp_157</td>\n    </tr>\n    <tr>\n      <th>16</th>\n      <td>2019-01-01 16:00:00</td>\n      <td>Niederschlagsform_6</td>\n      <td>Wettertyp_157</td>\n    </tr>\n    <tr>\n      <th>17</th>\n      <td>2019-01-01 17:00:00</td>\n      <td>Niederschlagsform_6</td>\n      <td>Wettertyp_151</td>\n    </tr>\n    <tr>\n      <th>18</th>\n      <td>2019-01-01 18:00:00</td>\n      <td>Niederschlagsform_-999</td>\n      <td>Wettertyp_151</td>\n    </tr>\n    <tr>\n      <th>19</th>\n      <td>2019-01-01 19:00:00</td>\n      <td>Niederschlagsform_6</td>\n      <td>Wettertyp_157</td>\n    </tr>\n  </tbody>\n</table>\n</div>"
     },
     "execution_count": 94,
     "metadata": {},
     "output_type": "execute_result"
    }
   ],
   "source": [
    "result=pd.DataFrame(data=testDict)\n",
    "print('Result len:'+str(len(result))+', Df len: '+str(len(we_df)))\n",
    "result.head(20)"
   ],
   "metadata": {
    "collapsed": false,
    "pycharm": {
     "name": "#%%\n"
    }
   }
  },
  {
   "cell_type": "code",
   "execution_count": 95,
   "outputs": [],
   "source": [
    "we_df.drop('Niederschlagsform', axis=1,inplace=True)\n",
    "we_df.drop('Wettertyp', axis=1,inplace=True)"
   ],
   "metadata": {
    "collapsed": false,
    "pycharm": {
     "name": "#%%\n"
    }
   }
  },
  {
   "cell_type": "code",
   "execution_count": 96,
   "outputs": [
    {
     "data": {
      "text/plain": "                   Date Niederschlagshoehe  Niederschlag  Globalstrahlung  \\\n0   2019-01-01 00:00:00                0,3             1                0   \n1   2019-01-01 01:00:00                0,1             1                0   \n2   2019-01-01 02:00:00                0,1             1                0   \n3   2019-01-01 03:00:00                0,1             1                0   \n4   2019-01-01 04:00:00                  0             1                0   \n5   2019-01-01 05:00:00                  0             1                0   \n6   2019-01-01 06:00:00                  0             1                0   \n7   2019-01-01 07:00:00                  0             1                0   \n8   2019-01-01 08:00:00                  0             0                3   \n9   2019-01-01 09:00:00                  0             0                7   \n10  2019-01-01 10:00:00                  0             0               10   \n11  2019-01-01 11:00:00                  0             0               16   \n12  2019-01-01 12:00:00                  0             1                8   \n13  2019-01-01 13:00:00                  0             1                4   \n14  2019-01-01 14:00:00                0,1             1                7   \n15  2019-01-01 15:00:00                0,6             1                2   \n16  2019-01-01 16:00:00                0,8             1                0   \n17  2019-01-01 17:00:00                0,4             1                0   \n18  2019-01-01 18:00:00                0,5             1                0   \n19  2019-01-01 19:00:00                0,3             1                0   \n\n    Sonnenscheindauer   Zenit Lufttemperatur  relative_Feuchte  \\\n0                   0  153,81            3,2               100   \n1                   0  148,89            4,2               100   \n2                   0  140,95            4,4               100   \n3                   0  131,62            4,4               100   \n4                   0  121,76            4,2               100   \n5                   0  111,88            4,1               100   \n6                   0  102,33            4,1                99   \n7                   0   93,43            4,1               100   \n8                   0   85,53            4,2                94   \n9                   0   79,02            4,2                93   \n10                  0   74,33            4,3                90   \n11                  0   71,86            4,5                89   \n12                  0   71,86            4,5                88   \n13                  0   74,32            4,1                92   \n14                  0      79            4,1                93   \n15                  0   85,51            3,8               100   \n16                  0   93,41            3,9                99   \n17                  0   102,3            3,9                96   \n18                  0  111,85            3,9                97   \n19                  0  121,72            3,9                96   \n\n   Windgeschwindigkeit  Windrichtung  ...  Wettertyp_104  Wettertyp_135  \\\n0                  2,2           220  ...              0              0   \n1                  3,1           240  ...              0              0   \n2                  4,2           250  ...              0              0   \n3                  4,7           250  ...              0              0   \n4                  4,3           240  ...              0              0   \n5                  4,4           240  ...              0              0   \n6                  4,8           240  ...              0              0   \n7                  6,5           240  ...              0              0   \n8                  6,1           250  ...              0              0   \n9                  6,4           250  ...              0              0   \n10                 7,1           240  ...              0              0   \n11                 6,7           240  ...              0              0   \n12                 6,5           240  ...              0              0   \n13                   8           250  ...              0              0   \n14                 7,7           240  ...              0              0   \n15                 6,7           240  ...              0              0   \n16                 7,9           250  ...              0              0   \n17                   8           260  ...              0              0   \n18                 7,3           260  ...              0              0   \n19                 9,4           250  ...              0              0   \n\n    Wettertyp_162  Wettertyp_141  Wettertyp_174  Wettertyp_163  Wettertyp_153  \\\n0               0              0              0              0              0   \n1               0              0              0              0              0   \n2               0              0              0              0              0   \n3               0              0              0              0              0   \n4               0              0              0              0              0   \n5               0              0              0              0              0   \n6               0              0              0              0              0   \n7               0              0              0              0              0   \n8               0              0              0              0              0   \n9               0              0              0              0              0   \n10              0              0              0              0              0   \n11              0              0              0              0              0   \n12              0              0              0              0              0   \n13              0              0              0              0              0   \n14              0              0              0              0              0   \n15              0              0              0              0              0   \n16              0              0              0              0              0   \n17              0              0              0              0              0   \n18              0              0              0              0              0   \n19              0              0              0              0              0   \n\n    Wettertyp_143  Wettertyp_121  Wettertyp_140  \n0               0              0              0  \n1               0              0              0  \n2               0              0              0  \n3               0              0              0  \n4               0              0              0  \n5               0              0              0  \n6               0              0              0  \n7               0              0              0  \n8               0              0              0  \n9               0              0              0  \n10              0              0              0  \n11              0              0              0  \n12              0              0              0  \n13              0              0              0  \n14              0              0              0  \n15              0              0              0  \n16              0              0              0  \n17              0              0              0  \n18              0              0              0  \n19              0              0              0  \n\n[20 rows x 49 columns]",
      "text/html": "<div>\n<style scoped>\n    .dataframe tbody tr th:only-of-type {\n        vertical-align: middle;\n    }\n\n    .dataframe tbody tr th {\n        vertical-align: top;\n    }\n\n    .dataframe thead th {\n        text-align: right;\n    }\n</style>\n<table border=\"1\" class=\"dataframe\">\n  <thead>\n    <tr style=\"text-align: right;\">\n      <th></th>\n      <th>Date</th>\n      <th>Niederschlagshoehe</th>\n      <th>Niederschlag</th>\n      <th>Globalstrahlung</th>\n      <th>Sonnenscheindauer</th>\n      <th>Zenit</th>\n      <th>Lufttemperatur</th>\n      <th>relative_Feuchte</th>\n      <th>Windgeschwindigkeit</th>\n      <th>Windrichtung</th>\n      <th>...</th>\n      <th>Wettertyp_104</th>\n      <th>Wettertyp_135</th>\n      <th>Wettertyp_162</th>\n      <th>Wettertyp_141</th>\n      <th>Wettertyp_174</th>\n      <th>Wettertyp_163</th>\n      <th>Wettertyp_153</th>\n      <th>Wettertyp_143</th>\n      <th>Wettertyp_121</th>\n      <th>Wettertyp_140</th>\n    </tr>\n  </thead>\n  <tbody>\n    <tr>\n      <th>0</th>\n      <td>2019-01-01 00:00:00</td>\n      <td>0,3</td>\n      <td>1</td>\n      <td>0</td>\n      <td>0</td>\n      <td>153,81</td>\n      <td>3,2</td>\n      <td>100</td>\n      <td>2,2</td>\n      <td>220</td>\n      <td>...</td>\n      <td>0</td>\n      <td>0</td>\n      <td>0</td>\n      <td>0</td>\n      <td>0</td>\n      <td>0</td>\n      <td>0</td>\n      <td>0</td>\n      <td>0</td>\n      <td>0</td>\n    </tr>\n    <tr>\n      <th>1</th>\n      <td>2019-01-01 01:00:00</td>\n      <td>0,1</td>\n      <td>1</td>\n      <td>0</td>\n      <td>0</td>\n      <td>148,89</td>\n      <td>4,2</td>\n      <td>100</td>\n      <td>3,1</td>\n      <td>240</td>\n      <td>...</td>\n      <td>0</td>\n      <td>0</td>\n      <td>0</td>\n      <td>0</td>\n      <td>0</td>\n      <td>0</td>\n      <td>0</td>\n      <td>0</td>\n      <td>0</td>\n      <td>0</td>\n    </tr>\n    <tr>\n      <th>2</th>\n      <td>2019-01-01 02:00:00</td>\n      <td>0,1</td>\n      <td>1</td>\n      <td>0</td>\n      <td>0</td>\n      <td>140,95</td>\n      <td>4,4</td>\n      <td>100</td>\n      <td>4,2</td>\n      <td>250</td>\n      <td>...</td>\n      <td>0</td>\n      <td>0</td>\n      <td>0</td>\n      <td>0</td>\n      <td>0</td>\n      <td>0</td>\n      <td>0</td>\n      <td>0</td>\n      <td>0</td>\n      <td>0</td>\n    </tr>\n    <tr>\n      <th>3</th>\n      <td>2019-01-01 03:00:00</td>\n      <td>0,1</td>\n      <td>1</td>\n      <td>0</td>\n      <td>0</td>\n      <td>131,62</td>\n      <td>4,4</td>\n      <td>100</td>\n      <td>4,7</td>\n      <td>250</td>\n      <td>...</td>\n      <td>0</td>\n      <td>0</td>\n      <td>0</td>\n      <td>0</td>\n      <td>0</td>\n      <td>0</td>\n      <td>0</td>\n      <td>0</td>\n      <td>0</td>\n      <td>0</td>\n    </tr>\n    <tr>\n      <th>4</th>\n      <td>2019-01-01 04:00:00</td>\n      <td>0</td>\n      <td>1</td>\n      <td>0</td>\n      <td>0</td>\n      <td>121,76</td>\n      <td>4,2</td>\n      <td>100</td>\n      <td>4,3</td>\n      <td>240</td>\n      <td>...</td>\n      <td>0</td>\n      <td>0</td>\n      <td>0</td>\n      <td>0</td>\n      <td>0</td>\n      <td>0</td>\n      <td>0</td>\n      <td>0</td>\n      <td>0</td>\n      <td>0</td>\n    </tr>\n    <tr>\n      <th>5</th>\n      <td>2019-01-01 05:00:00</td>\n      <td>0</td>\n      <td>1</td>\n      <td>0</td>\n      <td>0</td>\n      <td>111,88</td>\n      <td>4,1</td>\n      <td>100</td>\n      <td>4,4</td>\n      <td>240</td>\n      <td>...</td>\n      <td>0</td>\n      <td>0</td>\n      <td>0</td>\n      <td>0</td>\n      <td>0</td>\n      <td>0</td>\n      <td>0</td>\n      <td>0</td>\n      <td>0</td>\n      <td>0</td>\n    </tr>\n    <tr>\n      <th>6</th>\n      <td>2019-01-01 06:00:00</td>\n      <td>0</td>\n      <td>1</td>\n      <td>0</td>\n      <td>0</td>\n      <td>102,33</td>\n      <td>4,1</td>\n      <td>99</td>\n      <td>4,8</td>\n      <td>240</td>\n      <td>...</td>\n      <td>0</td>\n      <td>0</td>\n      <td>0</td>\n      <td>0</td>\n      <td>0</td>\n      <td>0</td>\n      <td>0</td>\n      <td>0</td>\n      <td>0</td>\n      <td>0</td>\n    </tr>\n    <tr>\n      <th>7</th>\n      <td>2019-01-01 07:00:00</td>\n      <td>0</td>\n      <td>1</td>\n      <td>0</td>\n      <td>0</td>\n      <td>93,43</td>\n      <td>4,1</td>\n      <td>100</td>\n      <td>6,5</td>\n      <td>240</td>\n      <td>...</td>\n      <td>0</td>\n      <td>0</td>\n      <td>0</td>\n      <td>0</td>\n      <td>0</td>\n      <td>0</td>\n      <td>0</td>\n      <td>0</td>\n      <td>0</td>\n      <td>0</td>\n    </tr>\n    <tr>\n      <th>8</th>\n      <td>2019-01-01 08:00:00</td>\n      <td>0</td>\n      <td>0</td>\n      <td>3</td>\n      <td>0</td>\n      <td>85,53</td>\n      <td>4,2</td>\n      <td>94</td>\n      <td>6,1</td>\n      <td>250</td>\n      <td>...</td>\n      <td>0</td>\n      <td>0</td>\n      <td>0</td>\n      <td>0</td>\n      <td>0</td>\n      <td>0</td>\n      <td>0</td>\n      <td>0</td>\n      <td>0</td>\n      <td>0</td>\n    </tr>\n    <tr>\n      <th>9</th>\n      <td>2019-01-01 09:00:00</td>\n      <td>0</td>\n      <td>0</td>\n      <td>7</td>\n      <td>0</td>\n      <td>79,02</td>\n      <td>4,2</td>\n      <td>93</td>\n      <td>6,4</td>\n      <td>250</td>\n      <td>...</td>\n      <td>0</td>\n      <td>0</td>\n      <td>0</td>\n      <td>0</td>\n      <td>0</td>\n      <td>0</td>\n      <td>0</td>\n      <td>0</td>\n      <td>0</td>\n      <td>0</td>\n    </tr>\n    <tr>\n      <th>10</th>\n      <td>2019-01-01 10:00:00</td>\n      <td>0</td>\n      <td>0</td>\n      <td>10</td>\n      <td>0</td>\n      <td>74,33</td>\n      <td>4,3</td>\n      <td>90</td>\n      <td>7,1</td>\n      <td>240</td>\n      <td>...</td>\n      <td>0</td>\n      <td>0</td>\n      <td>0</td>\n      <td>0</td>\n      <td>0</td>\n      <td>0</td>\n      <td>0</td>\n      <td>0</td>\n      <td>0</td>\n      <td>0</td>\n    </tr>\n    <tr>\n      <th>11</th>\n      <td>2019-01-01 11:00:00</td>\n      <td>0</td>\n      <td>0</td>\n      <td>16</td>\n      <td>0</td>\n      <td>71,86</td>\n      <td>4,5</td>\n      <td>89</td>\n      <td>6,7</td>\n      <td>240</td>\n      <td>...</td>\n      <td>0</td>\n      <td>0</td>\n      <td>0</td>\n      <td>0</td>\n      <td>0</td>\n      <td>0</td>\n      <td>0</td>\n      <td>0</td>\n      <td>0</td>\n      <td>0</td>\n    </tr>\n    <tr>\n      <th>12</th>\n      <td>2019-01-01 12:00:00</td>\n      <td>0</td>\n      <td>1</td>\n      <td>8</td>\n      <td>0</td>\n      <td>71,86</td>\n      <td>4,5</td>\n      <td>88</td>\n      <td>6,5</td>\n      <td>240</td>\n      <td>...</td>\n      <td>0</td>\n      <td>0</td>\n      <td>0</td>\n      <td>0</td>\n      <td>0</td>\n      <td>0</td>\n      <td>0</td>\n      <td>0</td>\n      <td>0</td>\n      <td>0</td>\n    </tr>\n    <tr>\n      <th>13</th>\n      <td>2019-01-01 13:00:00</td>\n      <td>0</td>\n      <td>1</td>\n      <td>4</td>\n      <td>0</td>\n      <td>74,32</td>\n      <td>4,1</td>\n      <td>92</td>\n      <td>8</td>\n      <td>250</td>\n      <td>...</td>\n      <td>0</td>\n      <td>0</td>\n      <td>0</td>\n      <td>0</td>\n      <td>0</td>\n      <td>0</td>\n      <td>0</td>\n      <td>0</td>\n      <td>0</td>\n      <td>0</td>\n    </tr>\n    <tr>\n      <th>14</th>\n      <td>2019-01-01 14:00:00</td>\n      <td>0,1</td>\n      <td>1</td>\n      <td>7</td>\n      <td>0</td>\n      <td>79</td>\n      <td>4,1</td>\n      <td>93</td>\n      <td>7,7</td>\n      <td>240</td>\n      <td>...</td>\n      <td>0</td>\n      <td>0</td>\n      <td>0</td>\n      <td>0</td>\n      <td>0</td>\n      <td>0</td>\n      <td>0</td>\n      <td>0</td>\n      <td>0</td>\n      <td>0</td>\n    </tr>\n    <tr>\n      <th>15</th>\n      <td>2019-01-01 15:00:00</td>\n      <td>0,6</td>\n      <td>1</td>\n      <td>2</td>\n      <td>0</td>\n      <td>85,51</td>\n      <td>3,8</td>\n      <td>100</td>\n      <td>6,7</td>\n      <td>240</td>\n      <td>...</td>\n      <td>0</td>\n      <td>0</td>\n      <td>0</td>\n      <td>0</td>\n      <td>0</td>\n      <td>0</td>\n      <td>0</td>\n      <td>0</td>\n      <td>0</td>\n      <td>0</td>\n    </tr>\n    <tr>\n      <th>16</th>\n      <td>2019-01-01 16:00:00</td>\n      <td>0,8</td>\n      <td>1</td>\n      <td>0</td>\n      <td>0</td>\n      <td>93,41</td>\n      <td>3,9</td>\n      <td>99</td>\n      <td>7,9</td>\n      <td>250</td>\n      <td>...</td>\n      <td>0</td>\n      <td>0</td>\n      <td>0</td>\n      <td>0</td>\n      <td>0</td>\n      <td>0</td>\n      <td>0</td>\n      <td>0</td>\n      <td>0</td>\n      <td>0</td>\n    </tr>\n    <tr>\n      <th>17</th>\n      <td>2019-01-01 17:00:00</td>\n      <td>0,4</td>\n      <td>1</td>\n      <td>0</td>\n      <td>0</td>\n      <td>102,3</td>\n      <td>3,9</td>\n      <td>96</td>\n      <td>8</td>\n      <td>260</td>\n      <td>...</td>\n      <td>0</td>\n      <td>0</td>\n      <td>0</td>\n      <td>0</td>\n      <td>0</td>\n      <td>0</td>\n      <td>0</td>\n      <td>0</td>\n      <td>0</td>\n      <td>0</td>\n    </tr>\n    <tr>\n      <th>18</th>\n      <td>2019-01-01 18:00:00</td>\n      <td>0,5</td>\n      <td>1</td>\n      <td>0</td>\n      <td>0</td>\n      <td>111,85</td>\n      <td>3,9</td>\n      <td>97</td>\n      <td>7,3</td>\n      <td>260</td>\n      <td>...</td>\n      <td>0</td>\n      <td>0</td>\n      <td>0</td>\n      <td>0</td>\n      <td>0</td>\n      <td>0</td>\n      <td>0</td>\n      <td>0</td>\n      <td>0</td>\n      <td>0</td>\n    </tr>\n    <tr>\n      <th>19</th>\n      <td>2019-01-01 19:00:00</td>\n      <td>0,3</td>\n      <td>1</td>\n      <td>0</td>\n      <td>0</td>\n      <td>121,72</td>\n      <td>3,9</td>\n      <td>96</td>\n      <td>9,4</td>\n      <td>250</td>\n      <td>...</td>\n      <td>0</td>\n      <td>0</td>\n      <td>0</td>\n      <td>0</td>\n      <td>0</td>\n      <td>0</td>\n      <td>0</td>\n      <td>0</td>\n      <td>0</td>\n      <td>0</td>\n    </tr>\n  </tbody>\n</table>\n<p>20 rows × 49 columns</p>\n</div>"
     },
     "execution_count": 96,
     "metadata": {},
     "output_type": "execute_result"
    }
   ],
   "source": [
    "we_df.head(20)"
   ],
   "metadata": {
    "collapsed": false,
    "pycharm": {
     "name": "#%%\n"
    }
   }
  },
  {
   "cell_type": "markdown",
   "source": [
    "# Write to CSV"
   ],
   "metadata": {
    "collapsed": false,
    "pycharm": {
     "name": "#%% md\n"
    }
   }
  },
  {
   "cell_type": "code",
   "execution_count": 40,
   "outputs": [],
   "source": [
    "Path(\"./modified\").mkdir(exist_ok=True)"
   ],
   "metadata": {
    "collapsed": false,
    "pycharm": {
     "name": "#%%\n"
    }
   }
  },
  {
   "cell_type": "code",
   "execution_count": 41,
   "outputs": [],
   "source": [
    "reg_df.to_csv(base_path+'/modified/regular_travel_mod.csv')"
   ],
   "metadata": {
    "collapsed": false,
    "pycharm": {
     "name": "#%%\n"
    }
   }
  },
  {
   "cell_type": "code",
   "execution_count": 42,
   "outputs": [],
   "source": [
    "reg_df_with_feat.to_csv(base_path+'/modified/regular_travel_mod_wdw_feat.csv')"
   ],
   "metadata": {
    "collapsed": false,
    "pycharm": {
     "name": "#%%\n"
    }
   }
  },
  {
   "cell_type": "code",
   "execution_count": 43,
   "outputs": [],
   "source": [
    "ond_df.to_csv(base_path+'/modified/on_demand_travel_mod.csv')"
   ],
   "metadata": {
    "collapsed": false,
    "pycharm": {
     "name": "#%%\n"
    }
   }
  },
  {
   "cell_type": "code",
   "execution_count": 44,
   "outputs": [],
   "source": [
    "ond_df_with_feat.to_csv(base_path+'/modified/on_demand_travel_mod_wdw_feat.csv')"
   ],
   "metadata": {
    "collapsed": false,
    "pycharm": {
     "name": "#%%\n"
    }
   }
  },
  {
   "cell_type": "code",
   "execution_count": 97,
   "outputs": [],
   "source": [
    "we_df.to_csv(base_path+'/modified/Dat_Wetter_mod.csv')"
   ],
   "metadata": {
    "collapsed": false,
    "pycharm": {
     "name": "#%%\n"
    }
   }
  },
  {
   "cell_type": "code",
   "execution_count": null,
   "outputs": [],
   "source": [],
   "metadata": {
    "collapsed": false,
    "pycharm": {
     "name": "#%%\n"
    }
   }
  }
 ],
 "metadata": {
  "kernelspec": {
   "display_name": "Python 3",
   "language": "python",
   "name": "python3"
  },
  "language_info": {
   "codemirror_mode": {
    "name": "ipython",
    "version": 2
   },
   "file_extension": ".py",
   "mimetype": "text/x-python",
   "name": "python",
   "nbconvert_exporter": "python",
   "pygments_lexer": "ipython2",
   "version": "2.7.6"
  }
 },
 "nbformat": 4,
 "nbformat_minor": 0
}